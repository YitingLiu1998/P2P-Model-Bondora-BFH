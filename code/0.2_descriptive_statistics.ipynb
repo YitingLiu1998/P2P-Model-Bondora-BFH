{
 "cells": [
  {
   "cell_type": "markdown",
   "id": "fa337018",
   "metadata": {},
   "source": [
    "Reading the sample data from Bondora and doing a descriptive analysis."
   ]
  },
  {
   "cell_type": "code",
   "execution_count": 1,
   "id": "6a2c3444",
   "metadata": {
    "ExecuteTime": {
     "end_time": "2023-05-22T09:33:50.508825Z",
     "start_time": "2023-05-22T09:33:50.506505Z"
    }
   },
   "outputs": [],
   "source": [
    "def install_missing_packages(package_names):\n",
    "    \"\"\"\n",
    "    Install Missing Packages\n",
    "\n",
    "    This function checks if a list of packages is already installed and installs any missing packages using pip.\n",
    "\n",
    "    Parameters:\n",
    "    - package_names (list): A list of package names to be installed.\n",
    "\n",
    "    Returns:\n",
    "    - None\n",
    "\n",
    "    Note: This function requires the `subprocess` and `importlib` modules to be imported.\n",
    "\n",
    "    Example Usage:\n",
    "    install_missing_packages(['h2o', 'numpy', 'pandas'])\n",
    "    \"\"\"\n",
    "    import importlib\n",
    "    import subprocess\n",
    "\n",
    "\n",
    "    for package_name in package_names:\n",
    "        try:\n",
    "            importlib.import_module(package_name)\n",
    "            print(f\"{package_name} package is already installed\")\n",
    "        except ImportError:\n",
    "            print(f\"{package_name} package not found, installing with pip...\")\n",
    "            subprocess.call(['pip', 'install', package_name])\n"
   ]
  },
  {
   "cell_type": "code",
   "execution_count": 2,
   "id": "227ac5d7",
   "metadata": {
    "ExecuteTime": {
     "end_time": "2023-05-22T09:33:50.601919Z",
     "start_time": "2023-05-22T09:33:50.512546Z"
    }
   },
   "outputs": [
    {
     "name": "stdout",
     "output_type": "stream",
     "text": [
      "openpyxl package is already installed\n"
     ]
    }
   ],
   "source": [
    "package_list = ['openpyxl']\n",
    "install_missing_packages(package_list)"
   ]
  },
  {
   "cell_type": "code",
   "execution_count": 13,
   "id": "45eefb85",
   "metadata": {
    "ExecuteTime": {
     "end_time": "2023-06-05T12:52:28.238355Z",
     "start_time": "2023-06-05T12:52:28.226099Z"
    }
   },
   "outputs": [],
   "source": [
    "import pandas as pd\n",
    "\n",
    "def are_dataframes_equal(df1, df2):\n",
    "    \"\"\"\n",
    "    This function checks whether two dataframes are equal, ignoring the order of columns.\n",
    "    \n",
    "    Parameters:\n",
    "    df1 (DataFrame): The first DataFrame to compare\n",
    "    df2 (DataFrame): The second DataFrame to compare\n",
    "    \n",
    "    Returns:\n",
    "    bool: True if the dataframes are equal, False otherwise\n",
    "    \"\"\"\n",
    "    # Check if the sets of column names are equal\n",
    "    if set(df1.columns) != set(df2.columns):\n",
    "        print(\"Difference in columns!\")\n",
    "    \n",
    "    # Print columns present in df1 but not in df2\n",
    "        df1_not_df2 = set(df1.columns) - set(df2.columns)\n",
    "        if df1_not_df2:\n",
    "            print(\"Columns in df1 but not in df2: \", df1_not_df2)\n",
    "        \n",
    "        # Print columns present in df2 but not in df1\n",
    "        df2_not_df1 = set(df2.columns) - set(df1.columns)\n",
    "        if df2_not_df1:\n",
    "            print(\"Columns in df2 but not in df1: \", df2_not_df1)\n",
    "        \n",
    "        return False\n",
    "\n",
    "    \n",
    "    # Ensure the columns are in the same order\n",
    "    df2_ordered = df2[df1.columns]\n",
    "\n",
    "    # Check if the dataframes are equal\n",
    "    return df1.equals(df2_ordered)\n",
    "\n"
   ]
  },
  {
   "cell_type": "markdown",
   "id": "4253aad1",
   "metadata": {
    "ExecuteTime": {
     "end_time": "2023-05-19T08:28:51.600111Z",
     "start_time": "2023-05-19T08:28:51.586150Z"
    }
   },
   "source": [
    "# Read data"
   ]
  },
  {
   "cell_type": "code",
   "execution_count": 1,
   "id": "6d651daa",
   "metadata": {
    "ExecuteTime": {
     "end_time": "2023-06-05T12:51:54.659104Z",
     "start_time": "2023-06-05T12:51:52.502359Z"
    }
   },
   "outputs": [
    {
     "name": "stdout",
     "output_type": "stream",
     "text": [
      "/Users/yil1/GitHub/P2P-Model-Bondora/code\n"
     ]
    }
   ],
   "source": [
    "import pandas as pd\n",
    "import matplotlib.pyplot as plt\n",
    "import os\n",
    "from scipy.stats import describe\n",
    "\n",
    "print(os.getcwd())\n",
    "# os.chdir(\"~/Documents/GitHub/P2P-Model-Bondora\")\n",
    "# os.chdir(\"~/Users/bal8/Desktop\")\n",
    "data = pd.read_csv(\"..//data//bondora_clean_10k.txt\")\n",
    "description = pd.read_excel(\n",
    "    \"..//data_description//Description.xlsx\",\n",
    "    sheet_name=\"Sheet1\",\n",
    "    header=1,\n",
    ")"
   ]
  },
  {
   "cell_type": "code",
   "execution_count": 1,
   "id": "a74e8f2a",
   "metadata": {
    "ExecuteTime": {
     "end_time": "2023-06-20T07:54:02.014891Z",
     "start_time": "2023-06-20T07:53:59.801741Z"
    }
   },
   "outputs": [
    {
     "name": "stdout",
     "output_type": "stream",
     "text": [
      "/Users/bal8/Desktop/P2P-Model-Bondora/code\n"
     ]
    }
   ],
   "source": [
    "# only to import full bondora data set for histogram computation\n",
    "import pandas as pd\n",
    "import matplotlib.pyplot as plt\n",
    "import os\n",
    "from scipy.stats import describe\n",
    "\n",
    "#print(os.getcwd())\n",
    "# os.chdir(\"~/Documents/GitHub/P2P-Model-Bondora\")\n",
    "# os.chdir(\"~/Users/bal8/Desktop\")\n",
    "#data = pd.read_csv(\"..//data/bondora_data_full_unbalanced\")"
   ]
  },
  {
   "cell_type": "markdown",
   "id": "2184af44",
   "metadata": {},
   "source": [
    "# Basic information about the data"
   ]
  },
  {
   "cell_type": "code",
   "execution_count": 2,
   "id": "58a48322",
   "metadata": {
    "ExecuteTime": {
     "end_time": "2023-06-20T07:54:23.086363Z",
     "start_time": "2023-06-20T07:54:23.062179Z"
    }
   },
   "outputs": [
    {
     "name": "stdout",
     "output_type": "stream",
     "text": [
      "   default  new  Age  Gender  Interest  MonthlyPayment  DebtToIncome  \\\n",
      "0      1.0    1   30     1.0      28.0             0.0         19.11   \n",
      "1      1.0    1   39     0.0      28.0             0.0         45.22   \n",
      "2      1.0    1   32     0.0      28.0             0.0         44.86   \n",
      "3      0.0    1   27     0.0      19.0             0.0         10.70   \n",
      "4      0.0    0   31     0.0      16.0             0.0         15.85   \n",
      "\n",
      "   NoOfPreviousLoansBeforeLoan  AmountOfPreviousLoansBeforeLoan   time  ...  \\\n",
      "0                            0                              0.0  1.846  ...   \n",
      "1                            0                              0.0  1.845  ...   \n",
      "2                            0                              0.0  1.846  ...   \n",
      "3                            0                              0.0  1.846  ...   \n",
      "4                            1                           3000.0  1.840  ...   \n",
      "\n",
      "   no.previous.loan.04  no.previous.loan.05  no.previous.loan.06  \\\n",
      "0                  0.0                  0.0                  0.0   \n",
      "1                  0.0                  0.0                  0.0   \n",
      "2                  0.0                  0.0                  0.0   \n",
      "3                  0.0                  0.0                  0.0   \n",
      "4                  0.0                  0.0                  0.0   \n",
      "\n",
      "   no.previous.loan.07  no.previous.repay.00  no.previous.repay.01  \\\n",
      "0                  0.0                   1.0                   0.0   \n",
      "1                  0.0                   1.0                   0.0   \n",
      "2                  0.0                   1.0                   0.0   \n",
      "3                  0.0                   1.0                   0.0   \n",
      "4                  0.0                   1.0                   0.0   \n",
      "\n",
      "   previous.repay.l  A  B  C  \n",
      "0               0.0  0  1  0  \n",
      "1               0.0  0  1  0  \n",
      "2               0.0  0  0  1  \n",
      "3               0.0  0  0  1  \n",
      "4               0.0  1  0  0  \n",
      "\n",
      "[5 rows x 155 columns]\n"
     ]
    }
   ],
   "source": [
    "print(data.head())\n"
   ]
  },
  {
   "cell_type": "code",
   "execution_count": 3,
   "id": "4f91d581",
   "metadata": {
    "ExecuteTime": {
     "end_time": "2023-06-05T12:51:58.751890Z",
     "start_time": "2023-06-05T12:51:58.746478Z"
    }
   },
   "outputs": [
    {
     "name": "stdout",
     "output_type": "stream",
     "text": [
      "Index(['default', 'new', 'Age', 'Gender', 'Interest', 'MonthlyPayment',\n",
      "       'DebtToIncome', 'NoOfPreviousLoansBeforeLoan',\n",
      "       'AmountOfPreviousLoansBeforeLoan', 'time',\n",
      "       ...\n",
      "       'A', 'B', 'C', 'pagerank', 'betweenness', 'closeness', 'eigenvector',\n",
      "       'katz', 'authority', 'hub'],\n",
      "      dtype='object', length=162)\n",
      "162\n"
     ]
    }
   ],
   "source": [
    "print(data.columns)\n",
    "print(len(data.columns))"
   ]
  },
  {
   "cell_type": "code",
   "execution_count": 4,
   "id": "9115d849",
   "metadata": {
    "ExecuteTime": {
     "end_time": "2023-06-05T12:51:59.615353Z",
     "start_time": "2023-06-05T12:51:59.600320Z"
    }
   },
   "outputs": [
    {
     "name": "stdout",
     "output_type": "stream",
     "text": [
      "     Unnamed: 0              Name         Role   \n",
      "0           NaN        date.start    character  \\\n",
      "1           NaN          date.end    character   \n",
      "2           NaN           default    dependent   \n",
      "3           NaN            return    dependent   \n",
      "4           NaN               RR1    dependent   \n",
      "..          ...               ...          ...   \n",
      "186         NaN  previous.repay.l  independent   \n",
      "187         NaN                 A  independent   \n",
      "188         NaN                AA  independent   \n",
      "189         NaN                 B  independent   \n",
      "190         NaN                 C  independent   \n",
      "\n",
      "                                           Description  \n",
      "0                        Date when the loan was issues  \n",
      "1    Loan maturity date according to the latest loa...  \n",
      "2                    1 - loan defaulted, 0 - otherwise  \n",
      "3    Nominal annual return = [(Future value of all ...  \n",
      "4    Modified Internal Rate of Return - 0 re-invest...  \n",
      "..                                                 ...  \n",
      "186  Total amount of loan applicant's previous loan...  \n",
      "187                                 Bondora rating - A  \n",
      "188                                Bondora rating - AA  \n",
      "189                                 Bondora rating - B  \n",
      "190                                 Bondora rating - C  \n",
      "\n",
      "[191 rows x 4 columns]\n"
     ]
    }
   ],
   "source": [
    "print(description)"
   ]
  },
  {
   "cell_type": "code",
   "execution_count": 5,
   "id": "eea18ead",
   "metadata": {
    "ExecuteTime": {
     "end_time": "2023-06-05T12:52:02.143954Z",
     "start_time": "2023-06-05T12:52:02.132739Z"
    }
   },
   "outputs": [
    {
     "name": "stdout",
     "output_type": "stream",
     "text": [
      "default        0.000000e+00\n",
      "new            1.000000e+00\n",
      "Age            5.100000e+01\n",
      "Gender         0.000000e+00\n",
      "Interest       1.933000e+01\n",
      "                   ...     \n",
      "closeness      4.126322e+00\n",
      "eigenvector    0.000000e+00\n",
      "katz           9.995823e-03\n",
      "authority      0.000000e+00\n",
      "hub            1.459231e-71\n",
      "Name: 0, Length: 162, dtype: float64\n"
     ]
    }
   ],
   "source": [
    "print(data.iloc[0])"
   ]
  },
  {
   "cell_type": "code",
   "execution_count": 3,
   "id": "ad110330",
   "metadata": {
    "ExecuteTime": {
     "end_time": "2023-06-20T07:54:50.124345Z",
     "start_time": "2023-06-20T07:54:50.113262Z"
    }
   },
   "outputs": [
    {
     "name": "stdout",
     "output_type": "stream",
     "text": [
      "(32469, 155)\n"
     ]
    }
   ],
   "source": [
    "print(data.shape)"
   ]
  },
  {
   "cell_type": "code",
   "execution_count": 7,
   "id": "debf4719",
   "metadata": {
    "ExecuteTime": {
     "end_time": "2023-06-05T12:52:04.299588Z",
     "start_time": "2023-06-05T12:52:04.288867Z"
    }
   },
   "outputs": [
    {
     "name": "stdout",
     "output_type": "stream",
     "text": [
      "default\n",
      "0.0    5000\n",
      "1.0    5000\n",
      "Name: count, dtype: int64\n"
     ]
    }
   ],
   "source": [
    "print(data['default'].value_counts())"
   ]
  },
  {
   "cell_type": "markdown",
   "id": "c131d278",
   "metadata": {},
   "source": [
    "Change the path manually!!!"
   ]
  },
  {
   "cell_type": "code",
   "execution_count": 8,
   "id": "831a220c",
   "metadata": {
    "ExecuteTime": {
     "end_time": "2023-06-05T12:52:10.747293Z",
     "start_time": "2023-06-05T12:52:10.656009Z"
    }
   },
   "outputs": [],
   "source": [
    "# File path\n",
    "file_path = \"/Users/yil1/GitHub/P2P-Model-Bondora/data/sample_10k.txt\"\n",
    "\n",
    "# Read the file into a DataFrame\n",
    "df_original = pd.read_csv(file_path, sep=\",\")"
   ]
  },
  {
   "cell_type": "code",
   "execution_count": 9,
   "id": "4a7771e9",
   "metadata": {
    "ExecuteTime": {
     "end_time": "2023-06-05T12:52:12.495167Z",
     "start_time": "2023-06-05T12:52:12.465211Z"
    }
   },
   "outputs": [
    {
     "data": {
      "text/html": [
       "<div>\n",
       "<style scoped>\n",
       "    .dataframe tbody tr th:only-of-type {\n",
       "        vertical-align: middle;\n",
       "    }\n",
       "\n",
       "    .dataframe tbody tr th {\n",
       "        vertical-align: top;\n",
       "    }\n",
       "\n",
       "    .dataframe thead th {\n",
       "        text-align: right;\n",
       "    }\n",
       "</style>\n",
       "<table border=\"1\" class=\"dataframe\">\n",
       "  <thead>\n",
       "    <tr style=\"text-align: right;\">\n",
       "      <th></th>\n",
       "      <th>default</th>\n",
       "      <th>new</th>\n",
       "      <th>Age</th>\n",
       "      <th>Gender</th>\n",
       "      <th>Interest</th>\n",
       "      <th>MonthlyPayment</th>\n",
       "      <th>NoOfPreviousLoansBeforeLoan</th>\n",
       "      <th>AmountOfPreviousLoansBeforeLoan</th>\n",
       "      <th>time</th>\n",
       "      <th>time2</th>\n",
       "      <th>...</th>\n",
       "      <th>previous.repay.l</th>\n",
       "      <th>A</th>\n",
       "      <th>B</th>\n",
       "      <th>C</th>\n",
       "      <th>pagerank</th>\n",
       "      <th>betweeneness</th>\n",
       "      <th>centrality_degree</th>\n",
       "      <th>eigenvector</th>\n",
       "      <th>katz</th>\n",
       "      <th>closeness</th>\n",
       "    </tr>\n",
       "  </thead>\n",
       "  <tbody>\n",
       "    <tr>\n",
       "      <th>0</th>\n",
       "      <td>0.0</td>\n",
       "      <td>1</td>\n",
       "      <td>51</td>\n",
       "      <td>0.0</td>\n",
       "      <td>19.33</td>\n",
       "      <td>5.284117</td>\n",
       "      <td>0</td>\n",
       "      <td>0.0</td>\n",
       "      <td>2.670</td>\n",
       "      <td>7.128900</td>\n",
       "      <td>...</td>\n",
       "      <td>0.000000</td>\n",
       "      <td>0</td>\n",
       "      <td>0</td>\n",
       "      <td>1</td>\n",
       "      <td>0.000139</td>\n",
       "      <td>0.0008</td>\n",
       "      <td>0.0003</td>\n",
       "      <td>1.374749e-03</td>\n",
       "      <td>0.010150</td>\n",
       "      <td>0.837797</td>\n",
       "    </tr>\n",
       "    <tr>\n",
       "      <th>1</th>\n",
       "      <td>0.0</td>\n",
       "      <td>1</td>\n",
       "      <td>28</td>\n",
       "      <td>0.0</td>\n",
       "      <td>16.23</td>\n",
       "      <td>5.241324</td>\n",
       "      <td>0</td>\n",
       "      <td>0.0</td>\n",
       "      <td>4.373</td>\n",
       "      <td>19.123129</td>\n",
       "      <td>...</td>\n",
       "      <td>0.000000</td>\n",
       "      <td>0</td>\n",
       "      <td>1</td>\n",
       "      <td>0</td>\n",
       "      <td>0.000045</td>\n",
       "      <td>0.0000</td>\n",
       "      <td>0.0001</td>\n",
       "      <td>1.840065e-19</td>\n",
       "      <td>0.009935</td>\n",
       "      <td>1.064964</td>\n",
       "    </tr>\n",
       "    <tr>\n",
       "      <th>2</th>\n",
       "      <td>0.0</td>\n",
       "      <td>0</td>\n",
       "      <td>40</td>\n",
       "      <td>0.0</td>\n",
       "      <td>13.34</td>\n",
       "      <td>4.438525</td>\n",
       "      <td>4</td>\n",
       "      <td>12200.0</td>\n",
       "      <td>2.938</td>\n",
       "      <td>8.631844</td>\n",
       "      <td>...</td>\n",
       "      <td>0.000000</td>\n",
       "      <td>0</td>\n",
       "      <td>1</td>\n",
       "      <td>0</td>\n",
       "      <td>0.000076</td>\n",
       "      <td>0.0000</td>\n",
       "      <td>0.0001</td>\n",
       "      <td>2.278947e-14</td>\n",
       "      <td>0.009981</td>\n",
       "      <td>0.848383</td>\n",
       "    </tr>\n",
       "    <tr>\n",
       "      <th>3</th>\n",
       "      <td>0.0</td>\n",
       "      <td>0</td>\n",
       "      <td>25</td>\n",
       "      <td>0.0</td>\n",
       "      <td>23.32</td>\n",
       "      <td>3.161247</td>\n",
       "      <td>2</td>\n",
       "      <td>1100.0</td>\n",
       "      <td>2.505</td>\n",
       "      <td>6.275025</td>\n",
       "      <td>...</td>\n",
       "      <td>6.398595</td>\n",
       "      <td>0</td>\n",
       "      <td>0</td>\n",
       "      <td>1</td>\n",
       "      <td>0.000116</td>\n",
       "      <td>0.0004</td>\n",
       "      <td>0.0002</td>\n",
       "      <td>2.048505e-06</td>\n",
       "      <td>0.010108</td>\n",
       "      <td>0.640333</td>\n",
       "    </tr>\n",
       "    <tr>\n",
       "      <th>4</th>\n",
       "      <td>0.0</td>\n",
       "      <td>1</td>\n",
       "      <td>50</td>\n",
       "      <td>0.0</td>\n",
       "      <td>18.45</td>\n",
       "      <td>4.771532</td>\n",
       "      <td>0</td>\n",
       "      <td>0.0</td>\n",
       "      <td>4.034</td>\n",
       "      <td>16.273156</td>\n",
       "      <td>...</td>\n",
       "      <td>0.000000</td>\n",
       "      <td>0</td>\n",
       "      <td>1</td>\n",
       "      <td>0</td>\n",
       "      <td>0.000056</td>\n",
       "      <td>0.0000</td>\n",
       "      <td>0.0001</td>\n",
       "      <td>1.917066e-15</td>\n",
       "      <td>0.009945</td>\n",
       "      <td>1.008507</td>\n",
       "    </tr>\n",
       "  </tbody>\n",
       "</table>\n",
       "<p>5 rows × 162 columns</p>\n",
       "</div>"
      ],
      "text/plain": [
       "   default  new  Age  Gender  Interest  MonthlyPayment   \n",
       "0      0.0    1   51     0.0     19.33        5.284117  \\\n",
       "1      0.0    1   28     0.0     16.23        5.241324   \n",
       "2      0.0    0   40     0.0     13.34        4.438525   \n",
       "3      0.0    0   25     0.0     23.32        3.161247   \n",
       "4      0.0    1   50     0.0     18.45        4.771532   \n",
       "\n",
       "   NoOfPreviousLoansBeforeLoan  AmountOfPreviousLoansBeforeLoan   time   \n",
       "0                            0                              0.0  2.670  \\\n",
       "1                            0                              0.0  4.373   \n",
       "2                            4                          12200.0  2.938   \n",
       "3                            2                           1100.0  2.505   \n",
       "4                            0                              0.0  4.034   \n",
       "\n",
       "       time2  ...  previous.repay.l  A  B  C  pagerank  betweeneness   \n",
       "0   7.128900  ...          0.000000  0  0  1  0.000139        0.0008  \\\n",
       "1  19.123129  ...          0.000000  0  1  0  0.000045        0.0000   \n",
       "2   8.631844  ...          0.000000  0  1  0  0.000076        0.0000   \n",
       "3   6.275025  ...          6.398595  0  0  1  0.000116        0.0004   \n",
       "4  16.273156  ...          0.000000  0  1  0  0.000056        0.0000   \n",
       "\n",
       "   centrality_degree   eigenvector      katz  closeness  \n",
       "0             0.0003  1.374749e-03  0.010150   0.837797  \n",
       "1             0.0001  1.840065e-19  0.009935   1.064964  \n",
       "2             0.0001  2.278947e-14  0.009981   0.848383  \n",
       "3             0.0002  2.048505e-06  0.010108   0.640333  \n",
       "4             0.0001  1.917066e-15  0.009945   1.008507  \n",
       "\n",
       "[5 rows x 162 columns]"
      ]
     },
     "execution_count": 9,
     "metadata": {},
     "output_type": "execute_result"
    }
   ],
   "source": [
    "df_original.head()"
   ]
  },
  {
   "cell_type": "code",
   "execution_count": 10,
   "id": "a4868071",
   "metadata": {
    "ExecuteTime": {
     "end_time": "2023-06-05T12:52:13.670109Z",
     "start_time": "2023-06-05T12:52:13.655331Z"
    }
   },
   "outputs": [
    {
     "data": {
      "text/plain": [
       "(10000, 162)"
      ]
     },
     "execution_count": 10,
     "metadata": {},
     "output_type": "execute_result"
    }
   ],
   "source": [
    "data.shape"
   ]
  },
  {
   "cell_type": "code",
   "execution_count": 11,
   "id": "f579fc52",
   "metadata": {
    "ExecuteTime": {
     "end_time": "2023-06-05T12:52:15.023321Z",
     "start_time": "2023-06-05T12:52:15.012522Z"
    }
   },
   "outputs": [
    {
     "data": {
      "text/plain": [
       "(10000, 162)"
      ]
     },
     "execution_count": 11,
     "metadata": {},
     "output_type": "execute_result"
    }
   ],
   "source": [
    "df_original.shape"
   ]
  },
  {
   "cell_type": "code",
   "execution_count": 14,
   "id": "886c6277",
   "metadata": {
    "ExecuteTime": {
     "end_time": "2023-06-05T12:52:35.631271Z",
     "start_time": "2023-06-05T12:52:35.612435Z"
    }
   },
   "outputs": [
    {
     "name": "stdout",
     "output_type": "stream",
     "text": [
      "Difference in columns!\n",
      "Columns in df1 but not in df2:  {'FreeCash.l', 'authority', 'betweenness', 'DebtToIncome', 'hub'}\n",
      "Columns in df2 but not in df1:  {'time2', 'centrality_degree', 'time3', 'betweeneness', 'previous.loan.l'}\n"
     ]
    },
    {
     "data": {
      "text/plain": [
       "False"
      ]
     },
     "execution_count": 14,
     "metadata": {},
     "output_type": "execute_result"
    }
   ],
   "source": [
    "are_dataframes_equal(df1=data, df2=df_original)"
   ]
  },
  {
   "cell_type": "code",
   "execution_count": 4,
   "id": "ac66496e",
   "metadata": {
    "ExecuteTime": {
     "end_time": "2023-06-20T07:56:32.645773Z",
     "start_time": "2023-06-20T07:56:11.362854Z"
    }
   },
   "outputs": [
    {
     "data": {
      "text/plain": [
       "True"
      ]
     },
     "execution_count": 4,
     "metadata": {},
     "output_type": "execute_result"
    }
   ],
   "source": [
    "import matplotlib.backends.backend_pdf\n",
    "import webbrowser\n",
    "import os\n",
    "\n",
    "def create_histograms(data,file_name=\"test.pdf\"):\n",
    "    pdf = matplotlib.backends.backend_pdf.PdfPages(file_name)\n",
    "\n",
    "    for i in range(1, len(data.columns)):\n",
    "        feature_name = data.columns[i]\n",
    "        min_value = data.iloc[:, i].min()\n",
    "        max_value = data.iloc[:, i].max()\n",
    "\n",
    "        plt.figure(figsize=(10, 6))\n",
    "        plt.hist(data[feature_name], bins=200, color='lightblue', edgecolor='black')\n",
    "        plt.title(f'Histogram of {feature_name}\\nMin: {min_value} Max: {max_value}')\n",
    "        plt.xlabel('Feature Value')\n",
    "        plt.ylabel('Count')\n",
    "        pdf.savefig()\n",
    "        plt.close()\n",
    "\n",
    "    pdf.close()\n",
    "# Specify the file name or relative path\n",
    "file_name = \"descriptive_stats_raw_data.pdf\"\n",
    "#file_name = \"descriptive_stats_raw_data_full.pdf\"\n",
    "\n",
    "# Call the function\n",
    "create_histograms(data,file_name=file_name)\n",
    "\n",
    "# Get the current working directory\n",
    "cwd = os.getcwd()\n",
    "\n",
    "# Join the current working directory with the file name\n",
    "file_path = os.path.join(cwd, file_name)\n",
    "\n",
    "# Open the PDF file in the default PDF viewer\n",
    "webbrowser.open_new(\"file://\" + file_path)"
   ]
  },
  {
   "cell_type": "code",
   "execution_count": 16,
   "id": "a042e58a",
   "metadata": {
    "ExecuteTime": {
     "end_time": "2023-06-05T12:53:30.115659Z",
     "start_time": "2023-06-05T12:53:30.101833Z"
    }
   },
   "outputs": [
    {
     "data": {
      "text/plain": [
       "'/Users/yil1/GitHub/P2P-Model-Bondora/code/descriptive_stats_raw_data.pdf'"
      ]
     },
     "execution_count": 16,
     "metadata": {},
     "output_type": "execute_result"
    }
   ],
   "source": [
    "file_path"
   ]
  },
  {
   "cell_type": "markdown",
   "id": "07c9b2e6",
   "metadata": {},
   "source": [
    "# Difference between two groups"
   ]
  },
  {
   "cell_type": "code",
   "execution_count": 21,
   "id": "228432ed",
   "metadata": {
    "ExecuteTime": {
     "end_time": "2023-06-05T12:56:49.999896Z",
     "start_time": "2023-06-05T12:56:38.175700Z"
    }
   },
   "outputs": [
    {
     "data": {
      "text/plain": [
       "True"
      ]
     },
     "execution_count": 21,
     "metadata": {},
     "output_type": "execute_result"
    }
   ],
   "source": [
    "import matplotlib.backends.backend_pdf\n",
    "import webbrowser\n",
    "import matplotlib.pyplot as plt\n",
    "\n",
    "def create_grouped_histograms(data, file_name=\"test.pdf\"):\n",
    "    pdf = matplotlib.backends.backend_pdf.PdfPages(file_name)\n",
    "    grouping_column_name = data.columns[0]\n",
    "\n",
    "    for i in range(1, len(data.columns)):\n",
    "        feature_name = data.columns[i]\n",
    "        min_value = data.iloc[:, i].min()\n",
    "        max_value = data.iloc[:, i].max()\n",
    "\n",
    "        plt.figure(figsize=(10, 6))\n",
    "        colors = ['red', 'blue']  # specify more colors if there are more than two groups\n",
    "        for (group_name, group_data), color in zip(data.groupby(grouping_column_name), colors):\n",
    "            plt.hist(group_data[feature_name], bins=50, alpha=0.6, edgecolor='black', label=str(group_name), color=color)\n",
    "        plt.title(f'Histogram of {feature_name}\\nMin: {min_value} Max: {max_value}')\n",
    "        plt.xlabel('Feature Value')\n",
    "        plt.ylabel('Count')\n",
    "        plt.legend(title=grouping_column_name)\n",
    "        pdf.savefig()\n",
    "        plt.close()\n",
    "\n",
    "    pdf.close()\n",
    "\n",
    "# Call the function\n",
    "file_name = \"descriptive_stats_raw_data_by_default.pdf\"\n",
    "create_grouped_histograms(data, file_name=file_name)\n",
    "\n",
    "# Get the current working directory\n",
    "cwd = os.getcwd()\n",
    "\n",
    "# Join the current working directory with the file name\n",
    "file_path = os.path.join(cwd, file_name)\n",
    "\n",
    "# Open the PDF file in the default PDF viewer\n",
    "webbrowser.open_new(\"file://\" + file_path)\n"
   ]
  },
  {
   "cell_type": "code",
   "execution_count": 18,
   "id": "462f82aa",
   "metadata": {
    "ExecuteTime": {
     "end_time": "2023-06-05T12:54:35.856174Z",
     "start_time": "2023-06-05T12:54:35.844362Z"
    }
   },
   "outputs": [
    {
     "data": {
      "text/plain": [
       "'/Users/yil1/GitHub/P2P-Model-Bondora/code/descriptive_stats_raw_data_by_default.pdf'"
      ]
     },
     "execution_count": 18,
     "metadata": {},
     "output_type": "execute_result"
    }
   ],
   "source": [
    "file_path"
   ]
  },
  {
   "cell_type": "code",
   "execution_count": 28,
   "id": "1fd1196a",
   "metadata": {
    "ExecuteTime": {
     "end_time": "2023-05-22T12:33:30.023117Z",
     "start_time": "2023-05-22T12:33:30.005241Z"
    }
   },
   "outputs": [
    {
     "data": {
      "text/plain": [
       "'/Users/yil1/GitHub/P2P-Model-Bondora/code'"
      ]
     },
     "execution_count": 28,
     "metadata": {},
     "output_type": "execute_result"
    }
   ],
   "source": [
    "cwd"
   ]
  },
  {
   "cell_type": "code",
   "execution_count": 26,
   "id": "3b54854f",
   "metadata": {
    "ExecuteTime": {
     "end_time": "2023-05-22T10:23:28.378480Z",
     "start_time": "2023-05-22T10:23:28.372612Z"
    }
   },
   "outputs": [],
   "source": [
    "# Record some uninformative features. This is done manually. Based on the features as a whole.\n",
    "uninformative_feature = [\n",
    "    'DebtToIncome', 'inc.princ.empl.l', 'inc.pension.l', 'inc.fam.all.l',\n",
    "    'inc.soc.wel.l', 'inc.leave.l', 'inc.child.l', 'inc.other.l', 'FreeCash.l',\n",
    "    'previous.repay.l'\n",
    "]\n",
    "#Based on the difference between two groups\n",
    "uninformative_feature = [\n",
    "    'Hour.1', 'Hour.2', 'Hour.3', 'Hour.4', 'Hour.5', 'Hour.10', 'Hour.11',\n",
    "    'Hour.12', 'Hour.13', 'Hour.14', 'Hour.19', 'Hour.20', 'weekday.4',\n",
    "    'weekday.5', 'use.1', 'use.3', 'use.4', 'use.5', 'use.7', 'use.8',\n",
    "    'marital.1', 'marital.4', 'marital.5', 'depen.0', 'depen.1', 'depen.2',\n",
    "    'depen.3', 'depen.4', 'employ.2', 'employ.4', 'employ.6', 'em.dur.other',\n",
    "    'em.dur.trial', 'exper.02y', 'exper.10y', 'exper.15y', 'Processing',\n",
    "    'Energy', 'Construction', 'Transport.warehousing', 'Hospitality.catering',\n",
    "    'Info.telecom', 'Finance.insurance', 'Real.estate', 'Research',\n",
    "    'Administrative', 'Civil.service.military', 'Healthcare.social.help',\n",
    "    'Art.entertainment', 'Agriculture.for.fish', 'council.house',\n",
    "    'joint.tenant', 'mortgage', 'encumbrance', 'no.refin.03', 'no.refin.04',\n",
    "    'inc.support', 'no.previous.loan.05', 'no.previous.loan.07'\n",
    "]"
   ]
  },
  {
   "cell_type": "markdown",
   "id": "5b5b48f1",
   "metadata": {},
   "source": [
    "# Descriptive stats for informative features (excluding centrality measures)"
   ]
  },
  {
   "cell_type": "code",
   "execution_count": 6,
   "id": "15d22aa0",
   "metadata": {
    "ExecuteTime": {
     "end_time": "2023-05-25T15:55:27.647680Z",
     "start_time": "2023-05-25T15:55:27.633910Z"
    }
   },
   "outputs": [],
   "source": [
    "import pandas as pd\n",
    "\n",
    "def compute_summary_stats(df, cols):\n",
    "    \"\"\"\n",
    "    This function computes summary statistics for specified columns in a pandas dataframe.\n",
    "\n",
    "    Args:\n",
    "    df (pandas.DataFrame): The dataframe on which to compute summary statistics.\n",
    "    cols (list): A list of column names for which to compute summary statistics.\n",
    "\n",
    "    Returns:\n",
    "    pandas.DataFrame: A dataframe with summary statistics for the specified columns.\n",
    "\n",
    "    Example:\n",
    "    summary_stats = compute_summary_stats(df, ['liab.I', 'inc.total', 'MonthlyPayment', 'log.amount', 'time', 'Interest', 'AmountOfPreviousLoansBeforeLoan', 'NoOfPreviousLoansBeforeLoan', 'Age'])\n",
    "    print(summary_stats)\n",
    "    \"\"\"\n",
    "\n",
    "    # Check if all columns exist in dataframe\n",
    "    for col in cols:\n",
    "        if col not in df.columns:\n",
    "            print(f'Column {col} does not exist in the dataframe.')\n",
    "            return None\n",
    "\n",
    "    # Compute summary statistics\n",
    "    summary_stats = df[cols].describe()\n",
    "\n",
    "    return summary_stats"
   ]
  },
  {
   "cell_type": "code",
   "execution_count": 12,
   "id": "a5efc1e5",
   "metadata": {
    "ExecuteTime": {
     "end_time": "2023-05-25T16:11:54.845080Z",
     "start_time": "2023-05-25T16:11:54.815369Z"
    },
    "scrolled": true
   },
   "outputs": [],
   "source": [
    "# create summary_stats_IF data frame\n",
    "summary_stats_IF = compute_summary_stats(data, ['liab.l', 'inc.total', 'MonthlyPayment', 'log.amount', 'time', 'Interest', 'AmountOfPreviousLoansBeforeLoan', 'NoOfPreviousLoansBeforeLoan', 'Age'])"
   ]
  },
  {
   "cell_type": "markdown",
   "id": "78799db7",
   "metadata": {},
   "source": [
    "# Descriptive stats for only for centrality measures"
   ]
  },
  {
   "cell_type": "code",
   "execution_count": 13,
   "id": "ad0096b1",
   "metadata": {
    "ExecuteTime": {
     "end_time": "2023-05-25T16:14:01.138004Z",
     "start_time": "2023-05-25T16:14:01.111844Z"
    }
   },
   "outputs": [],
   "source": [
    "# create summary_stats_CM data frame\n",
    "summary_stats_CM = compute_summary_stats(data, ['pagerank', 'betweenness', 'closeness', 'eigenvector','katz', 'authority', 'hub'])"
   ]
  },
  {
   "cell_type": "markdown",
   "id": "39d83bf0",
   "metadata": {},
   "source": [
    "# Convert descriptive statistics to latex code"
   ]
  },
  {
   "cell_type": "code",
   "execution_count": 14,
   "id": "4e4f5633",
   "metadata": {
    "ExecuteTime": {
     "end_time": "2023-05-25T16:15:41.818202Z",
     "start_time": "2023-05-25T16:15:41.807358Z"
    }
   },
   "outputs": [],
   "source": [
    "def df_to_latex(df):\n",
    "    \"\"\"\n",
    "    This function converts a pandas DataFrame into a LaTeX table.\n",
    "\n",
    "    Args:\n",
    "    df (pandas.DataFrame): The dataframe to convert to LaTeX.\n",
    "\n",
    "    Returns:\n",
    "    str: A string of LaTeX code for a table with the data from the DataFrame.\n",
    "\n",
    "    Example:\n",
    "    latex_code = df_to_latex(summary_stats)\n",
    "    print(latex_code)\n",
    "    \"\"\"\n",
    "\n",
    "    # Convert DataFrame to LaTeX\n",
    "    latex_code = df.to_latex()\n",
    "\n",
    "    return latex_code"
   ]
  },
  {
   "cell_type": "code",
   "execution_count": 15,
   "id": "d7c81125",
   "metadata": {
    "ExecuteTime": {
     "end_time": "2023-05-25T16:16:14.342189Z",
     "start_time": "2023-05-25T16:16:14.314575Z"
    }
   },
   "outputs": [
    {
     "name": "stderr",
     "output_type": "stream",
     "text": [
      "/var/folders/3q/g52_1wls189gg2_cpvs9n9840000gq/T/ipykernel_60831/2821865576.py:17: FutureWarning: In future versions `DataFrame.to_latex` is expected to utilise the base implementation of `Styler.to_latex` for formatting and rendering. The arguments signature may therefore change. It is recommended instead to use `DataFrame.style.to_latex` which also contains additional functionality.\n",
      "  latex_code = df.to_latex()\n"
     ]
    },
    {
     "data": {
      "text/plain": [
       "'\\\\begin{tabular}{lrrrrrrrrr}\\n\\\\toprule\\n{} &        liab.l &     inc.total &  MonthlyPayment &    log.amount &          time &      Interest &  AmountOfPreviousLoansBeforeLoan &  NoOfPreviousLoansBeforeLoan &           Age \\\\\\\\\\n\\\\midrule\\ncount &  10000.000000 &  10000.000000 &    10000.000000 &  10000.000000 &  10000.000000 &  10000.000000 &                     10000.000000 &                 10000.000000 &  10000.000000 \\\\\\\\\\nmean  &      5.156742 &      6.956721 &        4.004402 &      7.281027 &      3.521325 &     17.753108 &                      5394.691537 &                     2.783400 &     39.924500 \\\\\\\\\\nstd   &      2.027368 &      0.521830 &        0.983363 &      0.910254 &      0.627611 &      5.382104 &                      5960.749752 &                     3.070574 &     11.621183 \\\\\\\\\\nmin   &      0.000000 &      3.433987 &        0.000000 &      4.663439 &      1.846000 &      7.290000 &                         0.000000 &                     0.000000 &     18.000000 \\\\\\\\\\n25\\\\%   &      4.990245 &      6.621406 &        3.131137 &      6.274762 &      3.125000 &     13.500000 &                         0.000000 &                     0.000000 &     31.000000 \\\\\\\\\\n50\\\\%   &      5.807992 &      6.908755 &        4.011235 &      7.150701 &      3.585000 &     17.370000 &                      3715.000000 &                     2.000000 &     39.000000 \\\\\\\\\\n75\\\\%   &      6.340390 &      7.280008 &        4.753676 &      8.066208 &      3.934000 &     21.562500 &                      8818.500000 &                     4.000000 &     48.000000 \\\\\\\\\\nmax   &     10.481434 &     11.677601 &        7.122705 &      9.271624 &      4.792000 &     38.000000 &                     72778.000000 &                    26.000000 &     70.000000 \\\\\\\\\\n\\\\bottomrule\\n\\\\end{tabular}\\n'"
      ]
     },
     "execution_count": 15,
     "metadata": {},
     "output_type": "execute_result"
    }
   ],
   "source": [
    "# create tabular summary stats for IF\n",
    "df_to_latex(summary_stats_IF)"
   ]
  },
  {
   "cell_type": "code",
   "execution_count": 16,
   "id": "e1797dc4",
   "metadata": {
    "ExecuteTime": {
     "end_time": "2023-05-25T16:16:47.936296Z",
     "start_time": "2023-05-25T16:16:47.910095Z"
    }
   },
   "outputs": [
    {
     "name": "stderr",
     "output_type": "stream",
     "text": [
      "/var/folders/3q/g52_1wls189gg2_cpvs9n9840000gq/T/ipykernel_60831/2821865576.py:17: FutureWarning: In future versions `DataFrame.to_latex` is expected to utilise the base implementation of `Styler.to_latex` for formatting and rendering. The arguments signature may therefore change. It is recommended instead to use `DataFrame.style.to_latex` which also contains additional functionality.\n",
      "  latex_code = df.to_latex()\n"
     ]
    },
    {
     "data": {
      "text/plain": [
       "'\\\\begin{tabular}{lrrrrrrr}\\n\\\\toprule\\n{} &      pagerank &   betweenness &    closeness &  eigenvector &          katz &      authority &            hub \\\\\\\\\\n\\\\midrule\\ncount &  10000.000000 &  1.000000e+04 &  6307.000000 &   10000.0000 &  10000.000000 &   1.000000e+04 &   1.000000e+04 \\\\\\\\\\nmean  &      0.000100 &  1.540262e-08 &    22.641053 &       0.0001 &      0.010000 &   3.154032e-04 &   1.788258e-04 \\\\\\\\\\nstd   &      0.000063 &  4.852205e-08 &    12.139381 &       0.0100 &      0.000005 &   9.995525e-03 &   9.998901e-03 \\\\\\\\\\nmin   &      0.000056 &  0.000000e+00 &     3.735816 &       0.0000 &      0.009996 &   0.000000e+00 &   0.000000e+00 \\\\\\\\\\n25\\\\%   &      0.000056 &  0.000000e+00 &    14.069037 &       0.0000 &      0.009996 &   0.000000e+00 &   0.000000e+00 \\\\\\\\\\n50\\\\%   &      0.000078 &  0.000000e+00 &    21.631663 &       0.0000 &      0.009999 &  2.942643e-150 &  2.325159e-146 \\\\\\\\\\n75\\\\%   &      0.000119 &  1.000300e-08 &    29.040356 &       0.0000 &      0.010002 &   2.004074e-98 &   3.071172e-98 \\\\\\\\\\nmax   &      0.000687 &  1.350405e-06 &   253.486801 &       1.0000 &      0.010056 &   3.628290e-01 &   9.519590e-01 \\\\\\\\\\n\\\\bottomrule\\n\\\\end{tabular}\\n'"
      ]
     },
     "execution_count": 16,
     "metadata": {},
     "output_type": "execute_result"
    }
   ],
   "source": [
    "# create tabular summary stats for CM\n",
    "df_to_latex(summary_stats_CM)"
   ]
  },
  {
   "cell_type": "markdown",
   "id": "a4f77c56",
   "metadata": {},
   "source": [
    "# Email"
   ]
  },
  {
   "cell_type": "code",
   "execution_count": null,
   "id": "515893c4",
   "metadata": {},
   "outputs": [],
   "source": [
    "#in the command prompt\n",
    "!setx GMAIL_PASSWORD \"your-password\"\n",
    "import os\n",
    "password = os.getenv(\"GMAIL_PASSWORD\")"
   ]
  },
  {
   "cell_type": "code",
   "execution_count": null,
   "id": "54302b77",
   "metadata": {},
   "outputs": [],
   "source": [
    "import smtplib\n",
    "from email.mime.multipart import MIMEMultipart\n",
    "from email.mime.base import MIMEBase\n",
    "from email import encoders\n",
    "import os\n",
    "\n",
    "# Set up the SMTP server\n",
    "smtp_server = \"smtp.gmail.com\"  # or your SMTP server\n",
    "smtp_port = 587  # or your SMTP port\n",
    "username = \"josterri@googlemail.com\"  # your email\n",
    "password = \"your-password\"  # your password\n",
    "\n",
    "# Set up the email\n",
    "msg = MIMEMultipart()\n",
    "msg['From'] = username\n",
    "msg['To'] = \"yiting.liu@bfh.ch\"\n",
    "msg['Subject'] = \"The Subject of the Email\"\n",
    "\n",
    "# Attach the PDF to the email\n",
    "file_name = \"grouped_output.pdf\"\n",
    "file_path = os.path.join(os.getcwd(), file_name)\n",
    "attachment = MIMEBase('application', 'octet-stream')\n",
    "try:\n",
    "    with open(file_path, 'rb') as file:\n",
    "        attachment.set_payload(file.read())\n",
    "    encoders.encode_base64(attachment)\n",
    "except FileNotFoundError:\n",
    "    print(f\"The file {file_path} was not found\")\n",
    "    exit()\n",
    "\n",
    "attachment.add_header('Content-Disposition', 'attachment', filename=os.path.basename(file_path))\n",
    "msg.attach(attachment)\n",
    "\n",
    "# Send the email\n",
    "try:\n",
    "    server = smtplib.SMTP(smtp_server, smtp_port)\n",
    "    server.starttls()\n",
    "    server.login(username, password)\n",
    "    server.send_message(msg)\n",
    "    server.quit()\n",
    "    print(\"The email was sent successfully\")\n",
    "except Exception as e:\n",
    "    print(f\"The email could not be sent: {e}\")\n"
   ]
  }
 ],
 "metadata": {
  "kernelspec": {
   "display_name": "Python 3 (ipykernel)",
   "language": "python",
   "name": "python3"
  },
  "language_info": {
   "codemirror_mode": {
    "name": "ipython",
    "version": 3
   },
   "file_extension": ".py",
   "mimetype": "text/x-python",
   "name": "python",
   "nbconvert_exporter": "python",
   "pygments_lexer": "ipython3",
   "version": "3.9.13"
  },
  "toc": {
   "base_numbering": 1,
   "nav_menu": {},
   "number_sections": true,
   "sideBar": true,
   "skip_h1_title": false,
   "title_cell": "Table of Contents",
   "title_sidebar": "Contents",
   "toc_cell": false,
   "toc_position": {
    "height": "calc(100% - 180px)",
    "left": "10px",
    "top": "150px",
    "width": "341.331543px"
   },
   "toc_section_display": true,
   "toc_window_display": true
  },
  "varInspector": {
   "cols": {
    "lenName": 16,
    "lenType": 16,
    "lenVar": 40
   },
   "kernels_config": {
    "python": {
     "delete_cmd_postfix": "",
     "delete_cmd_prefix": "del ",
     "library": "var_list.py",
     "varRefreshCmd": "print(var_dic_list())"
    },
    "r": {
     "delete_cmd_postfix": ") ",
     "delete_cmd_prefix": "rm(",
     "library": "var_list.r",
     "varRefreshCmd": "cat(var_dic_list()) "
    }
   },
   "types_to_exclude": [
    "module",
    "function",
    "builtin_function_or_method",
    "instance",
    "_Feature"
   ],
   "window_display": false
  }
 },
 "nbformat": 4,
 "nbformat_minor": 5
}
