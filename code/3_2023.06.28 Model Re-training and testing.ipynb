{
 "cells": [
  {
   "cell_type": "markdown",
   "id": "e4c5fd21",
   "metadata": {},
   "source": [
    "# SNF Network-based credit risk models in P2P lending markets\n",
    "Goal: See whether the predictive accuracy of the ML or DL models improve when we include the centrality parameters. So its about checking the AUC values on models trained with and without the centrality measures.\n",
    "\n",
    "Run section 1-6, and go directly to section 8."
   ]
  },
  {
   "cell_type": "markdown",
   "id": "3a338255",
   "metadata": {},
   "source": [
    "# Libraries"
   ]
  },
  {
   "cell_type": "markdown",
   "id": "b5e3ef1e",
   "metadata": {},
   "source": [
    "## Install missing packages"
   ]
  },
  {
   "cell_type": "code",
   "execution_count": 278,
   "id": "33211d26",
   "metadata": {
    "ExecuteTime": {
     "end_time": "2023-06-29T19:06:29.490864Z",
     "start_time": "2023-06-29T19:06:29.485767Z"
    }
   },
   "outputs": [],
   "source": [
    "def install_missing_packages(package_names):\n",
    "    \"\"\"\n",
    "    Install Missing Packages\n",
    "\n",
    "    This function checks if a list of packages is already installed and installs any missing packages using pip.\n",
    "\n",
    "    Parameters:\n",
    "    - package_names (list): A list of package names to be installed.\n",
    "\n",
    "    Returns:\n",
    "    - None\n",
    "\n",
    "    Note: This function requires the `subprocess` and `importlib` modules to be imported.\n",
    "\n",
    "    Example Usage:\n",
    "    install_missing_packages(['h2o', 'numpy', 'pandas'])\n",
    "    \"\"\"\n",
    "    import importlib\n",
    "    import subprocess\n",
    "\n",
    "\n",
    "    for package_name in package_names:\n",
    "        try:\n",
    "            importlib.import_module(package_name)\n",
    "            print(f\"{package_name} package is already installed\")\n",
    "        except ImportError:\n",
    "            print(f\"{package_name} package not found, installing with pip...\")\n",
    "            subprocess.call(['pip', 'install', package_name])\n"
   ]
  },
  {
   "cell_type": "code",
   "execution_count": 279,
   "id": "38ec1e0e",
   "metadata": {
    "ExecuteTime": {
     "end_time": "2023-06-29T19:06:30.580803Z",
     "start_time": "2023-06-29T19:06:30.576568Z"
    }
   },
   "outputs": [
    {
     "name": "stdout",
     "output_type": "stream",
     "text": [
      "h2o package is already installed\n"
     ]
    }
   ],
   "source": [
    "package_list = ['h2o']\n",
    "install_missing_packages(package_list)"
   ]
  },
  {
   "cell_type": "markdown",
   "id": "e89b1afe",
   "metadata": {},
   "source": [
    "## General packages"
   ]
  },
  {
   "cell_type": "code",
   "execution_count": 280,
   "id": "9a5a649b",
   "metadata": {
    "ExecuteTime": {
     "end_time": "2023-06-29T19:06:34.042955Z",
     "start_time": "2023-06-29T19:06:34.039500Z"
    }
   },
   "outputs": [],
   "source": [
    "from sklearn.metrics import accuracy_score, confusion_matrix, classification_report\n",
    "from sklearn.datasets import make_classification\n",
    "from sklearn.model_selection import train_test_split\n",
    "from sklearn.linear_model import LogisticRegression\n",
    "from sklearn.metrics import accuracy_score, confusion_matrix, classification_report\n",
    "from sklearn.metrics import accuracy_score, classification_report, confusion_matrix\n",
    "import webbrowser\n",
    "import pandas as pd\n",
    "import shutil\n",
    "import plotly.graph_objects as go\n",
    "import plotly.io as pio\n",
    "from plotly.subplots import make_subplots\n",
    "from sklearn.metrics import (accuracy_score, classification_report, confusion_matrix, roc_curve, auc,\n",
    "                             precision_recall_curve, average_precision_score)\n",
    "from sklearn.preprocessing import MinMaxScaler\n",
    "from sklearn.model_selection import train_test_split\n",
    "import numpy as np\n",
    "import matplotlib.pyplot as plt\n",
    "import importlib\n",
    "import subprocess\n",
    "\n",
    "import os\n",
    "import hashlib\n",
    "\n",
    "import json"
   ]
  },
  {
   "cell_type": "markdown",
   "id": "3c4ca0ae",
   "metadata": {},
   "source": [
    "## h2o models"
   ]
  },
  {
   "cell_type": "code",
   "execution_count": 281,
   "id": "1bcfe6e7",
   "metadata": {
    "ExecuteTime": {
     "end_time": "2023-06-29T19:06:35.281528Z",
     "start_time": "2023-06-29T19:06:35.278755Z"
    }
   },
   "outputs": [],
   "source": [
    "\"\"\"\n",
    "H2O Models\n",
    "\n",
    "This module provides a set of utility functions for working with H2O models. H2O is an open-source machine learning platform that provides a distributed environment for building and deploying machine learning models.\n",
    "\n",
    "Functions:\n",
    "- load_model(model_path): Load an H2O model from the specified path and return the model object.\n",
    "- save_model(model, model_path): Save the given H2O model to the specified path.\n",
    "- predict(model, data): Generate predictions using the specified H2O model on the given data.\n",
    "- evaluate(model, data): Evaluate the performance of the specified H2O model on the given data and return relevant metrics.\n",
    "- get_model_details(model): Get detailed information about the specified H2O model, including its parameters and performance statistics.\n",
    "- get_feature_importance(model): Get the feature importance scores for the specified H2O model, indicating the importance of each feature in the model's predictions.\n",
    "\n",
    "Note: These functions require the H2O Python library to be installed and imported.\n",
    "\n",
    "For more information on H2O, visit the official documentation at https://docs.h2o.ai/.\n",
    "\"\"\"\n",
    "\n",
    "import h2o\n",
    "from h2o.estimators import H2ORandomForestEstimator\n",
    "from h2o.estimators import H2OGeneralizedLinearEstimator\n",
    "from h2o.estimators import H2OGeneralizedLinearEstimator, H2ORandomForestEstimator, H2ODeepLearningEstimator\n",
    "from h2o.grid.grid_search import H2OGridSearch\n",
    "import h2o.estimators.glm\n",
    "from h2o.estimators import H2OXGBoostEstimator, H2OGradientBoostingEstimator"
   ]
  },
  {
   "cell_type": "code",
   "execution_count": 282,
   "id": "427b4fb1",
   "metadata": {
    "ExecuteTime": {
     "end_time": "2023-06-29T19:06:36.050274Z",
     "start_time": "2023-06-29T19:06:36.046729Z"
    }
   },
   "outputs": [],
   "source": [
    "import itertools\n",
    "import matplotlib.pyplot as plt\n",
    "from matplotlib.backends.backend_pdf import PdfPages\n",
    "from matplotlib.lines import Line2D\n",
    "from matplotlib.patches import Patch\n",
    "\n",
    "from tabulate import tabulate\n",
    "import matplotlib.patches as mpatches"
   ]
  },
  {
   "cell_type": "markdown",
   "id": "443cac3e",
   "metadata": {},
   "source": [
    "# Functions"
   ]
  },
  {
   "cell_type": "markdown",
   "id": "2a217d05",
   "metadata": {},
   "source": [
    "## Read and write data"
   ]
  },
  {
   "cell_type": "code",
   "execution_count": 283,
   "id": "165778c8",
   "metadata": {
    "ExecuteTime": {
     "end_time": "2023-06-29T19:06:43.940882Z",
     "start_time": "2023-06-29T19:06:43.936527Z"
    }
   },
   "outputs": [],
   "source": [
    "def read_h2o_frame(directory, file_name):\n",
    "    \"\"\"\n",
    "    Given a directory name and a file name, returns an H2OFrame containing the data from the file.\n",
    "\n",
    "    Args:\n",
    "        directory (str): The name of the directory to search in.\n",
    "        file_name (str): The name of the file to read.\n",
    "\n",
    "    Returns:\n",
    "        H2OFrame: An H2OFrame containing the data from the file.\n",
    "\n",
    "    Example:\n",
    "        >>> directory = 'data'\n",
    "        >>> file_name = 'example.txt'\n",
    "        >>> data = read_h2o_frame(directory, file_name)\n",
    "        >>> type(data)\n",
    "        <class 'h2o.frame.H2OFrame'>\n",
    "    \"\"\"\n",
    "    # navigate up one level from cwd\n",
    "    parent_dir = os.path.dirname(os.getcwd())\n",
    "    \n",
    "    # navigate into directory\n",
    "    dir_path = os.path.join(parent_dir, directory)\n",
    "    \n",
    "    # merge directory path with file name\n",
    "    file_path = os.path.join(dir_path, file_name)\n",
    "    \n",
    "    # import file using h2o\n",
    "    data = h2o.import_file(file_path)\n",
    "    \n",
    "    return data\n"
   ]
  },
  {
   "cell_type": "code",
   "execution_count": 284,
   "id": "306d0db1",
   "metadata": {
    "ExecuteTime": {
     "end_time": "2023-06-29T19:06:44.791083Z",
     "start_time": "2023-06-29T19:06:44.779928Z"
    }
   },
   "outputs": [
    {
     "name": "stdout",
     "output_type": "stream",
     "text": [
      "Test finished successfully\n"
     ]
    }
   ],
   "source": [
    "def write_df_to_disk(dataframe, directory, filename, parameters):\n",
    "    \"\"\"\n",
    "    Given a Pandas DataFrame, a directory name, a file name, and a list of parameters,\n",
    "    writes the DataFrame to a file with a name that includes the parameters and returns the full path to the file.\n",
    "\n",
    "    Args:\n",
    "        dataframe (pandas.DataFrame): The DataFrame to write to disk.\n",
    "        directory (str): The name of the directory to write the file in.\n",
    "        filename (str): The name of the file to write.\n",
    "        parameters (list): A list of parameters to include in the filename.\n",
    "\n",
    "    Returns:\n",
    "        str: The full path to the file that was written.\n",
    "\n",
    "    Example:\n",
    "        >>> df = pd.DataFrame({'a': [1, 2, 3], 'b': [4, 5, 6]})\n",
    "        >>> directory = 'data'\n",
    "        >>> filename = 'example.csv'\n",
    "        >>> parameters = ['param1', 'param2']\n",
    "        >>> file_path = write_df_to_disk(df, directory, filename, parameters)\n",
    "        >>> df_loaded = pd.read_csv(file_path)\n",
    "        >>> pd.testing.assert_frame_equal(df, df_loaded)\n",
    "    \"\"\"\n",
    "    # navigate up one level from cwd\n",
    "    parent_dir = os.path.dirname(os.getcwd())\n",
    "    \n",
    "    # navigate into directory\n",
    "    dir_path = os.path.join(parent_dir, directory)\n",
    "\n",
    "    # create directory if it does not exist\n",
    "    os.makedirs(dir_path, exist_ok=True)\n",
    "    \n",
    "    # merge directory path with file name\n",
    "    file_path = os.path.join(dir_path, parameters+\"_\"+ filename)\n",
    "    \n",
    "    # write dataframe to file\n",
    "    dataframe.to_csv(file_path, index=False)\n",
    "    \n",
    "    return file_path\n",
    "\n",
    "def test_write_df_to_disk():\n",
    "    # create example dataframe\n",
    "    df = pd.DataFrame({'a': [1, 2, 3], 'b': [4, 5, 6]})\n",
    "    \n",
    "    # write dataframe to disk\n",
    "    directory = 'data'\n",
    "    filename = 'example.csv'\n",
    "    parameters = str('param1'+ 'param2')\n",
    "    file_path = write_df_to_disk(df, directory, filename, parameters)\n",
    "    \n",
    "    # load dataframe from file\n",
    "    df_loaded = pd.read_csv(file_path)\n",
    "    \n",
    "    # check that data before and after writing to disk are the same\n",
    "    pd.testing.assert_frame_equal(df, df_loaded)\n",
    "    print(\"Test finished successfully\")\n",
    "\n",
    "test_write_df_to_disk()"
   ]
  },
  {
   "cell_type": "code",
   "execution_count": 285,
   "id": "88b395e1",
   "metadata": {
    "ExecuteTime": {
     "end_time": "2023-06-29T19:06:45.776049Z",
     "start_time": "2023-06-29T19:06:45.771774Z"
    }
   },
   "outputs": [],
   "source": [
    "def write_list_to_disk(lst, directory, filename, parameters):\n",
    "    \"\"\"\n",
    "    Given a list, a directory name, a file name, and a list of parameters,\n",
    "    writes the list to a file with a name that includes the parameters and returns the full path to the file.\n",
    "\n",
    "    Args:\n",
    "        lst (list): The list to write to disk.\n",
    "        directory (str): The name of the directory to write the file in.\n",
    "        filename (str): The name of the file to write.\n",
    "        parameters (list): A list of parameters to include in the filename.\n",
    "\n",
    "    Returns:\n",
    "        str: The full path to the file that was written.\n",
    "    \"\"\"\n",
    "    # Navigate up one level from cwd\n",
    "    parent_dir = os.path.dirname(os.getcwd())\n",
    "\n",
    "    # Navigate into directory\n",
    "    dir_path = os.path.join(parent_dir, directory)\n",
    "\n",
    "    # Create directory if it does not exist\n",
    "    os.makedirs(dir_path, exist_ok=True)\n",
    "\n",
    "    # Merge directory path with file name, including parameters in the file name\n",
    "    file_path = os.path.join(dir_path, \"_\".join(parameters) + \"_\" + filename)\n",
    "\n",
    "    # Write the list to a file\n",
    "    with open(file_path, 'w') as f:\n",
    "        for item in lst:\n",
    "            f.write(f\"{item}\\n\")\n",
    "\n",
    "    return file_path\n"
   ]
  },
  {
   "cell_type": "code",
   "execution_count": 286,
   "id": "b6b39fb3",
   "metadata": {
    "ExecuteTime": {
     "end_time": "2023-06-29T19:06:46.662895Z",
     "start_time": "2023-06-29T19:06:46.658723Z"
    }
   },
   "outputs": [],
   "source": [
    "def read_df_from_disk(directory, filename, parameters):\n",
    "    \"\"\"\n",
    "    Given a directory name, a file name, and a list of parameters,\n",
    "    reads the data from the file with the specified name and returns it as a Pandas DataFrame.\n",
    "\n",
    "    Args:\n",
    "        directory (str): The name of the directory to read the file from.\n",
    "        filename (str): The name of the file to read.\n",
    "        parameters (list): A list of parameters that were included in the filename.\n",
    "\n",
    "    Returns:\n",
    "        pandas.DataFrame: The data from the file as a Pandas DataFrame.\n",
    "\n",
    "    Example:\n",
    "        >>> directory = 'data'\n",
    "        >>> filename = 'param1_param2_example.csv'\n",
    "        >>> parameters = ['param1', 'param2']\n",
    "        >>> df = read_df_from_disk(directory, filename, parameters)\n",
    "    \"\"\"\n",
    "    # navigate up one level from cwd\n",
    "    parent_dir = os.path.dirname(os.getcwd())\n",
    "    \n",
    "    # navigate into directory\n",
    "    dir_path = os.path.join(parent_dir, directory)\n",
    "    \n",
    "    # merge directory path with file name\n",
    "    file_path = os.path.join(dir_path, parameters + \"_\" + filename)\n",
    "    \n",
    "    # read dataframe from file\n",
    "    dataframe = pd.read_csv(file_path)\n",
    "    \n",
    "    return dataframe\n"
   ]
  },
  {
   "cell_type": "code",
   "execution_count": 287,
   "id": "7f152b8e",
   "metadata": {
    "ExecuteTime": {
     "end_time": "2023-06-29T19:06:47.362931Z",
     "start_time": "2023-06-29T19:06:47.358855Z"
    }
   },
   "outputs": [],
   "source": [
    "def read_list_from_disk(directory, filename, parameters):\n",
    "    \"\"\"\n",
    "    Given a directory name, a file name, and a list of parameters,\n",
    "    reads the data from the file with the specified name and returns it as a list.\n",
    "\n",
    "    Args:\n",
    "        directory (str): The name of the directory to read the file from.\n",
    "        filename (str): The name of the file to read.\n",
    "        parameters (list): A list of parameters that were included in the filename.\n",
    "\n",
    "    Returns:\n",
    "        list: The data from the file as a list.\n",
    "\n",
    "    Example:\n",
    "        >>> directory = 'data'\n",
    "        >>> filename = 'param1_param2_example.txt'\n",
    "        >>> parameters = ['param1', 'param2']\n",
    "        >>> lst = read_list_from_disk(directory, filename, parameters)\n",
    "    \"\"\"\n",
    "    # Navigate up one level from cwd\n",
    "    parent_dir = os.path.dirname(os.getcwd())\n",
    "\n",
    "    # Navigate into directory\n",
    "    dir_path = os.path.join(parent_dir, directory)\n",
    "\n",
    "    # Merge directory path with file name, including parameters in the file name\n",
    "    file_path = os.path.join(dir_path, \"_\".join(parameters) + \"_\" + filename)\n",
    "\n",
    "    # Read list from file\n",
    "    with open(file_path, 'r') as f:\n",
    "        lst = [line.strip() for line in f]\n",
    "\n",
    "    return lst\n"
   ]
  },
  {
   "cell_type": "code",
   "execution_count": 288,
   "id": "7657e8fb",
   "metadata": {
    "ExecuteTime": {
     "end_time": "2023-06-29T19:06:48.035717Z",
     "start_time": "2023-06-29T19:06:48.031798Z"
    }
   },
   "outputs": [
    {
     "name": "stdout",
     "output_type": "stream",
     "text": [
      "b94d27b9934d3e08a52e52d7da7dabfac484efe37a5380ee9088f7ace2efcde9\n"
     ]
    }
   ],
   "source": [
    "def calculate_hash(string):\n",
    "    \"\"\"Calculate SHA-256 hash of a given string\"\"\"\n",
    "    hash_object = hashlib.sha256(string.encode())\n",
    "    hex_dig = hash_object.hexdigest()\n",
    "    return hex_dig\n",
    "hash_result = calculate_hash(\"hello world\")\n",
    "print(hash_result)\n",
    "# Output:  b94d27b9934d3e08a52e52d7da7dabfac484efe37a5380ee9088f7ace2efcde9\n"
   ]
  },
  {
   "cell_type": "markdown",
   "id": "dfa7e504",
   "metadata": {},
   "source": [
    "## H20 \n",
    "related functions"
   ]
  },
  {
   "cell_type": "code",
   "execution_count": 289,
   "id": "07ac0f36",
   "metadata": {
    "ExecuteTime": {
     "end_time": "2023-06-29T19:06:50.495101Z",
     "start_time": "2023-06-29T19:06:50.490884Z"
    }
   },
   "outputs": [],
   "source": [
    "def pandas_to_h2o(data):\n",
    "    # Convert Pandas DataFrame to H2OFrame\n",
    "    h2o_df = h2o.H2OFrame(data)\n",
    "    return h2o_df\n",
    "\n",
    "def h2o_to_pandas(h2o_df):\n",
    "    # Convert H2OFrame to Pandas DataFrame\n",
    "    pandas_df = h2o_df.as_data_frame()\n",
    "\n",
    "    return pandas_df"
   ]
  },
  {
   "cell_type": "code",
   "execution_count": 290,
   "id": "90b16faa",
   "metadata": {
    "ExecuteTime": {
     "end_time": "2023-06-29T19:06:51.036956Z",
     "start_time": "2023-06-29T19:06:51.033337Z"
    }
   },
   "outputs": [],
   "source": [
    "def identify_binary_continuous_columns(data: pd.DataFrame, target_column: str) -> tuple:\n",
    "    \"\"\"\n",
    "    Identify binary and continuous columns in a Pandas DataFrame.\n",
    "\n",
    "    Parameters:\n",
    "    data (pandas.DataFrame): The input Pandas DataFrame.\n",
    "    target_column (str): The name of the target column.\n",
    "\n",
    "    Returns:\n",
    "    tuple: A tuple of two lists containing the binary and continuous columns, respectively.\n",
    "\n",
    "    \"\"\"\n",
    "    binary_columns = []\n",
    "    continuous_columns = []\n",
    "\n",
    "    for column in data.columns:\n",
    "        if column != target_column:\n",
    "            unique_values = len(data[column].unique())\n",
    "            if unique_values == 2:\n",
    "                binary_columns.append(column)\n",
    "            else:\n",
    "                continuous_columns.append(column)\n",
    "\n",
    "    return binary_columns, continuous_columns\n"
   ]
  },
  {
   "cell_type": "code",
   "execution_count": 291,
   "id": "a66ab7d0",
   "metadata": {
    "ExecuteTime": {
     "end_time": "2023-06-29T19:06:52.003479Z",
     "start_time": "2023-06-29T19:06:51.999629Z"
    }
   },
   "outputs": [],
   "source": [
    "def convert_binary_to_categorical(data, binary_columns):\n",
    "    \"\"\"\n",
    "    Convert binary columns in a DataFrame to categorical data type.\n",
    "\n",
    "    :param data: A pandas DataFrame containing the data.\n",
    "    :param binary_columns: A list of column names that are binary.\n",
    "    :return: A new pandas DataFrame with binary columns converted to categorical data type.\n",
    "    \"\"\"\n",
    "    data_categorical = data.copy()\n",
    "\n",
    "    for column in binary_columns:\n",
    "        data_categorical[column] = data_categorical[column].astype('category')\n",
    "\n",
    "    return data_categorical"
   ]
  },
  {
   "cell_type": "code",
   "execution_count": 292,
   "id": "216d0805",
   "metadata": {
    "ExecuteTime": {
     "end_time": "2023-06-29T19:06:52.604608Z",
     "start_time": "2023-06-29T19:06:52.600628Z"
    }
   },
   "outputs": [],
   "source": [
    "def convert_to_h2o_frame(pandas_data,binary_columns):\n",
    "    \"\"\"\n",
    "    Convert a pandas DataFrame or Series to an H2O Frame, preserving categorical columns.\n",
    "\n",
    "    :param pandas_data: pandas DataFrame or Series to be converted\n",
    "    :return: Converted H2O Frame\n",
    "    \"\"\"\n",
    "\n",
    "    # Convert pandas Series to DataFrame\n",
    "    if isinstance(pandas_data, pd.Series):\n",
    "        pandas_data = pandas_data.to_frame()\n",
    "\n",
    "    # Convert pandas DataFrame to H2O Frame\n",
    "    h2o_frame = h2o.H2OFrame(pandas_data)\n",
    "\n",
    "    # Set factor levels for categorical columns in the H2O Frame\n",
    "    for column in h2o_frame.columns:\n",
    "        if column in binary_columns:\n",
    "            h2o_frame[column] = h2o_frame[column].asfactor()\n",
    "\n",
    "    return h2o_frame"
   ]
  },
  {
   "cell_type": "code",
   "execution_count": 293,
   "id": "b6dc6625",
   "metadata": {
    "ExecuteTime": {
     "end_time": "2023-06-29T19:06:53.221879Z",
     "start_time": "2023-06-29T19:06:53.218228Z"
    }
   },
   "outputs": [],
   "source": [
    "def exclude_columns(data: pd.DataFrame, exclude_list: list) -> pd.DataFrame:\n",
    "    \"\"\"\n",
    "    Exclude specified columns from a Pandas DataFrame.\n",
    "\n",
    "    Parameters:\n",
    "    data (pandas.DataFrame): The input Pandas DataFrame.\n",
    "    exclude_list (list): The list of column names to exclude.\n",
    "\n",
    "    Returns:\n",
    "    pandas.DataFrame: A new DataFrame with the specified columns removed.\n",
    "\n",
    "    \"\"\"\n",
    "    new_data = data.drop(exclude_list, axis=1)\n",
    "\n",
    "    return new_data"
   ]
  },
  {
   "cell_type": "code",
   "execution_count": 294,
   "id": "72e1bb87",
   "metadata": {
    "ExecuteTime": {
     "end_time": "2023-06-29T19:06:53.820522Z",
     "start_time": "2023-06-29T19:06:53.816512Z"
    }
   },
   "outputs": [],
   "source": [
    "def binary_classification_metrics(y_true, y_pred):\n",
    "    \"\"\"\n",
    "    Calculate and print binary classification metrics: accuracy, confusion matrix, and classification report.\n",
    "    \n",
    "    :param y_true: A pandas DataFrame or Series containing the true target values.\n",
    "    :param y_pred: A pandas DataFrame or Series containing the predicted target values.\n",
    "    :return: A dictionary containing the calculated classification metrics.\n",
    "    \"\"\"\n",
    "    # Calculate classification metrics\n",
    "    metrics = {}\n",
    "    metrics['accuracy'] = accuracy_score(y_true, y_pred)\n",
    "    metrics['confusion_matrix'] = confusion_matrix(y_true, y_pred)\n",
    "    metrics['classification_report'] = classification_report(y_true, y_pred)\n",
    "    \n",
    "    # Print the classification metrics\n",
    "    print('Accuracy:', metrics['accuracy'])\n",
    "    print('Confusion Matrix:\\n', metrics['confusion_matrix'])\n",
    "    print('Classification Report:\\n', metrics['classification_report'])\n",
    "\n",
    "    return metrics\n"
   ]
  },
  {
   "cell_type": "code",
   "execution_count": 295,
   "id": "0face55e",
   "metadata": {
    "ExecuteTime": {
     "end_time": "2023-06-29T19:06:54.633022Z",
     "start_time": "2023-06-29T19:06:54.622896Z"
    }
   },
   "outputs": [],
   "source": [
    "def evaluate_predictions(y_true,\n",
    "                         y_pred,\n",
    "                         positive_class=1,\n",
    "                         roc_file='roc_plot.html',\n",
    "                         pr_file='pr_plot.html'):\n",
    "    \"\"\"\n",
    "    Evaluate classification metrics, plot ROC curve and Precision-Recall curve using Plotly, and save plots as HTML files.\n",
    "\n",
    "    :param y_true: A pandas DataFrame or Series containing the true target values.\n",
    "    :param y_pred: A pandas DataFrame or Series containing the predicted target values.\n",
    "    :param positive_class: The label of the positive class (default: 1).\n",
    "    :param roc_file: The name of the HTML file to save the ROC curve plot (default: 'roc_plot.html').\n",
    "    :param pr_file: The name of the HTML file to save the Precision-Recall curve plot (default: 'pr_plot.html').\n",
    "    :return: A dictionary containing various classification metrics.\n",
    "    \"\"\"\n",
    "    # Calculate ROC curve and AUC\n",
    "    fpr, tpr, _ = roc_curve(y_true, y_pred, pos_label=positive_class)\n",
    "    metrics['auc'] = auc(fpr, tpr)\n",
    "\n",
    "    # Calculate Precision-Recall curve and average precision\n",
    "    precision, recall, _ = precision_recall_curve(y_true,\n",
    "                                                  y_pred,\n",
    "                                                  pos_label=positive_class)\n",
    "    metrics['average_precision'] = average_precision_score(y_true, y_pred)\n",
    "\n",
    "    # Create ROC curve plot\n",
    "    fig_roc = make_subplots(rows=1, cols=1, subplot_titles=('ROC Curve', ))\n",
    "    fig_roc.add_trace(go.Scatter(x=fpr,\n",
    "                                 y=tpr,\n",
    "                                 mode='lines',\n",
    "                                 name='ROC Curve',\n",
    "                                 line=dict(color='blue')),\n",
    "                      row=1,\n",
    "                      col=1)\n",
    "    fig_roc.add_trace(go.Scatter(x=[0, 1],\n",
    "                                 y=[0, 1],\n",
    "                                 mode='lines',\n",
    "                                 name='Random',\n",
    "                                 line=dict(color='black', dash='dash')),\n",
    "                      row=1,\n",
    "                      col=1)\n",
    "    fig_roc.update_layout(title=f'ROC Curve (AUC = {metrics[\"auc\"]:.4f})',\n",
    "                          xaxis_title='False Positive Rate',\n",
    "                          yaxis_title='True Positive Rate',\n",
    "                          showlegend=True,\n",
    "                          legend=dict(orientation='h',\n",
    "                                      yanchor='bottom',\n",
    "                                      xanchor='right',\n",
    "                                      y=1.02,\n",
    "                                      x=1))\n",
    "\n",
    "    # Save the ROC curve plot as an HTML file\n",
    "    pio.write_html(fig_roc, file=roc_file)\n",
    "\n",
    "    # Create Precision-Recall curve plot\n",
    "    fig_pr = make_subplots(rows=1,\n",
    "                           cols=1,\n",
    "                           subplot_titles=('Precision-Recall Curve', ))\n",
    "    fig_pr.add_trace(go.Scatter(x=recall,\n",
    "                                y=precision,\n",
    "                                mode='lines',\n",
    "                                name='Precision-Recall Curve',\n",
    "                                line=dict(color='blue')),\n",
    "                     row=1,\n",
    "                     col=1)\n",
    "    fig_pr.update_layout(\n",
    "        title=\n",
    "        f'Precision-Recall Curve (Avg. Precision = {metrics[\"average_precision\"]:.4f})',\n",
    "        xaxis_title='Recall',\n",
    "        yaxis_title='Precision',\n",
    "        showlegend=True,\n",
    "        legend=dict(orientation='h',\n",
    "                    yanchor='bottom',\n",
    "                    xanchor='right',\n",
    "                    y=1.02,\n",
    "                    x=1))\n",
    "\n",
    "    # Save the Precision-Recall curve plot as an HTML file\n",
    "    pio.write_html(fig_pr, file=pr_file)\n",
    "\n",
    "    # Print classification metrics nicely\n",
    "\n",
    "    print(f'AUC: {metrics[\"auc\"]:.4f}')\n",
    "    print(f'Average Precision: {metrics[\"average_precision\"]:.4f}')\n",
    "\n",
    "    # Open the HTML files in the default web browser\n",
    "    webbrowser.open(roc_file)\n",
    "    webbrowser.open(pr_file)\n",
    "\n",
    "    return metrics"
   ]
  },
  {
   "cell_type": "code",
   "execution_count": 296,
   "id": "858e6594",
   "metadata": {
    "ExecuteTime": {
     "end_time": "2023-06-29T19:06:55.288603Z",
     "start_time": "2023-06-29T19:06:55.283998Z"
    }
   },
   "outputs": [],
   "source": [
    "def save_h2o_model_to_disk(model, directory, filename, run_explanation=False, force_return=True):\n",
    "    \"\"\"\n",
    "    Given an H2O estimator object, a directory name, and a file name,\n",
    "    saves the trained model to disk using the provided file name and directory.\n",
    "    If 'force_rerun' is set to True, it will delete any existing model at the \n",
    "    specified path before saving the new model. If 'run_explanation' is set to True,\n",
    "    it will generate and save an explanation of the model.\n",
    "\n",
    "    Args:\n",
    "        model (H2OEstimator): The H2O estimator object to save.\n",
    "        directory (str): The name of the directory to save the model in.\n",
    "        filename (str): The name of the file to save the model in.\n",
    "        run_explanation (bool, optional): Whether to generate and save an explanation \n",
    "            of the model. Defaults to False.\n",
    "        force_rerun (bool, optional): Whether to delete any existing model at the \n",
    "            specified path before saving the new model. Defaults to True.\n",
    "\n",
    "    Returns:\n",
    "        str: The full path to the saved model.\n",
    "\n",
    "    Example:\n",
    "        >>> model = h2o.estimators.random_forest.H2ORandomForestEstimator(ntrees=50, max_depth=20, nfolds=10, seed=42)\n",
    "        >>> data = h2o.import_file('example.csv')\n",
    "        >>> predictors = ['a', 'b']\n",
    "        >>> response = 'c'\n",
    "        >>> model.train(x=predictors, y=response, training_frame=data)\n",
    "        >>> directory = 'models'\n",
    "        >>> filename = 'rf_model'\n",
    "        >>> saved_model_path = save_h2o_model_to_disk(model, directory, filename)\n",
    "        >>> loaded_model = h2o.load_model(saved_model_path)\n",
    "    \"\"\"\n",
    "    # navigate up one level from cwd\n",
    "    parent_dir = os.path.dirname(os.getcwd())\n",
    "\n",
    "    # navigate into directory\n",
    "    dir_path = os.path.join(parent_dir, directory)\n",
    "\n",
    "    # create directory if it does not exist\n",
    "    os.makedirs(dir_path, exist_ok=True)\n",
    "\n",
    "    # merge directory path with file name\n",
    "    file_path = os.path.join(dir_path, filename)\n",
    "\n",
    "\n",
    "    if force_return and os.path.exists(file_path):\n",
    "        shutil.rmtree(file_path)\n",
    "    # save model to file\n",
    "    #model.save_model(file_path)\n",
    "    h2o.save_model(model, file_path)\n",
    "    \n",
    "    if(run_explanation):\n",
    "        explanation = h2o.explain(model, frame=None, figsize=(12, 8), render=False)\n",
    "        \n",
    "    return file_path\n"
   ]
  },
  {
   "cell_type": "code",
   "execution_count": 297,
   "id": "a51c59f4",
   "metadata": {
    "ExecuteTime": {
     "end_time": "2023-06-29T19:06:55.888881Z",
     "start_time": "2023-06-29T19:06:55.883865Z"
    }
   },
   "outputs": [],
   "source": [
    "def save_h2o_explanation_to_disk(explanation, directory, model_filename, explanation_filename):\n",
    "    \"\"\"\n",
    "    Given an H2O estimator object, a directory name, and file names for the model and explanation,\n",
    "    saves the trained model and its explanation to disk using the provided file names and directory.\n",
    "\n",
    "    Args:\n",
    "        model (H2OEstimator): The H2O estimator object to save.\n",
    "        directory (str): The name of the directory to save the model and explanation in.\n",
    "        model_filename (str): The name of the file to save the model in.\n",
    "        explanation_filename (str): The name of the file to save the explanation in.\n",
    "\n",
    "    Returns:\n",
    "        tuple: The full paths to the saved model and explanation.\n",
    "\n",
    "    Example:\n",
    "        >>> model = h2o.estimators.random_forest.H2ORandomForestEstimator(ntrees=50, max_depth=20, nfolds=10, seed=42)\n",
    "        >>> data = h2o.import_file('example.csv')\n",
    "        >>> predictors = ['a', 'b']\n",
    "        >>> response = 'c'\n",
    "        >>> model.train(x=predictors, y=response, training_frame=data)\n",
    "        >>> directory = 'models'\n",
    "        >>> model_filename = 'rf_model'\n",
    "        >>> explanation_filename = 'rf_explanation.html'\n",
    "        >>> saved_model_path, saved_explanation_path = save_h2o_model_and_explanation_to_disk(model, directory, model_filename, explanation_filename)\n",
    "        >>> loaded_model = h2o.load_model(saved_model_path)\n",
    "    \"\"\"\n",
    "    # navigate up one level from cwd\n",
    "    parent_dir = os.path.dirname(os.getcwd())\n",
    "\n",
    "    # navigate into directory\n",
    "    dir_path = os.path.join(parent_dir, directory)\n",
    "\n",
    "    # create directory if it does not exist\n",
    "    os.makedirs(dir_path, exist_ok=True)\n",
    "\n",
    "    # merge directory path with file names\n",
    "    model_file_path = os.path.join(dir_path, model_filename)\n",
    "    explanation_file_path = os.path.join(dir_path, explanation_filename)\n",
    "\n",
    "    with open(explanation_file_path, 'w') as f:\n",
    "        f.write(explanation)\n",
    "\n",
    "    # save explanation plots to files\n",
    "    for i, item in enumerate(explanation):\n",
    "        if isinstance(item, plt.Figure):\n",
    "            item.savefig(os.path.join(explanation_file_path, f\"plot_{i}.png\"))\n",
    "            plt.close(item)\n",
    "\n",
    "    return model_file_path, explanation_file_path\n"
   ]
  },
  {
   "cell_type": "markdown",
   "id": "e057fdb6",
   "metadata": {},
   "source": [
    "## Model training and saving"
   ]
  },
  {
   "cell_type": "code",
   "execution_count": 298,
   "id": "6d9b154d",
   "metadata": {
    "ExecuteTime": {
     "end_time": "2023-06-29T19:06:57.047932Z",
     "start_time": "2023-06-29T19:06:57.043213Z"
    }
   },
   "outputs": [],
   "source": [
    "import os\n",
    "\n",
    "def generate_file_path(file_name):\n",
    "    \"\"\"\n",
    "    Generate a file path for a file located one directory level up.\n",
    "\n",
    "    Parameters:\n",
    "    file_name (str): The name of the file including any subdirectories from the parent directory.\n",
    "\n",
    "    Returns:\n",
    "    file_path (str): The full path to the file.\n",
    "    \"\"\"\n",
    "    # Get the current working directory\n",
    "    cwd = os.getcwd()\n",
    "\n",
    "    # Get the parent directory\n",
    "    parent_dir = os.path.dirname(cwd)\n",
    "\n",
    "    # Define the file path by joining the parent directory path with the file name\n",
    "    file_path = os.path.join(parent_dir, file_name)\n",
    "\n",
    "    return file_path\n"
   ]
  },
  {
   "cell_type": "code",
   "execution_count": 299,
   "id": "3a16605c",
   "metadata": {
    "ExecuteTime": {
     "end_time": "2023-06-29T19:06:57.877038Z",
     "start_time": "2023-06-29T19:06:57.866770Z"
    }
   },
   "outputs": [],
   "source": [
    "import itertools\n",
    "\n",
    "\n",
    "def model_training_and_saving(X_train,\n",
    "                              X_val,\n",
    "                              y_train,\n",
    "                              y_val,\n",
    "                              exclude_LIST,\n",
    "                              models_and_hyperparams,\n",
    "                              model_to_train,\n",
    "                              model_directory,\n",
    "                              run_explanation,\n",
    "                              output_filepath=None,\n",
    "                              print_training_info=False,\n",
    "                              force_return=True):\n",
    "    \"\"\"\n",
    "    Train models specified in 'models_and_hyperparams' using H2O Grid Search with given training data.\n",
    "    Save the trained model to disk. If 'force_rerun' is set to True, it will delete any existing \n",
    "    model before retraining and saving the new model. If 'run_explanation' is set to True, it will\n",
    "    generate and save an explanation of the model.\n",
    "\n",
    "    Args:\n",
    "        X_train (DataFrame): The training data to use for model training.\n",
    "        exclude_list (list): List of feature names to be excluded from the training.\n",
    "        y_train (DataFrame): The target variables for model training.\n",
    "        data_set_parameters (str): Information that uniquely describes the dataset.\n",
    "        models_and_hyperparams (list of dict): List of dictionaries, where each dictionary contains \n",
    "            information about a model and its hyperparameters to be trained.\n",
    "        model_to_train (str): Model to be trained this time.\n",
    "        model_directory (str): The directory where the trained model will be saved.\n",
    "        run_explanation (bool, optional): Whether to generate and save an explanation of the model. Defaults to False.\n",
    "        force_rerun (bool, optional): Whether to delete any existing model before retraining and saving the new model. Defaults to True.\n",
    "\n",
    "    Returns:\n",
    "        None\n",
    "    \"\"\"\n",
    "    if output_filepath and isinstance(output_filepath, str):\n",
    "        output_directory = os.path.dirname(output_filepath)  # 获取输出文件所在的目录路径\n",
    "\n",
    "        # 如果目录不存在，则创建它\n",
    "        if output_directory and not os.path.exists(output_directory):\n",
    "            os.makedirs(output_directory)\n",
    "\n",
    "        try:\n",
    "            output_file = open(output_filepath, 'w')\n",
    "\n",
    "        except FileNotFoundError:\n",
    "            output_file = open(output_filepath, 'w')\n",
    "\n",
    "    else:\n",
    "        output_file = output_filepath  # 直接使用提供的文件对象\n",
    "\n",
    "    # 为每个模型和超参数组合执行Grid Search\n",
    "    for model_info in models_and_hyperparams:  ##loop: model type\n",
    "        modelName = model_info['model']\n",
    "\n",
    "        if model_mapping[modelName] not in model_to_train:\n",
    "            continue  # the model has parameters but you do not want to train it this time\n",
    "\n",
    "        seen = set(\n",
    "        )  #To avoid repeated exclude_list. They are necessary in follwing code, but should be avoided here.\n",
    "\n",
    "        #print some info\n",
    "        print(f'Model info: {model_info}\\n', file=output_file)  # 打印模型信息\n",
    "\n",
    "        for exclude_list in exclude_LIST:  ##loop: train set\n",
    "\n",
    "            print(str(sorted(exclude_list)) + '\\n', file=output_file)\n",
    "\n",
    "            model = model_info['model']\n",
    "\n",
    "            #if this exclude_list has been trained, escape it\n",
    "            exclude_list_tuple = tuple(exclude_list)\n",
    "            if exclude_list_tuple in seen:\n",
    "                continue\n",
    "            else:\n",
    "                seen.add(exclude_list_tuple)\n",
    "\n",
    "            #predictors\n",
    "            included_features = [\n",
    "                col for col in X_train.columns if col not in exclude_list\n",
    "            ]\n",
    "\n",
    "            model_name = model_info['model_name']\n",
    "\n",
    "            # 初始化Grid Search\n",
    "            params = model_info.get('params', {})\n",
    "            hyper_params = model_info['hyper_params']\n",
    "\n",
    "            grid = H2OGridSearch(model=model(**params),\n",
    "                                 hyper_params=hyper_params,\n",
    "                                 search_criteria={\"strategy\": \"Cartesian\"})\n",
    "            # 训练多个模型\n",
    "            grid.train(x=included_features,\n",
    "                       y=y_train.columns,\n",
    "                       training_frame=X_train.cbind(y_train),\n",
    "                       validation_frame=X_val.cbind(y_val))  # 使用验证集\n",
    "\n",
    "            # 获取Grid Search结果\n",
    "            grid_results = grid.get_grid()\n",
    "\n",
    "            keys, values = zip(*hyper_params.items())\n",
    "            hyper_param_combinations = [\n",
    "                dict(zip(keys, v)) for v in itertools.product(*values)\n",
    "            ]\n",
    "\n",
    "            metric_table = grid_results.sorted_metric_table()\n",
    "\n",
    "            best_auc = 0  # 初始化最优AUC值\n",
    "            best_hyper_params = None  # 初始化最优超参数\n",
    "            best_model_id = None  #model id for the best model under same exclude_liat\n",
    "\n",
    "            for i, hyper_param in enumerate(\n",
    "                    hyper_param_combinations):  #loop: para\n",
    "\n",
    "                indices = list(range(len(metric_table)))\n",
    "                for key in list(hyper_param.keys()):\n",
    "                    indices_new = [\n",
    "                        i for i, value in enumerate(metric_table[key].tolist())\n",
    "                        if (str(value) == str(hyper_param[key])\n",
    "                            or value == str(hyper_param[key]) or str(value) ==\n",
    "                            hyper_param[key] or value == hyper_param[key])\n",
    "                    ]\n",
    "                    indices = [\n",
    "                        value for value in indices_new if value in indices\n",
    "                    ]\n",
    "\n",
    "                model_id = metric_table['model_ids'].tolist()[indices[0]]\n",
    "                model = h2o.get_model(model_id)\n",
    "                model_to_save = h2o.get_model(model_id)\n",
    "\n",
    "                # 获取模型在验证集上的AUC\n",
    "                model_perf = model.model_performance(X_val.cbind(y_val))\n",
    "                model_auc = model_perf.auc()\n",
    "\n",
    "                data_set_parameters = str(\n",
    "                    sorted(exclude_list)\n",
    "                ) + data_directory + preprocessed_filename + file_name\n",
    "                # for saving trained model to disk. # those are the parameters that uniquely describe the dataset\n",
    "                model_parameters = data_set_parameters + model_name + str(\n",
    "                    hyper_param)  #\n",
    "                model_parameters_hash = calculate_hash(model_parameters)\n",
    "\n",
    "                model_to_save.model_id = model_parameters_hash\n",
    "\n",
    "                save_h2o_model_to_disk(model=model_to_save,\n",
    "                                       directory=model_directory,\n",
    "                                       filename=model_parameters_hash,\n",
    "                                       force_return=force_return)\n",
    "                print(f'Model id: {model_to_save.model_id}\\n\\n',\n",
    "                      file=output_file)\n",
    "                print(f'Model AUC: {model_auc}\\n\\n', file=output_file)\n",
    "\n",
    "                if model_auc > best_auc:\n",
    "                    best_auc = model_auc\n",
    "                    best_hyper_params = hyper_param\n",
    "                    best_model_id = model_to_save.model_id\n",
    "\n",
    "                # print some information\n",
    "                if print_training_info:\n",
    "                    print(\n",
    "                        f'model_parameters: {model_parameters} model_parameters_hash: {model_parameters_hash} trained and saved!\\n model_parameters_hash: {model_parameters_hash}\\n'\n",
    "                    )\n",
    "\n",
    "                if run_explanation:\n",
    "                    explanation = h2o.explain(model_to_save,\n",
    "                                              frame=X_train.cbind(y_train),\n",
    "                                              figsize=(12, 8),\n",
    "                                              render=False)\n",
    "                    save_h2o_explanation_to_disk(\n",
    "                        explanation=explanation,\n",
    "                        directory=model_directory,\n",
    "                        model_filename=model_parameters_hash,\n",
    "                        explanation_filename='explain')\n",
    "            print(f'Best hyper parameters: {best_hyper_params}\\n',\n",
    "                  file=output_file)\n",
    "            print(f'Best model id: {best_model_id}\\n\\n', file=output_file)\n",
    "\n",
    "    # 在打印完成后，如果输出文件是通过字符串指定的，则关闭文件\n",
    "    if isinstance(output_filepath, str):\n",
    "        output_file.close()"
   ]
  },
  {
   "cell_type": "markdown",
   "id": "918cb316",
   "metadata": {},
   "source": [
    "## Load pairs and compare"
   ]
  },
  {
   "cell_type": "code",
   "execution_count": 300,
   "id": "a6964301",
   "metadata": {
    "ExecuteTime": {
     "end_time": "2023-06-29T19:07:14.053532Z",
     "start_time": "2023-06-29T19:07:13.767763Z"
    }
   },
   "outputs": [],
   "source": [
    "import rpy2.robjects as robjects\n",
    "from rpy2.robjects.packages import importr\n",
    "import rpy2.rinterface_lib.callbacks\n",
    "import contextlib\n",
    "import io\n",
    "\n",
    "# Import R's \"pROC\" package\n",
    "pROC = importr('pROC')\n",
    "\n",
    "@contextlib.contextmanager\n",
    "def no_print():\n",
    "    \"\"\"\n",
    "    Context manager to suppress console output.\n",
    "    \"\"\"\n",
    "    original_writeconsole_regular = rpy2.rinterface_lib.callbacks.consolewrite_print\n",
    "    rpy2.rinterface_lib.callbacks.consolewrite_print = lambda x: None\n",
    "    try:\n",
    "        yield\n",
    "    finally:\n",
    "        rpy2.rinterface_lib.callbacks.consolewrite_print = original_writeconsole_regular\n",
    "\n",
    "\n",
    "def delong_test(model1, model2, X_test, y_test):\n",
    "    \"\"\"\n",
    "    Performs the DeLong test to compare the performance of two models.\n",
    "\n",
    "    Parameters:\n",
    "    model1: First h2o model for comparison.\n",
    "    model2: Second h2o model for comparison.\n",
    "    X_test: h2o DataFrame of features used for testing.\n",
    "    y_test: h2o DataFrame of target variable used for testing.\n",
    "\n",
    "    Returns:\n",
    "    None. Prints the results of the DeLong test.\n",
    "\n",
    "    Example:\n",
    "    delong_test(model_with6, model_without6, X_test, y_test)\n",
    "    \"\"\"\n",
    "\n",
    "    # Generate predictions\n",
    "    pred1 = model1.predict(X_test.cbind(y_test)).as_data_frame()\n",
    "    pred2 = model2.predict(X_test.cbind(y_test)).as_data_frame()\n",
    "\n",
    "    # Get predicted probabilities and true labels\n",
    "    y_scores1 = pred1['p1'].values\n",
    "    y_scores2 = pred2['p1'].values\n",
    "    y_true = y_test.as_data_frame().values.flatten()\n",
    "\n",
    "    # Create R objects\n",
    "    r_y_scores1 = robjects.FloatVector(y_scores1)\n",
    "    r_y_scores2 = robjects.FloatVector(y_scores2)\n",
    "    r_y_true = robjects.IntVector(y_true)\n",
    "\n",
    "    with no_print():\n",
    "        roc1 = pROC.roc(r_y_true, r_y_scores1)\n",
    "        roc2 = pROC.roc(r_y_true, r_y_scores2)\n",
    "        roc_test = pROC.roc_test(roc1, roc2, method=\"delong\")\n",
    "\n",
    "\n",
    "    # Extract hypothesis and p-value\n",
    "    hypothesis = roc_test.rx2('alternative')[0]\n",
    "    p_value = roc_test.rx2('p.value')[0]\n",
    "\n",
    "    return hypothesis, p_value\n",
    "\n",
    "\n",
    "# Example usage:\n",
    "# delong_test(model_with6, model_without6, X_test, y_test)"
   ]
  },
  {
   "cell_type": "code",
   "execution_count": 301,
   "id": "052241a4",
   "metadata": {
    "ExecuteTime": {
     "end_time": "2023-06-29T19:07:15.037784Z",
     "start_time": "2023-06-29T19:07:15.032694Z"
    }
   },
   "outputs": [],
   "source": [
    "def load_h2o_model_from_disk(directory, filename):\n",
    "    \"\"\"\n",
    "    Given a directory name and a file name, loads an H2O model from disk.\n",
    "\n",
    "    Args:\n",
    "        directory (str): The name of the directory where the model is saved.\n",
    "        filename (str): The name of the file where the model is saved.\n",
    "\n",
    "    Returns:\n",
    "        H2OEstimator: The loaded H2O estimator object.\n",
    "\n",
    "    Example:\n",
    "        >>> directory = 'models'\n",
    "        >>> filename = 'rf_model'\n",
    "        >>> loaded_model = load_h2o_model_from_disk(directory, filename)\n",
    "        >>> predictions = loaded_model.predict(data)\n",
    "    \"\"\"\n",
    "    # Navigate up one level from cwd\n",
    "    parent_dir = os.path.dirname(os.getcwd())\n",
    "\n",
    "    # Navigate into directory\n",
    "    dir_path = os.path.join(parent_dir, directory)\n",
    "\n",
    "    # Merge directory path with file name\n",
    "    file_path = os.path.join(dir_path, filename)\n",
    "    file_path = os.path.join(file_path, filename)\n",
    "    \n",
    "\n",
    "    # Load model from file\n",
    "    loaded_model = h2o.load_model(file_path)\n",
    "    \n",
    "    return loaded_model\n"
   ]
  },
  {
   "cell_type": "code",
   "execution_count": 303,
   "id": "75f4c633",
   "metadata": {
    "ExecuteTime": {
     "end_time": "2023-06-29T19:07:24.065086Z",
     "start_time": "2023-06-29T19:07:24.060339Z"
    }
   },
   "outputs": [],
   "source": [
    "def load_one_model(model_directory, model_parameters_hash):\n",
    "    \"\"\"\n",
    "    Load a trained H2O model from disk.\n",
    "    \n",
    "    Parameters:\n",
    "    model_directory (str): The directory where the model is stored.\n",
    "    model_name (str): The name of the model.\n",
    "    hyper_param (dict): The hyperparameters used to train the model.\n",
    "    exclude_list (list): A list of features that were excluded during model training.\n",
    "\n",
    "    Returns:\n",
    "    model: The loaded H2O model.\n",
    "    \"\"\"\n",
    "    model = load_h2o_model_from_disk(directory=model_directory,\n",
    "                                     filename=model_parameters_hash)\n",
    "\n",
    "    #print(model)\n",
    "    return model"
   ]
  },
  {
   "cell_type": "code",
   "execution_count": 304,
   "id": "61d30833",
   "metadata": {
    "ExecuteTime": {
     "end_time": "2023-06-29T19:07:25.018360Z",
     "start_time": "2023-06-29T19:07:25.014447Z"
    }
   },
   "outputs": [],
   "source": [
    "def load_a_group_of_model(hash_LIST, model_directory):\n",
    "    h2o_models = []\n",
    "\n",
    "    for model_parameters_hash in hash_LIST:\n",
    "        h2o_models.append(\n",
    "            load_one_model(model_directory, model_parameters_hash))\n",
    "\n",
    "    # Return the list of loaded models.\n",
    "    return h2o_models"
   ]
  },
  {
   "cell_type": "markdown",
   "id": "90d1b33e",
   "metadata": {},
   "source": [
    "## ROC"
   ]
  },
  {
   "cell_type": "code",
   "execution_count": 305,
   "id": "0b5d6087",
   "metadata": {
    "ExecuteTime": {
     "end_time": "2023-06-29T19:07:27.561840Z",
     "start_time": "2023-06-29T19:07:27.553621Z"
    }
   },
   "outputs": [],
   "source": [
    "from h2o import H2OFrame\n",
    "\n",
    "def model_compare_within_group(model_group, X_test, y_test, paired=True):\n",
    "    \"\"\"\n",
    "    This function evaluates a group of models on a given test set, and returns several evaluation metrics for each model.\n",
    "    If the 'paired' parameter is set to True, the function will also perform a DeLong test to compare the performance of each pair of models.\n",
    "\n",
    "    Parameters:\n",
    "    model_group: A list of trained H2O models to be evaluated.\n",
    "    X_test: An H2OFrame representing the predictor variables in the test set.\n",
    "    y_test: An H2OFrame representing the response variable in the test set.\n",
    "    paired: A Boolean indicating whether to perform a DeLong test comparing the performance of each pair of models.\n",
    "\n",
    "    Returns:\n",
    "    confusion_matrices: A list of confusion matrices, one for each model.\n",
    "    roc_curves: A list of ROC curves, one for each model.\n",
    "    auc_s: A list of AUC scores, one for each model.\n",
    "    delong_results: A list of tuples, each containing the null hypothesis and p-value from a DeLong test comparing a pair of models.\n",
    "    \"\"\"\n",
    "    confusion_matrices = []\n",
    "    roc_curves = []\n",
    "    auc_s = []\n",
    "    delong_results = []\n",
    "\n",
    "    # Loop over models and compute metrics\n",
    "    for model in model_group:\n",
    "        # Performance\n",
    "        performance = model.model_performance(X_test.cbind(y_test))\n",
    "\n",
    "        # Get confusion matrix\n",
    "        confusion_matrix = performance.confusion_matrix()\n",
    "        confusion_matrices.append(confusion_matrix)\n",
    "\n",
    "        # Get ROC curve\n",
    "        roc_curve = performance.roc()\n",
    "        roc_curves.append(roc_curve)\n",
    "\n",
    "        # Get AUC value\n",
    "        auc = performance.auc()\n",
    "        auc_s.append(auc)\n",
    "\n",
    "    # If paired is True, perform DeLong test on each pair of models\n",
    "    if paired:\n",
    "        for i in range(0, len(model_group), 2):\n",
    "            model1 = model_group[i]\n",
    "            model2 = model_group[i + 1]\n",
    "            hypothesis, p_value = delong_test(model1, model2, X_test, y_test)\n",
    "            delong_results.append((hypothesis, p_value))\n",
    "        return confusion_matrices, roc_curves, auc_s, delong_results\n",
    "    else:\n",
    "        return confusion_matrices, roc_curves, auc_s\n"
   ]
  },
  {
   "cell_type": "code",
   "execution_count": 306,
   "id": "f2796b8f",
   "metadata": {
    "ExecuteTime": {
     "end_time": "2023-06-29T19:07:30.610726Z",
     "start_time": "2023-06-29T19:07:30.600053Z"
    }
   },
   "outputs": [],
   "source": [
    "def load_pairs_and_compare(X_test,\n",
    "                           y_test,\n",
    "                           hash_LIST,\n",
    "                           model_directory,\n",
    "                           graph_directory,\n",
    "                           model_to_analyse,\n",
    "                           models_and_hyperparams,\n",
    "                           paired=True):\n",
    "    \"\"\"\n",
    "    This function loads pairs of models specified in models_and_hyperparams, \n",
    "    compares the performance of each pair using model_compare_within_group, and saves ROC curves in a PDF file.\n",
    "\n",
    "    Parameters:\n",
    "    X_test: The test data (features).\n",
    "    y_test: The test data (labels).\n",
    "    exclude_LIST: A list, each sublist of which contains the features to be excluded when loading the model.\n",
    "    models_and_hyperparams: A list of dictionaries, each of which contains the model type, model name, and hyperparameters.\n",
    "    model_directory: A string representing the directory where the H2O model files are saved.\n",
    "    graph_directory: A string representing the directory where the ROC curve graphs will be saved.\n",
    "    model_to_analyse: A list of model names to analyze.\n",
    "    paired: A boolean indicating whether to perform DeLong's test on each pair of models (default is True).\n",
    "\n",
    "    Returns:\n",
    "    result_list: A list, each sublist of which contains the model_id of the model, the hyperparameters, and the result of the DeLong test.\n",
    "    graph_filepath: The file path of the PDF file containing the ROC curve graphs.\n",
    "    \"\"\"\n",
    "    result_list = []\n",
    "    problematic_pairs = [\n",
    "    ]  # List to keep track of problematic hyperparameters and indices\n",
    "\n",
    "    counter = 0\n",
    "    for model_dict in models_and_hyperparams:  # Loop over different model types\n",
    "        \"\"\"\n",
    "        counter += 1\n",
    "        if counter % 10 == 0:\n",
    "            time.sleep(\n",
    "                2.5\n",
    "            )  # Add a delay every 10 models to avoid overloading the system\n",
    "\n",
    "        \"\"\"\n",
    "        model_name = model_dict['model_name']\n",
    "        if model_name not in model_to_analyse:\n",
    "            continue\n",
    "\n",
    "        #Adjustment on path\n",
    "        current_directory = os.getcwd()\n",
    "        parent_directory = os.path.dirname(current_directory)\n",
    "\n",
    "        # Prepare to save ROC curves as a PDF file\n",
    "        graph_directory_path = os.path.join(parent_directory, graph_directory,\n",
    "                                            \"ROC_curves\",\n",
    "                                            str(preprocessed_filename))\n",
    "\n",
    "        # Create the directory if it doesn't exist\n",
    "        os.makedirs(graph_directory_path, exist_ok=True)\n",
    "\n",
    "        graph_filepath = os.path.join(graph_directory_path,\n",
    "                                      f\"{model_name}.pdf\")\n",
    "        pdf = PdfPages(graph_filepath)\n",
    "\n",
    "        model_group = load_a_group_of_model(hash_LIST, model_directory)\n",
    "\n",
    "        try:\n",
    "            if paired:\n",
    "                confusion_matrices, roc_curves, auc_s, delong_results = model_compare_within_group(\n",
    "                    model_group, X_test, y_test)\n",
    "                # Initialize an index to track model pairs\n",
    "                pair_index = 0\n",
    "\n",
    "            while pair_index < len(model_group):\n",
    "                model1 = model_group[pair_index]\n",
    "                model2 = model_group[pair_index + 1]\n",
    "\n",
    "                if paired:\n",
    "                    delong_result = delong_results[pair_index // 2]\n",
    "                    hypothesis, p_value = delong_result\n",
    "                    result_list.append([\n",
    "                        model1.model_id, auc_s[pair_index], hypothesis, p_value\n",
    "                    ])\n",
    "                    result_list.append([\n",
    "                        model2.model_id, auc_s[pair_index + 1], hypothesis,\n",
    "                        p_value\n",
    "                    ])\n",
    "                else:\n",
    "                    result_list.append([model1.model_id, auc_s[pair_index]])\n",
    "                    result_list.append(\n",
    "                        [model2.model_id, auc_s[pair_index + 1]])\n",
    "\n",
    "                # Plot ROC curves for this pair of models\n",
    "                for j in range(pair_index, pair_index + 2):\n",
    "                    roc_curve = roc_curves[j]\n",
    "                    linestyle = '-' if j % 2 == 0 else '-.'\n",
    "                    alpha = 0.5 if j % 2 == 0 else 1\n",
    "                    color = f'C{j // 2}'  # Use color cycle C0, C1, C2, ...\n",
    "                    plt.plot(roc_curve[0],\n",
    "                             roc_curve[1],\n",
    "                             linestyle=linestyle,\n",
    "                             color=color,\n",
    "                             alpha=alpha)  # Add AUC value to the label)\n",
    "\n",
    "                plt.title(f\"Model: {model_name}\")\n",
    "                plt.xlabel(\"False Positive Rate\")\n",
    "                plt.ylabel(\"True Positive Rate\")\n",
    "                plt.xlim([0, 1.2])\n",
    "                plt.ylim([0, 1.2])\n",
    "\n",
    "                # Create a custom legend for model pairs\n",
    "                if paired:\n",
    "                    legend_elements = [\n",
    "                        Patch(\n",
    "                            facecolor=f'C{pair_index // 2}',\n",
    "                            edgecolor=f'C{pair_index // 2}',\n",
    "                            label=\n",
    "                            f\"Model Pair {pair_index // 2 + 1}, Hypothesis: {delong_results[pair_index // 2][0]}, p-value: {delong_results[pair_index // 2][1]}\",\n",
    "                            alpha=0.5 if j % 2 == 0 else 1)\n",
    "                    ]\n",
    "\n",
    "                    auc_legend_elements = [\n",
    "                        Line2D([0], [0],\n",
    "                               color=f'C{pair_index // 2}',\n",
    "                               linestyle='-' if j % 2 == 0 else '-.',\n",
    "                               label=f\"Model {j+1}: AUC = {auc_s[j]:.2f}\")\n",
    "                        for j in range(pair_index, pair_index + 2)\n",
    "                    ]\n",
    "                    plt.legend(handles=legend_elements + auc_legend_elements,\n",
    "                               loc=\"lower right\")\n",
    "\n",
    "                pdf.savefig()\n",
    "                plt.clf()\n",
    "\n",
    "                # Move to the next pair\n",
    "                pair_index += 2\n",
    "\n",
    "        except Exception as e:\n",
    "            print(f\"Error!\")\n",
    "            problematic_pairs.append((e))\n",
    "\n",
    "        pdf.close()\n",
    "\n",
    "    if problematic_pairs:\n",
    "        print(\n",
    "            f\"Problems encountered with the following hyperparameters and indices: {problematic_pairs}\"\n",
    "        )\n",
    "    else:\n",
    "        print(\"No problems encountered during model comparison.\")\n",
    "\n",
    "    return problematic_pairs, result_list, graph_filepath"
   ]
  },
  {
   "cell_type": "markdown",
   "id": "603da335",
   "metadata": {},
   "source": [
    "## Feature importance"
   ]
  },
  {
   "cell_type": "code",
   "execution_count": 308,
   "id": "854fc5ef",
   "metadata": {
    "ExecuteTime": {
     "end_time": "2023-06-29T19:08:22.128659Z",
     "start_time": "2023-06-29T19:08:22.119681Z"
    }
   },
   "outputs": [],
   "source": [
    "def feature_importance(hash_LIST,\n",
    "                       models_and_hyperparams,\n",
    "                       model_directory,\n",
    "                       graph_directory,\n",
    "                       model_to_analyse,\n",
    "                       exclude_feature=None,\n",
    "                       paired=True):\n",
    "    problematic_pairs = []\n",
    "\n",
    "    for model_dict in models_and_hyperparams:\n",
    "\n",
    "        model_name = model_dict['model_name']\n",
    "        if model_name not in model_to_analyse:\n",
    "            continue\n",
    "\n",
    "        #Adjustment on path\n",
    "        current_directory = os.getcwd()\n",
    "        parent_directory = os.path.dirname(current_directory)\n",
    "\n",
    "        # Prepare to save ROC curves as a PDF file\n",
    "        graph_directory_path = os.path.join(parent_directory, graph_directory,\n",
    "                                            \"feature_importance\",\n",
    "                                            str(preprocessed_filename))\n",
    "\n",
    "        os.makedirs(graph_directory_path, exist_ok=True)\n",
    "\n",
    "        graph_filepath = os.path.join(graph_directory_path,\n",
    "                                      f\"{model_name}.pdf\")\n",
    "        pdf = PdfPages(graph_filepath)\n",
    "\n",
    "        model_group = load_a_group_of_model(hash_LIST, model_directory)\n",
    "\n",
    "        feature_names = X_train.columns\n",
    "\n",
    "        feature_importances = {\n",
    "            name: [0] * len(model_group)\n",
    "            for name in feature_names if name not in exclude_feature\n",
    "        }\n",
    "\n",
    "        for i, model in enumerate(model_group):\n",
    "            try:\n",
    "                varimp = model.varimp(use_pandas=True)\n",
    "                for index, row in varimp.iterrows():\n",
    "                    feature = row['variable']\n",
    "                    if feature in feature_importances:\n",
    "                        feature_importances[feature][i] = row[\n",
    "                            'scaled_importance']\n",
    "            except AttributeError as e:\n",
    "                problematic_pairs.append((model, e))\n",
    "                continue\n",
    "\n",
    "        fig, ax = plt.subplots(figsize=(30, 10))\n",
    "        bar_width = 0.15\n",
    "        for i, (feature,\n",
    "                importances) in enumerate(feature_importances.items()):\n",
    "            for j, importance in enumerate(importances):\n",
    "                ax.bar(i + j * bar_width,\n",
    "                       importance,\n",
    "                       bar_width,\n",
    "                       color=f'C{j // 2}',\n",
    "                       label=f'Model {j+1}'\n",
    "                       if feature == feature_names[0] else \"\")\n",
    "                if j % 2 == 1:\n",
    "                    ax.bar(i + j * bar_width,\n",
    "                           importance,\n",
    "                           bar_width,\n",
    "                           color=f'C{j // 2}',\n",
    "                           hatch='///',\n",
    "                           alpha=0.75)\n",
    "\n",
    "        ax.set_xticks([\n",
    "            i + bar_width * (len(model_group) // 2)\n",
    "            for i in range(len(feature_importances))\n",
    "        ])\n",
    "        ax.set_xticklabels(list(feature_importances.keys()),\n",
    "                           rotation=90,\n",
    "                           fontsize=8)\n",
    "        ax.set_title(\n",
    "            f\"Model: {model_name}\"\n",
    "        )\n",
    "        legend_patches = [\n",
    "            mpatches.Patch(color=f'C{i // 2}',\n",
    "                           alpha=0.25 if i % 2 else 1.0,\n",
    "                           hatch='////' if i % 2 else None,\n",
    "                           label=f'Model {i+1}')\n",
    "            for i in range(len(model_group))\n",
    "        ]\n",
    "        plt.legend(handles=legend_patches)\n",
    "\n",
    "        pdf.savefig()\n",
    "\n",
    "        pdf.close()\n",
    "        if problematic_pairs:\n",
    "            print(\n",
    "                f\"Problems encountered with the following hyperparameters and indices: {problematic_pairs}\"\n",
    "            )\n",
    "        else:\n",
    "            print(\"No problems encountered during model comparison.\")\n",
    "    return problematic_pairs, graph_filepath"
   ]
  },
  {
   "cell_type": "markdown",
   "id": "a24bb626",
   "metadata": {},
   "source": [
    "# Parameters: Parameters for data pre-process"
   ]
  },
  {
   "cell_type": "code",
   "execution_count": 324,
   "id": "9e07185f",
   "metadata": {
    "ExecuteTime": {
     "end_time": "2023-06-29T21:25:25.836952Z",
     "start_time": "2023-06-29T21:25:25.833021Z"
    }
   },
   "outputs": [],
   "source": [
    "## data parameters\n",
    "data_directory = \"data\"  # where the data is stored"
   ]
  },
  {
   "cell_type": "code",
   "execution_count": 325,
   "id": "8303ad11",
   "metadata": {
    "ExecuteTime": {
     "end_time": "2023-06-29T21:25:26.168075Z",
     "start_time": "2023-06-29T21:25:26.166318Z"
    }
   },
   "outputs": [],
   "source": [
    "# filename we give for storing the preprocessed data, just before training\n",
    "preprocessed_filename = \"preprocessed_shuffled\"  "
   ]
  },
  {
   "cell_type": "code",
   "execution_count": 326,
   "id": "8cd0fe9f",
   "metadata": {
    "ExecuteTime": {
     "end_time": "2023-06-29T21:25:26.912621Z",
     "start_time": "2023-06-29T21:25:26.910611Z"
    }
   },
   "outputs": [],
   "source": [
    "directory = 'data'\n",
    "file_name = 'Bondora_sample(24000)_with_centrality.csv'\n",
    "parameter_string = \"pandas_washes\""
   ]
  },
  {
   "cell_type": "markdown",
   "id": "c45e3173",
   "metadata": {},
   "source": [
    "## Model directory"
   ]
  },
  {
   "cell_type": "code",
   "execution_count": 327,
   "id": "d45c271a",
   "metadata": {
    "ExecuteTime": {
     "end_time": "2023-06-29T21:25:27.912290Z",
     "start_time": "2023-06-29T21:25:27.910584Z"
    }
   },
   "outputs": [],
   "source": [
    "model_directory = \"model\""
   ]
  },
  {
   "cell_type": "markdown",
   "id": "ae80b2ed",
   "metadata": {},
   "source": [
    "## Define models\n",
    "Add new models here.\n",
    "\n",
    "Mapping from model to model_id.\n",
    "\n",
    "Do not for get to import models in Section 2 at h20 models."
   ]
  },
  {
   "cell_type": "code",
   "execution_count": 328,
   "id": "56bd8705",
   "metadata": {
    "ExecuteTime": {
     "end_time": "2023-06-29T21:26:38.159841Z",
     "start_time": "2023-06-29T21:26:38.155169Z"
    }
   },
   "outputs": [],
   "source": [
    "\"\"\"\n",
    "Define Models and Hyperparameters\n",
    "\n",
    "This section defines a list of models along with their corresponding hyperparameters. Each model is represented by a dictionary containing the following keys:\n",
    "\n",
    "- 'model': The model class or constructor.\n",
    "- 'model_name': A string representing the name or identifier of the model.\n",
    "- 'hyper_params': A dictionary specifying the hyperparameter grid for the model.\n",
    "- 'params': Additional parameters for the model.\n",
    "\n",
    "The list 'models_and_hyperparams' contains multiple such dictionaries, each representing a different model with its hyperparameters.\n",
    "\n",
    "After defining the list, the function 'write_list_to_disk' is called to write the 'models_and_hyperparams' list to a file on disk.\n",
    "\n",
    "Parameters:\n",
    "- None\n",
    "\n",
    "Returns:\n",
    "- None\n",
    "\n",
    "Example Usage:\n",
    "Define the models and hyperparameters, and write them to a file:\n",
    "    write_list_to_disk(\n",
    "        lst=models_and_hyperparams,\n",
    "        directory=model_directory,\n",
    "        filename=\"models_and_hyperparams\",\n",
    "        parameters=\"\"\n",
    "    )\n",
    "\"\"\"\n",
    "\n",
    "# Define Models and Hyperparameters\n",
    "models_and_hyperparams = [\n",
    "    # Existing models...\n",
    "    {\n",
    "        'model': H2OGeneralizedLinearEstimator,\n",
    "        'model_name': \"GLM\",\n",
    "        'hyper_params': {\n",
    "            'alpha': [0, 1],\n",
    "            'lambda': [1e-4]\n",
    "        },\n",
    "        'params': {\n",
    "            'family': 'binomial'\n",
    "        }\n",
    "    },\n",
    "    {\n",
    "        'model': H2ORandomForestEstimator,\n",
    "        'model_name': \"RF\",\n",
    "        'hyper_params': {\n",
    "            'ntrees': [150, 250],\n",
    "            'max_depth': [20]\n",
    "        },\n",
    "        'params': {}\n",
    "    },\n",
    "    {\n",
    "        'model': H2ODeepLearningEstimator,\n",
    "        'model_name': \"DL\",\n",
    "        'hyper_params': {\n",
    "            'hidden': [[100, 200, 100], [200, 100, 200]],\n",
    "            'epochs': [10]\n",
    "        },\n",
    "        'params': {}\n",
    "    },\n",
    "    # New models...\n",
    "    {\n",
    "        'model': H2OXGBoostEstimator,\n",
    "        'model_name': \"XGB\",\n",
    "        'hyper_params': {\n",
    "            'ntrees': [100, 200],\n",
    "            'max_depth': [5, 15],\n",
    "            'learn_rate': [0.01, 0.1, 0.2],\n",
    "            'sample_rate': [0.6, 0.8, 1.0],\n",
    "        },\n",
    "        'params': {}\n",
    "    },\n",
    "    {\n",
    "        'model': H2OGradientBoostingEstimator,\n",
    "        'model_name': \"GBM\",\n",
    "        'hyper_params': {\n",
    "            'ntrees': [100, 200],\n",
    "            'max_depth': [5, 15],\n",
    "            'learn_rate': [0.01, 0.1, 0.2],\n",
    "            'sample_rate': [0.6, 0.8, 1.0],\n",
    "        },\n",
    "        'params': {}\n",
    "    }\n",
    "]"
   ]
  },
  {
   "cell_type": "code",
   "execution_count": 329,
   "id": "d42ffab9",
   "metadata": {
    "ExecuteTime": {
     "end_time": "2023-06-29T21:26:40.084754Z",
     "start_time": "2023-06-29T21:26:40.080717Z"
    }
   },
   "outputs": [
    {
     "name": "stdout",
     "output_type": "stream",
     "text": [
      "GLM\n"
     ]
    }
   ],
   "source": [
    "\"\"\"\n",
    "Model Mapping and Print Example\n",
    "\n",
    "This section defines a dictionary named 'model_mapping' that maps H2O model classes to their corresponding abbreviations or names. The keys in the dictionary are the model classes (e.g., H2OGeneralizedLinearEstimator) and the values are the corresponding abbreviations or names (e.g., \"GLM\").\n",
    "\n",
    "After defining the 'model_mapping' dictionary, an example print statement is used to demonstrate how to retrieve the abbreviation/name for a specific model class. In this case, the abbreviation/name for the H2OGeneralizedLinearEstimator class is retrieved and printed.\n",
    "\n",
    "Parameters:\n",
    "- None\n",
    "\n",
    "Returns:\n",
    "- None\n",
    "\n",
    "Example Usage:\n",
    "Define the 'model_mapping' dictionary and retrieve the abbreviation/name for a specific model class:\n",
    "    print(model_mapping[H2OGeneralizedLinearEstimator])\n",
    "\"\"\"\n",
    "\n",
    "# Model Mapping\n",
    "model_mapping = {\n",
    "    H2OGeneralizedLinearEstimator: \"GLM\",\n",
    "    H2ORandomForestEstimator: \"RF\",\n",
    "    H2ODeepLearningEstimator: \"DL\",\n",
    "    H2OXGBoostEstimator:\"XGB\",\n",
    "    H2OGradientBoostingEstimator:\"GBM\"\n",
    "}\n",
    "\n",
    "# Example Print Statement\n",
    "print(model_mapping[H2OGeneralizedLinearEstimator])\n"
   ]
  },
  {
   "cell_type": "code",
   "execution_count": 330,
   "id": "3ecc5cc3",
   "metadata": {
    "ExecuteTime": {
     "end_time": "2023-06-29T21:26:40.982692Z",
     "start_time": "2023-06-29T21:26:40.979169Z"
    }
   },
   "outputs": [],
   "source": [
    "if not len(models_and_hyperparams) == len(model_mapping):\n",
    "    print(\"Check your definition of models. Always keep consistent for the cells above!!!\")"
   ]
  },
  {
   "cell_type": "markdown",
   "id": "3aa99658",
   "metadata": {},
   "source": [
    "## Choose model\n",
    "You can train only a some types of models by changing parameters here."
   ]
  },
  {
   "cell_type": "code",
   "execution_count": 331,
   "id": "2704ba3e",
   "metadata": {
    "ExecuteTime": {
     "end_time": "2023-06-29T21:26:43.787999Z",
     "start_time": "2023-06-29T21:26:43.784518Z"
    }
   },
   "outputs": [],
   "source": [
    "model_to_train = [\"GLM\",\"RF\",\"DL\"]\n",
    "model_to_analyse = [\"GLM\",\"RF\",\"DL\"]"
   ]
  },
  {
   "cell_type": "markdown",
   "id": "6731b4ca",
   "metadata": {},
   "source": [
    "## Other parameters controling the training and saving process"
   ]
  },
  {
   "cell_type": "code",
   "execution_count": 332,
   "id": "5a17f268",
   "metadata": {
    "ExecuteTime": {
     "end_time": "2023-06-29T21:26:45.714682Z",
     "start_time": "2023-06-29T21:26:45.711728Z"
    }
   },
   "outputs": [],
   "source": [
    "## Training parameters\n",
    "run_explanation = False # run model_explain , it is quite slow"
   ]
  },
  {
   "cell_type": "markdown",
   "id": "06a2347e",
   "metadata": {},
   "source": [
    "## Parameters for X_train"
   ]
  },
  {
   "cell_type": "markdown",
   "id": "129d1b18",
   "metadata": {},
   "source": [
    "# Auto ML"
   ]
  },
  {
   "cell_type": "markdown",
   "id": "398ee6c7",
   "metadata": {},
   "source": [
    "## Init H20"
   ]
  },
  {
   "cell_type": "code",
   "execution_count": 333,
   "id": "7d6ab33d",
   "metadata": {
    "ExecuteTime": {
     "end_time": "2023-06-29T21:26:47.755542Z",
     "start_time": "2023-06-29T21:26:47.648042Z"
    }
   },
   "outputs": [
    {
     "name": "stdout",
     "output_type": "stream",
     "text": [
      "Checking whether there is an H2O instance running at http://localhost:54321. connected.\n"
     ]
    },
    {
     "data": {
      "text/html": [
       "\n",
       "<style>\n",
       "\n",
       "#h2o-table-141.h2o-container {\n",
       "  overflow-x: auto;\n",
       "}\n",
       "#h2o-table-141 .h2o-table {\n",
       "  /* width: 100%; */\n",
       "  margin-top: 1em;\n",
       "  margin-bottom: 1em;\n",
       "}\n",
       "#h2o-table-141 .h2o-table caption {\n",
       "  white-space: nowrap;\n",
       "  caption-side: top;\n",
       "  text-align: left;\n",
       "  /* margin-left: 1em; */\n",
       "  margin: 0;\n",
       "  font-size: larger;\n",
       "}\n",
       "#h2o-table-141 .h2o-table thead {\n",
       "  white-space: nowrap; \n",
       "  position: sticky;\n",
       "  top: 0;\n",
       "  box-shadow: 0 -1px inset;\n",
       "}\n",
       "#h2o-table-141 .h2o-table tbody {\n",
       "  overflow: auto;\n",
       "}\n",
       "#h2o-table-141 .h2o-table th,\n",
       "#h2o-table-141 .h2o-table td {\n",
       "  text-align: right;\n",
       "  /* border: 1px solid; */\n",
       "}\n",
       "#h2o-table-141 .h2o-table tr:nth-child(even) {\n",
       "  /* background: #F5F5F5 */\n",
       "}\n",
       "\n",
       "</style>      \n",
       "<div id=\"h2o-table-141\" class=\"h2o-container\">\n",
       "  <table class=\"h2o-table\">\n",
       "    <caption></caption>\n",
       "    <thead></thead>\n",
       "    <tbody><tr><td>H2O_cluster_uptime:</td>\n",
       "<td>1 day 6 hours 28 mins</td></tr>\n",
       "<tr><td>H2O_cluster_timezone:</td>\n",
       "<td>Europe/Zurich</td></tr>\n",
       "<tr><td>H2O_data_parsing_timezone:</td>\n",
       "<td>UTC</td></tr>\n",
       "<tr><td>H2O_cluster_version:</td>\n",
       "<td>3.40.0.4</td></tr>\n",
       "<tr><td>H2O_cluster_version_age:</td>\n",
       "<td>2 months and 1 day</td></tr>\n",
       "<tr><td>H2O_cluster_name:</td>\n",
       "<td>H2O_from_python_yil1_hs16ns</td></tr>\n",
       "<tr><td>H2O_cluster_total_nodes:</td>\n",
       "<td>1</td></tr>\n",
       "<tr><td>H2O_cluster_free_memory:</td>\n",
       "<td>4.005 Gb</td></tr>\n",
       "<tr><td>H2O_cluster_total_cores:</td>\n",
       "<td>10</td></tr>\n",
       "<tr><td>H2O_cluster_allowed_cores:</td>\n",
       "<td>10</td></tr>\n",
       "<tr><td>H2O_cluster_status:</td>\n",
       "<td>locked, healthy</td></tr>\n",
       "<tr><td>H2O_connection_url:</td>\n",
       "<td>http://localhost:54321</td></tr>\n",
       "<tr><td>H2O_connection_proxy:</td>\n",
       "<td>{\"http\": null, \"https\": null}</td></tr>\n",
       "<tr><td>H2O_internal_security:</td>\n",
       "<td>False</td></tr>\n",
       "<tr><td>Python_version:</td>\n",
       "<td>3.8.17 final</td></tr></tbody>\n",
       "  </table>\n",
       "</div>\n"
      ],
      "text/plain": [
       "--------------------------  -----------------------------\n",
       "H2O_cluster_uptime:         1 day 6 hours 28 mins\n",
       "H2O_cluster_timezone:       Europe/Zurich\n",
       "H2O_data_parsing_timezone:  UTC\n",
       "H2O_cluster_version:        3.40.0.4\n",
       "H2O_cluster_version_age:    2 months and 1 day\n",
       "H2O_cluster_name:           H2O_from_python_yil1_hs16ns\n",
       "H2O_cluster_total_nodes:    1\n",
       "H2O_cluster_free_memory:    4.005 Gb\n",
       "H2O_cluster_total_cores:    10\n",
       "H2O_cluster_allowed_cores:  10\n",
       "H2O_cluster_status:         locked, healthy\n",
       "H2O_connection_url:         http://localhost:54321\n",
       "H2O_connection_proxy:       {\"http\": null, \"https\": null}\n",
       "H2O_internal_security:      False\n",
       "Python_version:             3.8.17 final\n",
       "--------------------------  -----------------------------"
      ]
     },
     "metadata": {},
     "output_type": "display_data"
    }
   ],
   "source": [
    "#Import the necessary libraries and start the H2O cluster:\n",
    "h2o.init()"
   ]
  },
  {
   "cell_type": "markdown",
   "id": "21eefe46",
   "metadata": {},
   "source": [
    "# Read back and convert"
   ]
  },
  {
   "cell_type": "markdown",
   "id": "5ce091b4",
   "metadata": {},
   "source": [
    "## Read back"
   ]
  },
  {
   "cell_type": "code",
   "execution_count": 334,
   "id": "764a0296",
   "metadata": {
    "ExecuteTime": {
     "end_time": "2023-06-29T21:26:50.565147Z",
     "start_time": "2023-06-29T21:26:50.403517Z"
    }
   },
   "outputs": [
    {
     "name": "stdout",
     "output_type": "stream",
     "text": [
      "['new', 'Gender', 'Hour.0', 'Hour.1', 'Hour.2', 'Hour.3', 'Hour.4', 'Hour.5', 'Hour.6', 'Hour.7', 'Hour.8', 'Hour.9', 'Hour.10', 'Hour.11', 'Hour.12', 'Hour.13', 'Hour.14', 'Hour.15', 'Hour.16', 'Hour.17', 'Hour.18', 'Hour.19', 'Hour.20', 'Hour.21', 'Hour.22', 'weekday.1', 'weekday.2', 'weekday.3', 'weekday.4', 'weekday.5', 'weekday.6', 'ver.3', 'ver.4', 'duration.06', 'duration.09', 'duration.12', 'duration.18', 'duration.24', 'duration.36', 'duration.48', 'duration.60', 'use.0', 'use.1', 'use.2', 'use.3', 'use.4', 'use.5', 'use.6', 'use.7', 'use.8', 'educ.2', 'educ.3', 'educ.4', 'educ.5', 'marital.1', 'marital.2', 'marital.3', 'marital.4', 'marital.5', 'depen.0', 'depen.1', 'depen.2', 'depen.3', 'depen.4', 'employ.2', 'employ.3', 'employ.4', 'employ.5', 'employ.6', 'em.dur.other', 'em.dur.ret', 'em.dur.trial', 'em.dur.1y', 'em.dur.2y', 'em.dur.3y', 'em.dur.4y', 'em.dur.5y', 'exper.02y', 'exper.05y', 'exper.10y', 'exper.15y', 'exper.25y', 'exper.25p', 'Other', 'Processing', 'Energy', 'Construction', 'Retail.wholesale', 'Transport.warehousing', 'Hospitality.catering', 'Info.telecom', 'Finance.insurance', 'Real.estate', 'Research', 'Administrative', 'Civil.service.military', 'Education', 'Healthcare.social.help', 'Art.entertainment', 'Agriculture.for.fish', 'homeless', 'owner', 'livingw.parents', 'tenant.pfp', 'council.house', 'joint.tenant', 'joint.ownership', 'mortgage', 'encumbrance', 'no.liab.00', 'no.liab.01', 'no.liab.02', 'no.liab.03', 'no.liab.04', 'no.liab.05', 'no.liab.10', 'no.refin.00', 'no.refin.01', 'no.refin.02', 'no.refin.03', 'no.refin.04', 'no.previous.loan.00', 'no.previous.loan.01', 'no.previous.loan.02', 'no.previous.loan.03', 'no.previous.loan.04', 'no.previous.loan.05', 'no.previous.loan.06', 'no.previous.loan.07', 'no.previous.repay.00', 'no.previous.repay.01', 'A', 'B', 'C']\n",
      "134\n"
     ]
    }
   ],
   "source": [
    "data_categorical = read_df_from_disk(directory = data_directory,\n",
    "                                     filename = preprocessed_filename, \n",
    "                                     parameters = parameter_string)\n",
    "binary_columns = read_list_from_disk(directory = data_directory,\n",
    "                                     filename = preprocessed_filename, \n",
    "                                     parameters = \"binary columns\")\n",
    "target_column = \"default\"\n",
    "feature_columns = [col for col in data_categorical.columns if col != target_column]\n",
    "print(binary_columns)\n",
    "print(len(binary_columns))"
   ]
  },
  {
   "cell_type": "code",
   "execution_count": 320,
   "id": "4337cd92",
   "metadata": {
    "ExecuteTime": {
     "end_time": "2023-06-29T19:11:05.158547Z",
     "start_time": "2023-06-29T19:11:05.138148Z"
    }
   },
   "outputs": [
    {
     "name": "stdout",
     "output_type": "stream",
     "text": [
      "   default  new       Age  Gender  Interest  MonthlyPayment  DebtToIncome  \\\n",
      "0        0    1  0.634615       0  0.392055        0.699456      0.834713   \n",
      "1        0    1  0.192308       0  0.291110        0.693792      0.000000   \n",
      "2        0    0  0.423077       0  0.197004        0.587526      0.625892   \n",
      "3        0    0  0.134615       0  0.521980        0.418453      0.108193   \n",
      "4        0    1  0.615385       0  0.363400        0.631606      0.000000   \n",
      "\n",
      "   NoOfPreviousLoansBeforeLoan  AmountOfPreviousLoansBeforeLoan      time  \\\n",
      "0                     0.000000                         0.000000  0.280459   \n",
      "1                     0.000000                         0.000000  0.855214   \n",
      "2                     0.153846                         0.163233  0.370908   \n",
      "3                     0.076923                         0.014718  0.224772   \n",
      "4                     0.000000                         0.000000  0.740803   \n",
      "\n",
      "   Hour.0  Hour.1  Hour.2  Hour.3  Hour.4  Hour.5  Hour.6  Hour.7  Hour.8  \\\n",
      "0       0       0       0       0       0       0       0       0       0   \n",
      "1       1       0       0       0       0       0       0       0       0   \n",
      "2       0       0       0       0       0       0       0       0       0   \n",
      "3       0       0       0       0       0       0       0       0       0   \n",
      "4       0       0       0       0       0       0       0       1       0   \n",
      "\n",
      "   Hour.9  Hour.10  Hour.11  Hour.12  Hour.13  Hour.14  Hour.15  Hour.16  \\\n",
      "0       0        0        0        0        0        0        0        0   \n",
      "1       0        0        0        0        0        0        0        0   \n",
      "2       0        1        0        0        0        0        0        0   \n",
      "3       0        0        0        0        0        0        0        1   \n",
      "4       0        0        0        0        0        0        0        0   \n",
      "\n",
      "   Hour.17  Hour.18  Hour.19  Hour.20  Hour.21  Hour.22  weekday.1  weekday.2  \\\n",
      "0        1        0        0        0        0        0          0          0   \n",
      "1        0        0        0        0        0        0          0          0   \n",
      "2        0        0        0        0        0        0          0          0   \n",
      "3        0        0        0        0        0        0          0          1   \n",
      "4        0        0        0        0        0        0          0          1   \n",
      "\n",
      "   weekday.3  weekday.4  weekday.5  weekday.6  ver.3  ver.4  log.amount  \\\n",
      "0          0          1          0          0      1      0    0.772113   \n",
      "1          0          0          1          0      0      1    0.906524   \n",
      "2          0          0          1          0      1      0    0.738418   \n",
      "3          0          0          0          0      0      0    0.421687   \n",
      "4          0          0          0          0      0      1    0.477264   \n",
      "\n",
      "   duration.06  duration.09  duration.12  duration.18  duration.24  \\\n",
      "0            0            0            0            0            1   \n",
      "1            0            0            0            0            0   \n",
      "2            0            0            0            0            0   \n",
      "3            0            0            0            0            0   \n",
      "4            0            1            0            0            0   \n",
      "\n",
      "   duration.36  duration.48  duration.60  use.0  use.1  use.2  use.3  use.4  \\\n",
      "0            0            0            0      0      1      0      0      0   \n",
      "1            0            0            1      0      0      0      0      0   \n",
      "2            0            0            1      0      0      0      0      0   \n",
      "3            0            0            1      0      0      0      0      0   \n",
      "4            0            0            0      0      0      0      0      0   \n",
      "\n",
      "   use.5  use.6  use.7  use.8  educ.2  educ.3  educ.4  educ.5  marital.1  \\\n",
      "0      0      0      0      0       0       0       1       0          0   \n",
      "1      0      0      0      0       0       0       1       0          0   \n",
      "2      0      0      1      0       0       0       1       0          0   \n",
      "3      0      0      1      0       0       0       1       0          0   \n",
      "4      0      0      0      0       0       0       1       0          0   \n",
      "\n",
      "   marital.2  marital.3  marital.4  marital.5  depen.0  depen.1  depen.2  \\\n",
      "0          1          0          0          0        0        0        1   \n",
      "1          0          0          0          0        0        0        0   \n",
      "2          0          0          1          0        0        1        0   \n",
      "3          1          0          0          0        1        0        0   \n",
      "4          0          0          0          0        0        0        0   \n",
      "\n",
      "   depen.3  depen.4  employ.2  employ.3  employ.4  employ.5  employ.6  \\\n",
      "0        0        0         0         1         0         0         0   \n",
      "1        0        0         0         0         0         0         0   \n",
      "2        0        0         0         1         0         0         0   \n",
      "3        0        0         0         1         0         0         0   \n",
      "4        0        0         0         0         0         0         0   \n",
      "\n",
      "   em.dur.other  em.dur.ret  em.dur.trial  em.dur.1y  em.dur.2y  em.dur.3y  \\\n",
      "0             0           0             0          0          0          0   \n",
      "1             0           0             0          1          0          0   \n",
      "2             0           0             0          0          0          0   \n",
      "3             0           0             0          0          1          0   \n",
      "4             0           0             0          0          0          0   \n",
      "\n",
      "   em.dur.4y  em.dur.5y  exper.02y  exper.05y  exper.10y  exper.15y  \\\n",
      "0          0          0          0          0          0          0   \n",
      "1          0          0          0          0          0          0   \n",
      "2          0          0          0          0          0          1   \n",
      "3          0          0          1          0          0          0   \n",
      "4          0          0          0          0          0          0   \n",
      "\n",
      "   exper.25y  exper.25p  Other  Processing  Energy  Construction  \\\n",
      "0          0          1      1           0       0             0   \n",
      "1          0          0      0           0       0             0   \n",
      "2          0          0      0           1       0             0   \n",
      "3          0          0      0           0       0             0   \n",
      "4          0          0      0           0       0             0   \n",
      "\n",
      "   Retail.wholesale  Transport.warehousing  Hospitality.catering  \\\n",
      "0                 0                      0                     0   \n",
      "1                 0                      0                     0   \n",
      "2                 0                      0                     0   \n",
      "3                 0                      0                     0   \n",
      "4                 0                      0                     0   \n",
      "\n",
      "   Info.telecom  Finance.insurance  Real.estate  Research  Administrative  \\\n",
      "0             0                  0            0         0               0   \n",
      "1             0                  0            0         0               0   \n",
      "2             0                  0            0         0               0   \n",
      "3             0                  0            0         0               0   \n",
      "4             0                  0            0         0               0   \n",
      "\n",
      "   Civil.service.military  Education  Healthcare.social.help  \\\n",
      "0                       0          0                       0   \n",
      "1                       0          0                       0   \n",
      "2                       0          0                       0   \n",
      "3                       0          0                       0   \n",
      "4                       0          0                       0   \n",
      "\n",
      "   Art.entertainment  Agriculture.for.fish  homeless  owner  livingw.parents  \\\n",
      "0                  0                     0         1      0                0   \n",
      "1                  0                     0         0      0                0   \n",
      "2                  0                     0         1      0                0   \n",
      "3                  0                     1         0      0                1   \n",
      "4                  0                     0         1      0                0   \n",
      "\n",
      "   tenant.pfp  council.house  joint.tenant  joint.ownership  mortgage  \\\n",
      "0           0              0             0                0         0   \n",
      "1           0              0             0                0         0   \n",
      "2           0              0             0                0         0   \n",
      "3           0              0             0                0         0   \n",
      "4           0              0             0                0         0   \n",
      "\n",
      "   encumbrance  inc.princ.empl.l  inc.pension.l  inc.fam.all.l  inc.soc.wel.l  \\\n",
      "0            0          0.712960            0.0       0.000000            0.0   \n",
      "1            1          0.000000            0.0       0.000000            0.0   \n",
      "2            0          0.726576            0.0       0.517046            0.0   \n",
      "3            0          0.738673            0.0       0.000000            0.0   \n",
      "4            0          0.000000            0.0       0.000000            0.0   \n",
      "\n",
      "   inc.leave.l  inc.child.l  inc.other.l  inc.total  no.liab.00  no.liab.01  \\\n",
      "0          0.0          0.0     0.000000   0.469622           0           0   \n",
      "1          0.0          0.0     0.000000   0.492401           1           0   \n",
      "2          0.0          0.0     0.000000   0.484707           0           0   \n",
      "3          0.0          0.0     0.488037   0.496198           0           0   \n",
      "4          0.0          0.0     0.000000   0.571847           1           0   \n",
      "\n",
      "   no.liab.02  no.liab.03  no.liab.04  no.liab.05  no.liab.10    liab.l  \\\n",
      "0           0           1           0           0           0  0.587012   \n",
      "1           0           0           0           0           0  0.000000   \n",
      "2           0           0           1           0           0  0.601715   \n",
      "3           0           1           0           0           0  0.558354   \n",
      "4           0           0           0           0           0  0.000000   \n",
      "\n",
      "   no.refin.00  no.refin.01  no.refin.02  no.refin.03  no.refin.04  \\\n",
      "0            1            0            0            0            0   \n",
      "1            1            0            0            0            0   \n",
      "2            1            0            0            0            0   \n",
      "3            1            0            0            0            0   \n",
      "4            1            0            0            0            0   \n",
      "\n",
      "   inc.support  FreeCash.l  no.previous.loan.00  no.previous.loan.01  \\\n",
      "0      0.00000    0.338014                    1                    0   \n",
      "1      0.00000    0.000000                    1                    0   \n",
      "2      0.05848    0.478670                    0                    0   \n",
      "3      0.00000    0.567712                    0                    0   \n",
      "4      0.00000    0.000000                    1                    0   \n",
      "\n",
      "   no.previous.loan.02  no.previous.loan.03  no.previous.loan.04  \\\n",
      "0                    0                    0                    0   \n",
      "1                    0                    0                    0   \n",
      "2                    0                    0                    1   \n",
      "3                    1                    0                    0   \n",
      "4                    0                    0                    0   \n",
      "\n",
      "   no.previous.loan.05  no.previous.loan.06  no.previous.loan.07  \\\n",
      "0                    0                    0                    0   \n",
      "1                    0                    0                    0   \n",
      "2                    0                    0                    0   \n",
      "3                    0                    0                    0   \n",
      "4                    0                    0                    0   \n",
      "\n",
      "   no.previous.repay.00  no.previous.repay.01  previous.repay.l  A  B  C  \\\n",
      "0                     1                     0          0.000000  0  0  1   \n",
      "1                     1                     0          0.000000  0  1  0   \n",
      "2                     1                     0          0.000000  0  1  0   \n",
      "3                     0                     1          0.593503  0  0  1   \n",
      "4                     1                     0          0.000000  0  1  0   \n",
      "\n",
      "   pagerank  betweenness  closeness  eigenvector  katz  authority  \\\n",
      "0       0.0          0.0   0.007806          NaN   0.0        0.0   \n",
      "1       0.0          0.0   0.018536          NaN   0.0        0.0   \n",
      "2       0.0          0.0   0.014623          NaN   0.0        0.0   \n",
      "3       0.0          0.0   0.005467          NaN   0.0        0.0   \n",
      "4       0.0          0.0   0.033785          NaN   0.0        0.0   \n",
      "\n",
      "            hub  pagerank_shuffled  betweenness_shuffled  closeness_shuffled  \\\n",
      "0  6.310865e-22            0.00000              0.000000            0.025951   \n",
      "1  7.319365e-83            0.00000              0.048387            0.001409   \n",
      "2  2.034661e-46            0.01679              0.000000            0.010875   \n",
      "3  1.179059e-66            0.00000              0.000000            0.040460   \n",
      "4  5.349700e-95            0.00000              0.000000                 NaN   \n",
      "\n",
      "   eigenvector_shuffled  katz_shuffled  authority_shuffled   hub_shuffled  \n",
      "0                   NaN       0.000000       6.322362e-126   3.894498e-44  \n",
      "1                   NaN       0.000000        0.000000e+00  6.912055e-145  \n",
      "2                   NaN       0.047385        2.070558e-93   0.000000e+00  \n",
      "3                   NaN       0.018428        0.000000e+00   1.958060e-51  \n",
      "4                   NaN       0.000000        0.000000e+00   1.434134e-73  \n",
      "<class 'pandas.core.frame.DataFrame'>\n",
      "(24000, 169)\n"
     ]
    }
   ],
   "source": [
    "print(data_categorical.head())\n",
    "print(type(data_categorical))\n",
    "print(data_categorical.shape)"
   ]
  },
  {
   "cell_type": "code",
   "execution_count": 102,
   "id": "b545107f",
   "metadata": {
    "ExecuteTime": {
     "end_time": "2023-06-29T09:55:59.075763Z",
     "start_time": "2023-06-29T09:55:59.071740Z"
    },
    "collapsed": true
   },
   "outputs": [
    {
     "name": "stdout",
     "output_type": "stream",
     "text": [
      "169\n",
      "['default', 'new', 'Age', 'Gender', 'Interest', 'MonthlyPayment', 'DebtToIncome', 'NoOfPreviousLoansBeforeLoan', 'AmountOfPreviousLoansBeforeLoan', 'time', 'Hour.0', 'Hour.1', 'Hour.2', 'Hour.3', 'Hour.4', 'Hour.5', 'Hour.6', 'Hour.7', 'Hour.8', 'Hour.9', 'Hour.10', 'Hour.11', 'Hour.12', 'Hour.13', 'Hour.14', 'Hour.15', 'Hour.16', 'Hour.17', 'Hour.18', 'Hour.19', 'Hour.20', 'Hour.21', 'Hour.22', 'weekday.1', 'weekday.2', 'weekday.3', 'weekday.4', 'weekday.5', 'weekday.6', 'ver.3', 'ver.4', 'log.amount', 'duration.06', 'duration.09', 'duration.12', 'duration.18', 'duration.24', 'duration.36', 'duration.48', 'duration.60', 'use.0', 'use.1', 'use.2', 'use.3', 'use.4', 'use.5', 'use.6', 'use.7', 'use.8', 'educ.2', 'educ.3', 'educ.4', 'educ.5', 'marital.1', 'marital.2', 'marital.3', 'marital.4', 'marital.5', 'depen.0', 'depen.1', 'depen.2', 'depen.3', 'depen.4', 'employ.2', 'employ.3', 'employ.4', 'employ.5', 'employ.6', 'em.dur.other', 'em.dur.ret', 'em.dur.trial', 'em.dur.1y', 'em.dur.2y', 'em.dur.3y', 'em.dur.4y', 'em.dur.5y', 'exper.02y', 'exper.05y', 'exper.10y', 'exper.15y', 'exper.25y', 'exper.25p', 'Other', 'Processing', 'Energy', 'Construction', 'Retail.wholesale', 'Transport.warehousing', 'Hospitality.catering', 'Info.telecom', 'Finance.insurance', 'Real.estate', 'Research', 'Administrative', 'Civil.service.military', 'Education', 'Healthcare.social.help', 'Art.entertainment', 'Agriculture.for.fish', 'homeless', 'owner', 'livingw.parents', 'tenant.pfp', 'council.house', 'joint.tenant', 'joint.ownership', 'mortgage', 'encumbrance', 'inc.princ.empl.l', 'inc.pension.l', 'inc.fam.all.l', 'inc.soc.wel.l', 'inc.leave.l', 'inc.child.l', 'inc.other.l', 'inc.total', 'no.liab.00', 'no.liab.01', 'no.liab.02', 'no.liab.03', 'no.liab.04', 'no.liab.05', 'no.liab.10', 'liab.l', 'no.refin.00', 'no.refin.01', 'no.refin.02', 'no.refin.03', 'no.refin.04', 'inc.support', 'FreeCash.l', 'no.previous.loan.00', 'no.previous.loan.01', 'no.previous.loan.02', 'no.previous.loan.03', 'no.previous.loan.04', 'no.previous.loan.05', 'no.previous.loan.06', 'no.previous.loan.07', 'no.previous.repay.00', 'no.previous.repay.01', 'previous.repay.l', 'A', 'B', 'C', 'pagerank', 'betweenness', 'closeness', 'eigenvector', 'katz', 'authority', 'hub', 'pagerank_shuffled', 'betweenness_shuffled', 'closeness_shuffled', 'eigenvector_shuffled', 'katz_shuffled', 'authority_shuffled', 'hub_shuffled']\n"
     ]
    }
   ],
   "source": [
    "pd.set_option('display.max_columns', 200)\n",
    "print(len(data_categorical.columns))\n",
    "print(data_categorical.columns.tolist())"
   ]
  },
  {
   "cell_type": "markdown",
   "id": "642703a4",
   "metadata": {},
   "source": [
    "## Train test split"
   ]
  },
  {
   "cell_type": "code",
   "execution_count": 335,
   "id": "52d5b8a7",
   "metadata": {
    "ExecuteTime": {
     "end_time": "2023-06-29T21:26:55.785206Z",
     "start_time": "2023-06-29T21:26:55.755127Z"
    }
   },
   "outputs": [],
   "source": [
    "X = data_categorical.drop(target_column, axis=1)\n",
    "y = data_categorical[target_column]\n",
    "X_train, X_test, y_train, y_test = train_test_split(X,\n",
    "                                                    y,\n",
    "                                                    test_size=0.4,\n",
    "                                                    random_state=42)\n",
    "X_test, X_val, y_test, y_val = train_test_split(X_test,\n",
    "                                                y_test,\n",
    "                                                test_size=0.5,\n",
    "                                                random_state=42)"
   ]
  },
  {
   "cell_type": "code",
   "execution_count": 336,
   "id": "93b20cf9",
   "metadata": {
    "ExecuteTime": {
     "end_time": "2023-06-29T21:26:56.482236Z",
     "start_time": "2023-06-29T21:26:56.478869Z"
    }
   },
   "outputs": [
    {
     "name": "stdout",
     "output_type": "stream",
     "text": [
      "(14400, 168)\n"
     ]
    }
   ],
   "source": [
    "print(X_train.shape)"
   ]
  },
  {
   "cell_type": "code",
   "execution_count": 337,
   "id": "51bcd4e2",
   "metadata": {
    "ExecuteTime": {
     "end_time": "2023-06-29T21:26:57.103173Z",
     "start_time": "2023-06-29T21:26:57.101053Z"
    }
   },
   "outputs": [
    {
     "name": "stdout",
     "output_type": "stream",
     "text": [
      "(4800, 168)\n"
     ]
    }
   ],
   "source": [
    "print(X_test.shape)"
   ]
  },
  {
   "cell_type": "code",
   "execution_count": 338,
   "id": "301017ae",
   "metadata": {
    "ExecuteTime": {
     "end_time": "2023-06-29T21:26:57.790389Z",
     "start_time": "2023-06-29T21:26:57.786966Z"
    }
   },
   "outputs": [
    {
     "name": "stdout",
     "output_type": "stream",
     "text": [
      "(4800, 168)\n"
     ]
    }
   ],
   "source": [
    "print(X_val.shape)"
   ]
  },
  {
   "cell_type": "code",
   "execution_count": 339,
   "id": "1dc35022",
   "metadata": {
    "ExecuteTime": {
     "end_time": "2023-06-29T21:26:59.240516Z",
     "start_time": "2023-06-29T21:26:59.225356Z"
    }
   },
   "outputs": [
    {
     "data": {
      "text/html": [
       "<div>\n",
       "<style scoped>\n",
       "    .dataframe tbody tr th:only-of-type {\n",
       "        vertical-align: middle;\n",
       "    }\n",
       "\n",
       "    .dataframe tbody tr th {\n",
       "        vertical-align: top;\n",
       "    }\n",
       "\n",
       "    .dataframe thead th {\n",
       "        text-align: right;\n",
       "    }\n",
       "</style>\n",
       "<table border=\"1\" class=\"dataframe\">\n",
       "  <thead>\n",
       "    <tr style=\"text-align: right;\">\n",
       "      <th></th>\n",
       "      <th>C</th>\n",
       "      <th>pagerank</th>\n",
       "      <th>betweenness</th>\n",
       "      <th>closeness</th>\n",
       "      <th>eigenvector</th>\n",
       "      <th>katz</th>\n",
       "      <th>authority</th>\n",
       "      <th>hub</th>\n",
       "      <th>pagerank_shuffled</th>\n",
       "      <th>betweenness_shuffled</th>\n",
       "      <th>closeness_shuffled</th>\n",
       "      <th>eigenvector_shuffled</th>\n",
       "      <th>katz_shuffled</th>\n",
       "      <th>authority_shuffled</th>\n",
       "      <th>hub_shuffled</th>\n",
       "    </tr>\n",
       "  </thead>\n",
       "  <tbody>\n",
       "    <tr>\n",
       "      <th>8063</th>\n",
       "      <td>1</td>\n",
       "      <td>0.000000</td>\n",
       "      <td>0.0</td>\n",
       "      <td>0.032052</td>\n",
       "      <td>NaN</td>\n",
       "      <td>0.000000</td>\n",
       "      <td>0.000000e+00</td>\n",
       "      <td>1.450147e-94</td>\n",
       "      <td>0.000000</td>\n",
       "      <td>0.0</td>\n",
       "      <td>NaN</td>\n",
       "      <td>NaN</td>\n",
       "      <td>0.032320</td>\n",
       "      <td>8.897694e-77</td>\n",
       "      <td>6.282860e-93</td>\n",
       "    </tr>\n",
       "    <tr>\n",
       "      <th>4812</th>\n",
       "      <td>0</td>\n",
       "      <td>0.000000</td>\n",
       "      <td>0.0</td>\n",
       "      <td>0.027383</td>\n",
       "      <td>NaN</td>\n",
       "      <td>0.000000</td>\n",
       "      <td>0.000000e+00</td>\n",
       "      <td>6.836651e-95</td>\n",
       "      <td>0.072116</td>\n",
       "      <td>0.0</td>\n",
       "      <td>0.008196</td>\n",
       "      <td>NaN</td>\n",
       "      <td>0.000000</td>\n",
       "      <td>3.237512e-44</td>\n",
       "      <td>0.000000e+00</td>\n",
       "    </tr>\n",
       "    <tr>\n",
       "      <th>2126</th>\n",
       "      <td>1</td>\n",
       "      <td>0.000000</td>\n",
       "      <td>0.0</td>\n",
       "      <td>0.001437</td>\n",
       "      <td>NaN</td>\n",
       "      <td>0.000000</td>\n",
       "      <td>0.000000e+00</td>\n",
       "      <td>1.523836e-52</td>\n",
       "      <td>0.000000</td>\n",
       "      <td>0.0</td>\n",
       "      <td>0.018443</td>\n",
       "      <td>NaN</td>\n",
       "      <td>0.018299</td>\n",
       "      <td>5.736236e-95</td>\n",
       "      <td>3.672094e-121</td>\n",
       "    </tr>\n",
       "    <tr>\n",
       "      <th>20503</th>\n",
       "      <td>0</td>\n",
       "      <td>0.205827</td>\n",
       "      <td>0.0</td>\n",
       "      <td>NaN</td>\n",
       "      <td>NaN</td>\n",
       "      <td>0.076921</td>\n",
       "      <td>7.045160e-87</td>\n",
       "      <td>0.000000e+00</td>\n",
       "      <td>0.754861</td>\n",
       "      <td>0.0</td>\n",
       "      <td>0.040617</td>\n",
       "      <td>NaN</td>\n",
       "      <td>0.000000</td>\n",
       "      <td>0.000000e+00</td>\n",
       "      <td>0.000000e+00</td>\n",
       "    </tr>\n",
       "    <tr>\n",
       "      <th>15863</th>\n",
       "      <td>0</td>\n",
       "      <td>0.000000</td>\n",
       "      <td>0.0</td>\n",
       "      <td>0.014420</td>\n",
       "      <td>NaN</td>\n",
       "      <td>0.000000</td>\n",
       "      <td>0.000000e+00</td>\n",
       "      <td>2.493049e-61</td>\n",
       "      <td>0.025147</td>\n",
       "      <td>0.0</td>\n",
       "      <td>0.046317</td>\n",
       "      <td>NaN</td>\n",
       "      <td>0.000000</td>\n",
       "      <td>0.000000e+00</td>\n",
       "      <td>0.000000e+00</td>\n",
       "    </tr>\n",
       "    <tr>\n",
       "      <th>...</th>\n",
       "      <td>...</td>\n",
       "      <td>...</td>\n",
       "      <td>...</td>\n",
       "      <td>...</td>\n",
       "      <td>...</td>\n",
       "      <td>...</td>\n",
       "      <td>...</td>\n",
       "      <td>...</td>\n",
       "      <td>...</td>\n",
       "      <td>...</td>\n",
       "      <td>...</td>\n",
       "      <td>...</td>\n",
       "      <td>...</td>\n",
       "      <td>...</td>\n",
       "      <td>...</td>\n",
       "    </tr>\n",
       "    <tr>\n",
       "      <th>21575</th>\n",
       "      <td>1</td>\n",
       "      <td>0.317804</td>\n",
       "      <td>0.0</td>\n",
       "      <td>NaN</td>\n",
       "      <td>NaN</td>\n",
       "      <td>0.106411</td>\n",
       "      <td>5.334708e-83</td>\n",
       "      <td>0.000000e+00</td>\n",
       "      <td>0.118575</td>\n",
       "      <td>0.0</td>\n",
       "      <td>NaN</td>\n",
       "      <td>NaN</td>\n",
       "      <td>0.000000</td>\n",
       "      <td>1.263573e-62</td>\n",
       "      <td>2.982453e-29</td>\n",
       "    </tr>\n",
       "    <tr>\n",
       "      <th>5390</th>\n",
       "      <td>0</td>\n",
       "      <td>0.000000</td>\n",
       "      <td>0.0</td>\n",
       "      <td>0.035732</td>\n",
       "      <td>NaN</td>\n",
       "      <td>0.000000</td>\n",
       "      <td>0.000000e+00</td>\n",
       "      <td>2.126107e-87</td>\n",
       "      <td>0.046740</td>\n",
       "      <td>0.0</td>\n",
       "      <td>0.069236</td>\n",
       "      <td>NaN</td>\n",
       "      <td>0.019816</td>\n",
       "      <td>6.132651e-37</td>\n",
       "      <td>3.338669e-102</td>\n",
       "    </tr>\n",
       "    <tr>\n",
       "      <th>860</th>\n",
       "      <td>1</td>\n",
       "      <td>0.000000</td>\n",
       "      <td>0.0</td>\n",
       "      <td>0.036884</td>\n",
       "      <td>NaN</td>\n",
       "      <td>0.000000</td>\n",
       "      <td>0.000000e+00</td>\n",
       "      <td>1.096428e-58</td>\n",
       "      <td>0.000000</td>\n",
       "      <td>0.0</td>\n",
       "      <td>0.026148</td>\n",
       "      <td>NaN</td>\n",
       "      <td>0.000000</td>\n",
       "      <td>1.024834e-65</td>\n",
       "      <td>4.944755e-77</td>\n",
       "    </tr>\n",
       "    <tr>\n",
       "      <th>15795</th>\n",
       "      <td>1</td>\n",
       "      <td>0.069807</td>\n",
       "      <td>0.0</td>\n",
       "      <td>NaN</td>\n",
       "      <td>NaN</td>\n",
       "      <td>0.095726</td>\n",
       "      <td>6.009113e-56</td>\n",
       "      <td>0.000000e+00</td>\n",
       "      <td>0.170213</td>\n",
       "      <td>0.0</td>\n",
       "      <td>NaN</td>\n",
       "      <td>NaN</td>\n",
       "      <td>0.019335</td>\n",
       "      <td>0.000000e+00</td>\n",
       "      <td>0.000000e+00</td>\n",
       "    </tr>\n",
       "    <tr>\n",
       "      <th>23654</th>\n",
       "      <td>1</td>\n",
       "      <td>0.123723</td>\n",
       "      <td>0.0</td>\n",
       "      <td>NaN</td>\n",
       "      <td>NaN</td>\n",
       "      <td>0.046349</td>\n",
       "      <td>4.326897e-73</td>\n",
       "      <td>0.000000e+00</td>\n",
       "      <td>0.028315</td>\n",
       "      <td>0.0</td>\n",
       "      <td>0.043040</td>\n",
       "      <td>NaN</td>\n",
       "      <td>0.000000</td>\n",
       "      <td>3.308121e-77</td>\n",
       "      <td>6.026703e-77</td>\n",
       "    </tr>\n",
       "  </tbody>\n",
       "</table>\n",
       "<p>14400 rows × 15 columns</p>\n",
       "</div>"
      ],
      "text/plain": [
       "       C  pagerank  betweenness  closeness  eigenvector      katz  \\\n",
       "8063   1  0.000000          0.0   0.032052          NaN  0.000000   \n",
       "4812   0  0.000000          0.0   0.027383          NaN  0.000000   \n",
       "2126   1  0.000000          0.0   0.001437          NaN  0.000000   \n",
       "20503  0  0.205827          0.0        NaN          NaN  0.076921   \n",
       "15863  0  0.000000          0.0   0.014420          NaN  0.000000   \n",
       "...   ..       ...          ...        ...          ...       ...   \n",
       "21575  1  0.317804          0.0        NaN          NaN  0.106411   \n",
       "5390   0  0.000000          0.0   0.035732          NaN  0.000000   \n",
       "860    1  0.000000          0.0   0.036884          NaN  0.000000   \n",
       "15795  1  0.069807          0.0        NaN          NaN  0.095726   \n",
       "23654  1  0.123723          0.0        NaN          NaN  0.046349   \n",
       "\n",
       "          authority           hub  pagerank_shuffled  betweenness_shuffled  \\\n",
       "8063   0.000000e+00  1.450147e-94           0.000000                   0.0   \n",
       "4812   0.000000e+00  6.836651e-95           0.072116                   0.0   \n",
       "2126   0.000000e+00  1.523836e-52           0.000000                   0.0   \n",
       "20503  7.045160e-87  0.000000e+00           0.754861                   0.0   \n",
       "15863  0.000000e+00  2.493049e-61           0.025147                   0.0   \n",
       "...             ...           ...                ...                   ...   \n",
       "21575  5.334708e-83  0.000000e+00           0.118575                   0.0   \n",
       "5390   0.000000e+00  2.126107e-87           0.046740                   0.0   \n",
       "860    0.000000e+00  1.096428e-58           0.000000                   0.0   \n",
       "15795  6.009113e-56  0.000000e+00           0.170213                   0.0   \n",
       "23654  4.326897e-73  0.000000e+00           0.028315                   0.0   \n",
       "\n",
       "       closeness_shuffled  eigenvector_shuffled  katz_shuffled  \\\n",
       "8063                  NaN                   NaN       0.032320   \n",
       "4812             0.008196                   NaN       0.000000   \n",
       "2126             0.018443                   NaN       0.018299   \n",
       "20503            0.040617                   NaN       0.000000   \n",
       "15863            0.046317                   NaN       0.000000   \n",
       "...                   ...                   ...            ...   \n",
       "21575                 NaN                   NaN       0.000000   \n",
       "5390             0.069236                   NaN       0.019816   \n",
       "860              0.026148                   NaN       0.000000   \n",
       "15795                 NaN                   NaN       0.019335   \n",
       "23654            0.043040                   NaN       0.000000   \n",
       "\n",
       "       authority_shuffled   hub_shuffled  \n",
       "8063         8.897694e-77   6.282860e-93  \n",
       "4812         3.237512e-44   0.000000e+00  \n",
       "2126         5.736236e-95  3.672094e-121  \n",
       "20503        0.000000e+00   0.000000e+00  \n",
       "15863        0.000000e+00   0.000000e+00  \n",
       "...                   ...            ...  \n",
       "21575        1.263573e-62   2.982453e-29  \n",
       "5390         6.132651e-37  3.338669e-102  \n",
       "860          1.024834e-65   4.944755e-77  \n",
       "15795        0.000000e+00   0.000000e+00  \n",
       "23654        3.308121e-77   6.026703e-77  \n",
       "\n",
       "[14400 rows x 15 columns]"
      ]
     },
     "execution_count": 339,
     "metadata": {},
     "output_type": "execute_result"
    }
   ],
   "source": [
    "X_train.copy().iloc[:,-15:]"
   ]
  },
  {
   "cell_type": "markdown",
   "id": "89ed18f7",
   "metadata": {},
   "source": [
    "## Convert to H20\n",
    "also some simple tests"
   ]
  },
  {
   "cell_type": "code",
   "execution_count": 340,
   "id": "cbda995d",
   "metadata": {
    "ExecuteTime": {
     "end_time": "2023-06-29T21:27:10.355085Z",
     "start_time": "2023-06-29T21:27:08.022325Z"
    }
   },
   "outputs": [
    {
     "name": "stdout",
     "output_type": "stream",
     "text": [
      "Parse progress: |████████████████████████████████████████████████████████████████| (done) 100%\n",
      "Parse progress: |████████████████████████████████████████████████████████████████| (done) 100%\n",
      "Parse progress: |████████████████████████████████████████████████████████████████| (done) 100%\n",
      "Parse progress: |████████████████████████████████████████████████████████████████| (done) 100%\n",
      "Parse progress: |████████████████████████████████████████████████████████████████| (done) 100%\n",
      "Parse progress: |████████████████████████████████████████████████████████████████| (done) 100%\n"
     ]
    }
   ],
   "source": [
    "X_train = convert_to_h2o_frame(X_train, binary_columns)\n",
    "X_test = convert_to_h2o_frame(X_test, binary_columns)\n",
    "X_val = convert_to_h2o_frame(X_val, binary_columns)\n",
    "\n",
    "y_train = convert_to_h2o_frame(y_train, 'default')\n",
    "y_test = convert_to_h2o_frame(y_test, 'default')\n",
    "y_val = convert_to_h2o_frame(y_val, 'default')"
   ]
  },
  {
   "cell_type": "markdown",
   "id": "3399b649",
   "metadata": {},
   "source": [
    "# Models: Training and Saving"
   ]
  },
  {
   "cell_type": "code",
   "execution_count": 344,
   "id": "b7d40323",
   "metadata": {
    "ExecuteTime": {
     "end_time": "2023-06-29T21:34:10.105516Z",
     "start_time": "2023-06-29T21:34:10.097009Z"
    }
   },
   "outputs": [],
   "source": [
    "exclude_features_distribution = read_list_from_disk(\n",
    "    directory=data_directory,\n",
    "    filename=preprocessed_filename,\n",
    "    parameters=\"exclude_features_distribution\")\n",
    "exclude_features_selectionMethod = read_list_from_disk(\n",
    "    directory=data_directory,\n",
    "    filename=preprocessed_filename,\n",
    "    parameters=\"exclude_features_selectionMethod\")\n",
    "exclude_features_distribution\n",
    "exclude_features_selectionMethod\n",
    "\n",
    "exclude_features_validationSet = [\n",
    "    'Hour.0', 'Hour.1', 'Hour.2', 'Hour.3', 'Hour.4', 'Hour.5', 'Hour.6',\n",
    "    'Hour.7', 'Hour.8', 'Hour.9', 'Hour.10', 'Hour.11', 'Hour.12', 'Hour.13',\n",
    "    'Hour.14', 'Hour.15', 'Hour.16', 'Hour.17', 'Hour.18', 'Hour.19',\n",
    "    'Hour.20', 'Hour.21', 'Hour.22', 'weekday.1', 'weekday.2', 'weekday.3',\n",
    "    'weekday.4', 'weekday.5', 'weekday.6', 'use.0', 'use.1', 'use.2', 'use.3',\n",
    "    'use.4', 'use.5', 'use.6', 'use.7', 'use.8', 'use.m', 'marital.1',\n",
    "    'marital.2', 'marital.3', 'marital.4', 'marital.5', 'Other', 'Processing',\n",
    "    'Retail.wholesale', 'Transport.warehousing', 'Info.telecom',\n",
    "    'Finance.insurance', 'Civil.service.military', 'Education',\n",
    "    'Healthcare.social.help', 'Agriculture.for.fish', 'tenant.pfp',\n",
    "    'council.house', 'joint.tenant', 'mortgage', 'no.refin.00', 'no.refin.01',\n",
    "    'no.refin.02', 'no.refin.03', 'no.refin.04'\n",
    "]\n",
    "\"\"\"\n",
    "exclude_features_validationSet = [\n",
    "    'new', 'Gender', 'Interest', 'NoOfPreviousLoansBeforeLoan', 'Hour.0',\n",
    "    'Hour.1', 'Hour.2', 'Hour.3', 'Hour.4', 'Hour.5', 'Hour.6', 'Hour.7',\n",
    "    'Hour.8', 'Hour.9', 'Hour.10', 'Hour.11', 'Hour.12', 'Hour.13', 'Hour.14',\n",
    "    'Hour.15', 'Hour.16', 'Hour.17', 'Hour.18', 'Hour.19', 'Hour.20',\n",
    "    'Hour.21', 'Hour.22', 'weekday.1', 'weekday.2', 'weekday.3', 'weekday.4',\n",
    "    'weekday.5', 'weekday.6', 'ver.3', 'ver.4', 'duration.06', 'duration.09',\n",
    "    'duration.12', 'duration.18', 'duration.24', 'duration.36', 'duration.48',\n",
    "    'duration.60', 'use.0', 'use.1', 'use.2', 'use.3', 'use.4', 'use.5',\n",
    "    'use.6', 'use.7', 'use.8', 'educ.2', 'educ.3', 'educ.4', 'educ.5',\n",
    "    'marital.1', 'marital.2', 'marital.3', 'marital.4', 'marital.5', 'depen.0',\n",
    "    'depen.1', 'depen.2', 'depen.3', 'depen.4', 'employ.2', 'employ.3',\n",
    "    'employ.4', 'employ.5', 'employ.6', 'em.dur.other', 'em.dur.ret',\n",
    "    'em.dur.trial', 'em.dur.1y', 'em.dur.2y', 'em.dur.3y', 'em.dur.4y',\n",
    "    'em.dur.5y', 'exper.02y', 'exper.05y', 'exper.10y', 'exper.15y',\n",
    "    'exper.25y', 'exper.25p', 'Other', 'Processing', 'Energy', 'Construction',\n",
    "    'Retail.wholesale', 'Transport.warehousing', 'Hospitality.catering',\n",
    "    'Info.telecom', 'Finance.insurance', 'Real.estate', 'Research',\n",
    "    'Administrative', 'Civil.service.military', 'Education',\n",
    "    'Healthcare.social.help', 'Art.entertainment', 'Agriculture.for.fish',\n",
    "    'homeless', 'owner', 'livingw.parents', 'tenant.pfp', 'council.house',\n",
    "    'joint.tenant', 'joint.ownership', 'mortgage', 'encumbrance',\n",
    "    'inc.princ.empl.l', 'inc.pension.l', 'inc.fam.all.l', 'inc.soc.wel.l',\n",
    "    'inc.leave.l', 'inc.child.l', 'inc.other.l', 'inc.total', 'no.liab.00',\n",
    "    'no.liab.01', 'no.liab.02', 'no.liab.03', 'no.liab.04', 'no.liab.05',\n",
    "    'no.liab.10', 'liab.l', 'no.refin.00', 'no.refin.01', 'no.refin.02',\n",
    "    'no.refin.03', 'no.refin.04', 'inc.support', 'FreeCash.l',\n",
    "    'no.previous.loan.00', 'no.previous.loan.01', 'no.previous.loan.02',\n",
    "    'no.previous.loan.03', 'no.previous.loan.04', 'no.previous.loan.05',\n",
    "    'no.previous.loan.06', 'no.previous.loan.07', 'no.previous.repay.00',\n",
    "    'no.previous.repay.01', 'previous.repay.l', 'A', 'B', 'C'\n",
    "]\n",
    "\"\"\"\n",
    "exclude_LIST = [\n",
    "    #This is EXCLUDE list!!!\n",
    "    #When you change this list, it must keep two dimentions, and contains only strings\n",
    "    #All initial columns - uninformative features\n",
    "    list(\n",
    "        set([\n",
    "            'pagerank', 'betweenness', 'closeness', 'eigenvector', 'katz',\n",
    "            'authority', 'hub', 'pagerank_shuffled', 'betweenness_shuffled',\n",
    "            'closeness_shuffled', 'eigenvector_shuffled', 'katz_shuffled',\n",
    "            'authority_shuffled', 'hub_shuffled'\n",
    "        ] + exclude_features_distribution + exclude_features_selectionMethod +\n",
    "            exclude_features_validationSet)),\n",
    "    #Initial columns - uninformative features + informative graph features\n",
    "    list(\n",
    "        set([\n",
    "            'pagerank_shuffled', 'betweenness_shuffled', 'closeness_shuffled',\n",
    "            'eigenvector_shuffled', 'katz_shuffled', 'authority_shuffled',\n",
    "            'hub_shuffled'\n",
    "        ] + exclude_features_distribution + exclude_features_selectionMethod +\n",
    "            exclude_features_validationSet)),\n",
    "    #All initial columns - uninformative features\n",
    "    list(\n",
    "        set([\n",
    "            'pagerank', 'betweenness', 'closeness', 'eigenvector', 'katz',\n",
    "            'authority', 'hub', 'pagerank_shuffled', 'betweenness_shuffled',\n",
    "            'closeness_shuffled', 'eigenvector_shuffled', 'katz_shuffled',\n",
    "            'authority_shuffled', 'hub_shuffled'\n",
    "        ] + exclude_features_distribution + exclude_features_selectionMethod +\n",
    "            exclude_features_validationSet)),\n",
    "    #Initial columns - uninformative features + shuffled  graph features\n",
    "    list(\n",
    "        set([\n",
    "            'pagerank', 'betweenness', 'closeness', 'eigenvector', 'katz',\n",
    "            'authority', 'hub'\n",
    "        ] + exclude_features_distribution + exclude_features_selectionMethod +\n",
    "            exclude_features_validationSet))\n",
    "]"
   ]
  },
  {
   "cell_type": "markdown",
   "id": "381b63e2",
   "metadata": {},
   "source": [
    "## Train the H20 model and save"
   ]
  },
  {
   "cell_type": "code",
   "execution_count": 345,
   "id": "8bcd66c9",
   "metadata": {
    "ExecuteTime": {
     "end_time": "2023-06-29T21:34:12.523227Z",
     "start_time": "2023-06-29T21:34:12.518763Z"
    }
   },
   "outputs": [
    {
     "data": {
      "text/plain": [
       "['RF']"
      ]
     },
     "execution_count": 345,
     "metadata": {},
     "output_type": "execute_result"
    }
   ],
   "source": [
    "model_to_train = ['RF']\n",
    "model_to_train"
   ]
  },
  {
   "cell_type": "code",
   "execution_count": 346,
   "id": "4d5a8bc0",
   "metadata": {
    "ExecuteTime": {
     "end_time": "2023-06-29T21:35:24.189283Z",
     "start_time": "2023-06-29T21:34:14.921383Z"
    },
    "code_folding": [],
    "scrolled": false
   },
   "outputs": [
    {
     "name": "stdout",
     "output_type": "stream",
     "text": [
      "Model info: {'model': <class 'h2o.estimators.random_forest.H2ORandomForestEstimator'>, 'model_name': 'RF', 'hyper_params': {'ntrees': [150, 250], 'max_depth': [20]}, 'params': {}}\n",
      "\n",
      "['A', 'Administrative', 'Agriculture.for.fish', 'AmountOfPreviousLoansBeforeLoan', 'Art.entertainment', 'Civil.service.military', 'Construction', 'Education', 'Energy', 'Finance.insurance', 'FreeCash.l', 'Healthcare.social.help', 'Hospitality.catering', 'Hour.0', 'Hour.1', 'Hour.10', 'Hour.11', 'Hour.12', 'Hour.13', 'Hour.14', 'Hour.15', 'Hour.16', 'Hour.17', 'Hour.18', 'Hour.19', 'Hour.2', 'Hour.20', 'Hour.21', 'Hour.22', 'Hour.3', 'Hour.4', 'Hour.5', 'Hour.6', 'Hour.7', 'Hour.8', 'Hour.9', 'Info.telecom', 'Interest', 'Other', 'Processing', 'Real.estate', 'Research', 'Retail.wholesale', 'Transport.warehousing', 'authority', 'authority_shuffled', 'betweenness', 'betweenness_shuffled', 'closeness', 'closeness_shuffled', 'council.house', 'depen.0', 'depen.1', 'depen.4', 'eigenvector', 'eigenvector_shuffled', 'em.dur.trial', 'employ.2', 'employ.3', 'employ.4', 'employ.6', 'exper.10y', 'hub', 'hub_shuffled', 'inc.child.l', 'inc.fam.all.l', 'inc.leave.l', 'inc.other.l', 'inc.pension.l', 'inc.princ.empl.l', 'inc.soc.wel.l', 'inc.support', 'inc.total', 'joint.tenant', 'katz', 'katz_shuffled', 'liab.l', 'marital.1', 'marital.2', 'marital.3', 'marital.4', 'marital.5', 'mortgage', 'no.previous.loan.00', 'no.previous.repay.00', 'no.previous.repay.01', 'no.refin.00', 'no.refin.01', 'no.refin.02', 'no.refin.03', 'no.refin.04', 'pagerank', 'pagerank_shuffled', 'previous.repay.l', 'tenant.pfp', 'use.0', 'use.1', 'use.2', 'use.3', 'use.4', 'use.5', 'use.6', 'use.7', 'use.8', 'use.m', 'weekday.1', 'weekday.2', 'weekday.3', 'weekday.4', 'weekday.5', 'weekday.6']\n",
      "\n",
      "drf Grid Build progress: |███████████████████████████████████████████████████████| (done) 100%\n",
      "Model id: c4ee2ff8112844d2fcfdce26028316488542f1c20c5ea90b7a86823bfc2d1a87\n",
      "\n",
      "\n",
      "Model AUC: 0.7544605152027027\n",
      "\n",
      "\n",
      "Model id: 9cdf59b4ad433a59144fb30e6ad344140da627c4f66d04c027a90c837961acd3\n",
      "\n",
      "\n",
      "Model AUC: 0.7560293704991998\n",
      "\n",
      "\n",
      "Best hyper parameters: {'ntrees': 250, 'max_depth': 20}\n",
      "\n",
      "Best model id: 9cdf59b4ad433a59144fb30e6ad344140da627c4f66d04c027a90c837961acd3\n",
      "\n",
      "\n",
      "['A', 'Administrative', 'Agriculture.for.fish', 'AmountOfPreviousLoansBeforeLoan', 'Art.entertainment', 'Civil.service.military', 'Construction', 'Education', 'Energy', 'Finance.insurance', 'FreeCash.l', 'Healthcare.social.help', 'Hospitality.catering', 'Hour.0', 'Hour.1', 'Hour.10', 'Hour.11', 'Hour.12', 'Hour.13', 'Hour.14', 'Hour.15', 'Hour.16', 'Hour.17', 'Hour.18', 'Hour.19', 'Hour.2', 'Hour.20', 'Hour.21', 'Hour.22', 'Hour.3', 'Hour.4', 'Hour.5', 'Hour.6', 'Hour.7', 'Hour.8', 'Hour.9', 'Info.telecom', 'Interest', 'Other', 'Processing', 'Real.estate', 'Research', 'Retail.wholesale', 'Transport.warehousing', 'authority', 'authority_shuffled', 'betweenness_shuffled', 'closeness_shuffled', 'council.house', 'depen.0', 'depen.1', 'depen.4', 'eigenvector', 'eigenvector_shuffled', 'em.dur.trial', 'employ.2', 'employ.3', 'employ.4', 'employ.6', 'exper.10y', 'hub', 'hub_shuffled', 'inc.child.l', 'inc.fam.all.l', 'inc.leave.l', 'inc.other.l', 'inc.pension.l', 'inc.princ.empl.l', 'inc.soc.wel.l', 'inc.support', 'inc.total', 'joint.tenant', 'katz_shuffled', 'liab.l', 'marital.1', 'marital.2', 'marital.3', 'marital.4', 'marital.5', 'mortgage', 'no.previous.loan.00', 'no.previous.repay.00', 'no.previous.repay.01', 'no.refin.00', 'no.refin.01', 'no.refin.02', 'no.refin.03', 'no.refin.04', 'pagerank_shuffled', 'previous.repay.l', 'tenant.pfp', 'use.0', 'use.1', 'use.2', 'use.3', 'use.4', 'use.5', 'use.6', 'use.7', 'use.8', 'use.m', 'weekday.1', 'weekday.2', 'weekday.3', 'weekday.4', 'weekday.5', 'weekday.6']\n",
      "\n",
      "drf Grid Build progress: |███████████████████████████████████████████████████████| (done) 100%\n",
      "Model id: c2ea016c5511d6e17b85ee9eae5e8b65cba096036db5df6071dbeae0fcd49d12\n",
      "\n",
      "\n",
      "Model AUC: 0.8659488249299875\n",
      "\n",
      "\n",
      "Model id: f3359fc3af41dc092f7c7f94e381d98d85bb6ef73a72bf60f77f81301b1b5b00\n",
      "\n",
      "\n",
      "Model AUC: 0.8662500937666696\n",
      "\n",
      "\n",
      "Best hyper parameters: {'ntrees': 250, 'max_depth': 20}\n",
      "\n",
      "Best model id: f3359fc3af41dc092f7c7f94e381d98d85bb6ef73a72bf60f77f81301b1b5b00\n",
      "\n",
      "\n",
      "['A', 'Administrative', 'Agriculture.for.fish', 'AmountOfPreviousLoansBeforeLoan', 'Art.entertainment', 'Civil.service.military', 'Construction', 'Education', 'Energy', 'Finance.insurance', 'FreeCash.l', 'Healthcare.social.help', 'Hospitality.catering', 'Hour.0', 'Hour.1', 'Hour.10', 'Hour.11', 'Hour.12', 'Hour.13', 'Hour.14', 'Hour.15', 'Hour.16', 'Hour.17', 'Hour.18', 'Hour.19', 'Hour.2', 'Hour.20', 'Hour.21', 'Hour.22', 'Hour.3', 'Hour.4', 'Hour.5', 'Hour.6', 'Hour.7', 'Hour.8', 'Hour.9', 'Info.telecom', 'Interest', 'Other', 'Processing', 'Real.estate', 'Research', 'Retail.wholesale', 'Transport.warehousing', 'authority', 'authority_shuffled', 'betweenness', 'betweenness_shuffled', 'closeness', 'closeness_shuffled', 'council.house', 'depen.0', 'depen.1', 'depen.4', 'eigenvector', 'eigenvector_shuffled', 'em.dur.trial', 'employ.2', 'employ.3', 'employ.4', 'employ.6', 'exper.10y', 'hub', 'hub_shuffled', 'inc.child.l', 'inc.fam.all.l', 'inc.leave.l', 'inc.other.l', 'inc.pension.l', 'inc.princ.empl.l', 'inc.soc.wel.l', 'inc.support', 'inc.total', 'joint.tenant', 'katz', 'katz_shuffled', 'liab.l', 'marital.1', 'marital.2', 'marital.3', 'marital.4', 'marital.5', 'mortgage', 'no.previous.loan.00', 'no.previous.repay.00', 'no.previous.repay.01', 'no.refin.00', 'no.refin.01', 'no.refin.02', 'no.refin.03', 'no.refin.04', 'pagerank', 'pagerank_shuffled', 'previous.repay.l', 'tenant.pfp', 'use.0', 'use.1', 'use.2', 'use.3', 'use.4', 'use.5', 'use.6', 'use.7', 'use.8', 'use.m', 'weekday.1', 'weekday.2', 'weekday.3', 'weekday.4', 'weekday.5', 'weekday.6']\n",
      "\n",
      "['A', 'Administrative', 'Agriculture.for.fish', 'AmountOfPreviousLoansBeforeLoan', 'Art.entertainment', 'Civil.service.military', 'Construction', 'Education', 'Energy', 'Finance.insurance', 'FreeCash.l', 'Healthcare.social.help', 'Hospitality.catering', 'Hour.0', 'Hour.1', 'Hour.10', 'Hour.11', 'Hour.12', 'Hour.13', 'Hour.14', 'Hour.15', 'Hour.16', 'Hour.17', 'Hour.18', 'Hour.19', 'Hour.2', 'Hour.20', 'Hour.21', 'Hour.22', 'Hour.3', 'Hour.4', 'Hour.5', 'Hour.6', 'Hour.7', 'Hour.8', 'Hour.9', 'Info.telecom', 'Interest', 'Other', 'Processing', 'Real.estate', 'Research', 'Retail.wholesale', 'Transport.warehousing', 'authority', 'authority_shuffled', 'betweenness', 'closeness', 'council.house', 'depen.0', 'depen.1', 'depen.4', 'eigenvector', 'eigenvector_shuffled', 'em.dur.trial', 'employ.2', 'employ.3', 'employ.4', 'employ.6', 'exper.10y', 'hub', 'hub_shuffled', 'inc.child.l', 'inc.fam.all.l', 'inc.leave.l', 'inc.other.l', 'inc.pension.l', 'inc.princ.empl.l', 'inc.soc.wel.l', 'inc.support', 'inc.total', 'joint.tenant', 'katz', 'liab.l', 'marital.1', 'marital.2', 'marital.3', 'marital.4', 'marital.5', 'mortgage', 'no.previous.loan.00', 'no.previous.repay.00', 'no.previous.repay.01', 'no.refin.00', 'no.refin.01', 'no.refin.02', 'no.refin.03', 'no.refin.04', 'pagerank', 'previous.repay.l', 'tenant.pfp', 'use.0', 'use.1', 'use.2', 'use.3', 'use.4', 'use.5', 'use.6', 'use.7', 'use.8', 'use.m', 'weekday.1', 'weekday.2', 'weekday.3', 'weekday.4', 'weekday.5', 'weekday.6']\n",
      "\n",
      "drf Grid Build progress: |███████████████████████████████████████████████████████| (done) 100%\n",
      "Model id: 393b91c8e853e8319118eddaf49732cc15c3a29df7fcee2786dcf216d66ffa9a\n",
      "\n",
      "\n",
      "Model AUC: 0.7514364532861397\n",
      "\n",
      "\n",
      "Model id: fac2773c54d39aecb57d455c925c0a8642fb5fb5ed0a0468f97bbbfee51a6171\n",
      "\n",
      "\n",
      "Model AUC: 0.7526320651449147\n",
      "\n",
      "\n",
      "Best hyper parameters: {'ntrees': 250, 'max_depth': 20}\n",
      "\n",
      "Best model id: fac2773c54d39aecb57d455c925c0a8642fb5fb5ed0a0468f97bbbfee51a6171\n",
      "\n",
      "\n"
     ]
    }
   ],
   "source": [
    "model_training_and_saving(X_train=X_train,\n",
    "                          X_val=X_test,\n",
    "                          y_train=y_train,\n",
    "                          y_val=y_test,\n",
    "                          exclude_LIST=exclude_LIST,\n",
    "                          models_and_hyperparams=models_and_hyperparams,\n",
    "                          model_to_train=model_to_train,\n",
    "                          model_directory=model_directory,\n",
    "                          run_explanation=run_explanation,\n",
    "                          output_filepath=None,\n",
    "                          print_training_info=False,\n",
    "                          force_return=True)"
   ]
  },
  {
   "cell_type": "code",
   "execution_count": 347,
   "id": "1068ce48",
   "metadata": {
    "ExecuteTime": {
     "end_time": "2023-06-29T21:38:06.922441Z",
     "start_time": "2023-06-29T21:38:06.916648Z"
    }
   },
   "outputs": [],
   "source": [
    "model_to_analyse = ['GLM']\n",
    "hash_LIST = [\n",
    "    '151568ddc12bea2d4fa97fe8f254a3408a7c88cfd8090ceb1ed1e990c07576bb',\n",
    "    'a274aa86e5e36172d1886f51a8e598abbfdb18dcd5d78cdb34db1645610ea7a2',\n",
    "    '151568ddc12bea2d4fa97fe8f254a3408a7c88cfd8090ceb1ed1e990c07576bb',\n",
    "    '54463313c38c219528f7b860d76dd6750139d68693abe665a6ed57d6cb24d831'\n",
    "]\n",
    "exclude_features_validationSet = [\n",
    "    'new', 'Gender', 'Interest', 'NoOfPreviousLoansBeforeLoan', 'Hour.0',\n",
    "    'Hour.1', 'Hour.2', 'Hour.3', 'Hour.4', 'Hour.5', 'Hour.6', 'Hour.7',\n",
    "    'Hour.8', 'Hour.9', 'Hour.10', 'Hour.11', 'Hour.12', 'Hour.13', 'Hour.14',\n",
    "    'Hour.15', 'Hour.16', 'Hour.17', 'Hour.18', 'Hour.19', 'Hour.20',\n",
    "    'Hour.21', 'Hour.22', 'weekday.1', 'weekday.2', 'weekday.3', 'weekday.4',\n",
    "    'weekday.5', 'weekday.6', 'ver.3', 'ver.4', 'duration.06', 'duration.09',\n",
    "    'duration.12', 'duration.18', 'duration.24', 'duration.36', 'duration.48',\n",
    "    'duration.60', 'use.0', 'use.1', 'use.2', 'use.3', 'use.4', 'use.5',\n",
    "    'use.6', 'use.7', 'use.8', 'educ.2', 'educ.3', 'educ.4', 'educ.5',\n",
    "    'marital.1', 'marital.2', 'marital.3', 'marital.4', 'marital.5', 'depen.0',\n",
    "    'depen.1', 'depen.2', 'depen.3', 'depen.4', 'employ.2', 'employ.3',\n",
    "    'employ.4', 'employ.5', 'employ.6', 'em.dur.other', 'em.dur.ret',\n",
    "    'em.dur.trial', 'em.dur.1y', 'em.dur.2y', 'em.dur.3y', 'em.dur.4y',\n",
    "    'em.dur.5y', 'exper.02y', 'exper.05y', 'exper.10y', 'exper.15y',\n",
    "    'exper.25y', 'exper.25p', 'Other', 'Processing', 'Energy', 'Construction',\n",
    "    'Retail.wholesale', 'Transport.warehousing', 'Hospitality.catering',\n",
    "    'Info.telecom', 'Finance.insurance', 'Real.estate', 'Research',\n",
    "    'Administrative', 'Civil.service.military', 'Education',\n",
    "    'Healthcare.social.help', 'Art.entertainment', 'Agriculture.for.fish',\n",
    "    'homeless', 'owner', 'livingw.parents', 'tenant.pfp', 'council.house',\n",
    "    'joint.tenant', 'joint.ownership', 'mortgage', 'encumbrance',\n",
    "    'inc.princ.empl.l', 'inc.pension.l', 'inc.fam.all.l', 'inc.soc.wel.l',\n",
    "    'inc.leave.l', 'inc.child.l', 'inc.other.l', 'inc.total', 'no.liab.00',\n",
    "    'no.liab.01', 'no.liab.02', 'no.liab.03', 'no.liab.04', 'no.liab.05',\n",
    "    'no.liab.10', 'liab.l', 'no.refin.00', 'no.refin.01', 'no.refin.02',\n",
    "    'no.refin.03', 'no.refin.04', 'inc.support', 'FreeCash.l',\n",
    "    'no.previous.loan.00', 'no.previous.loan.01', 'no.previous.loan.02',\n",
    "    'no.previous.loan.03', 'no.previous.loan.04', 'no.previous.loan.05',\n",
    "    'no.previous.loan.06', 'no.previous.loan.07', 'no.previous.repay.00',\n",
    "    'no.previous.repay.01', 'previous.repay.l', 'A', 'B', 'C'\n",
    "]"
   ]
  },
  {
   "cell_type": "code",
   "execution_count": 348,
   "id": "0f43d9f5",
   "metadata": {
    "ExecuteTime": {
     "end_time": "2023-06-29T21:38:10.885763Z",
     "start_time": "2023-06-29T21:38:08.265909Z"
    }
   },
   "outputs": [
    {
     "name": "stderr",
     "output_type": "stream",
     "text": [
      "R[write to console]: Setting levels: control = 0, case = 1\n",
      "\n",
      "R[write to console]: Setting direction: controls < cases\n",
      "\n",
      "R[write to console]: Setting levels: control = 0, case = 1\n",
      "\n",
      "R[write to console]: Setting direction: controls < cases\n",
      "\n"
     ]
    },
    {
     "name": "stdout",
     "output_type": "stream",
     "text": [
      "glm prediction progress: |███████████████████████████████████████████████████████| (done) 100%\n",
      "glm prediction progress: |███████████████████████████████████████████████████████| (done) 100%\n"
     ]
    },
    {
     "name": "stderr",
     "output_type": "stream",
     "text": [
      "R[write to console]: Setting levels: control = 0, case = 1\n",
      "\n",
      "R[write to console]: Setting direction: controls < cases\n",
      "\n",
      "R[write to console]: Setting levels: control = 0, case = 1\n",
      "\n",
      "R[write to console]: Setting direction: controls < cases\n",
      "\n"
     ]
    },
    {
     "name": "stdout",
     "output_type": "stream",
     "text": [
      "glm prediction progress: |███████████████████████████████████████████████████████| (done) 100%\n",
      "glm prediction progress: |███████████████████████████████████████████████████████| (done) 100%\n",
      "No problems encountered during model comparison.\n",
      "No problems encountered during model comparison.\n"
     ]
    },
    {
     "data": {
      "text/plain": [
       "([],\n",
       " '/Users/yil1/GitHub/P2P-Model-Bondora/graph/test/feature_importance/preprocessed_shuffled/GLM.pdf')"
      ]
     },
     "execution_count": 348,
     "metadata": {},
     "output_type": "execute_result"
    },
    {
     "data": {
      "text/plain": [
       "<Figure size 640x480 with 0 Axes>"
      ]
     },
     "metadata": {},
     "output_type": "display_data"
    },
    {
     "data": {
      "image/png": "[encoded data removed]",
      "text/plain": [
       "<Figure size 3000x1000 with 1 Axes>"
      ]
     },
     "metadata": {},
     "output_type": "display_data"
    }
   ],
   "source": [
    "load_pairs_and_compare(X_test=X_test,\n",
    "                       y_test=y_test,\n",
    "                       hash_LIST=hash_LIST,\n",
    "                       model_directory=model_directory,\n",
    "                       graph_directory='graph/test',\n",
    "                       model_to_analyse=model_to_analyse,\n",
    "                       models_and_hyperparams=models_and_hyperparams,\n",
    "                       paired=True)\n",
    "feature_importance(hash_LIST=hash_LIST,\n",
    "                   models_and_hyperparams=models_and_hyperparams,\n",
    "                   model_directory=model_directory,\n",
    "                   graph_directory='graph/test',\n",
    "                   model_to_analyse=model_to_analyse,\n",
    "                   exclude_feature=exclude_features_distribution +\n",
    "                   exclude_features_selectionMethod +\n",
    "                   exclude_features_validationSet,\n",
    "                   paired=True)"
   ]
  },
  {
   "cell_type": "code",
   "execution_count": 349,
   "id": "88f3447b",
   "metadata": {
    "ExecuteTime": {
     "end_time": "2023-06-29T21:38:58.447517Z",
     "start_time": "2023-06-29T21:38:58.443406Z"
    }
   },
   "outputs": [],
   "source": [
    "model_to_analyse = ['RF']\n",
    "hash_LIST = [\n",
    "    'c4ee2ff8112844d2fcfdce26028316488542f1c20c5ea90b7a86823bfc2d1a87',\n",
    "    'c2ea016c5511d6e17b85ee9eae5e8b65cba096036db5df6071dbeae0fcd49d12',\n",
    "    'c4ee2ff8112844d2fcfdce26028316488542f1c20c5ea90b7a86823bfc2d1a87',\n",
    "    'fac2773c54d39aecb57d455c925c0a8642fb5fb5ed0a0468f97bbbfee51a6171'\n",
    "]\n",
    "exclude_features_validationSet = [\n",
    "    'Hour.0', 'Hour.1', 'Hour.2', 'Hour.3', 'Hour.4', 'Hour.5', 'Hour.6',\n",
    "    'Hour.7', 'Hour.8', 'Hour.9', 'Hour.10', 'Hour.11', 'Hour.12', 'Hour.13',\n",
    "    'Hour.14', 'Hour.15', 'Hour.16', 'Hour.17', 'Hour.18', 'Hour.19',\n",
    "    'Hour.20', 'Hour.21', 'Hour.22', 'weekday.1', 'weekday.2', 'weekday.3',\n",
    "    'weekday.4', 'weekday.5', 'weekday.6', 'use.0', 'use.1', 'use.2', 'use.3',\n",
    "    'use.4', 'use.5', 'use.6', 'use.7', 'use.8', 'use.m', 'marital.1',\n",
    "    'marital.2', 'marital.3', 'marital.4', 'marital.5', 'Other', 'Processing',\n",
    "    'Retail.wholesale', 'Transport.warehousing', 'Info.telecom',\n",
    "    'Finance.insurance', 'Civil.service.military', 'Education',\n",
    "    'Healthcare.social.help', 'Agriculture.for.fish', 'tenant.pfp',\n",
    "    'council.house', 'joint.tenant', 'mortgage', 'no.refin.00', 'no.refin.01',\n",
    "    'no.refin.02', 'no.refin.03', 'no.refin.04'\n",
    "]"
   ]
  },
  {
   "cell_type": "code",
   "execution_count": 350,
   "id": "8ebb37f9",
   "metadata": {
    "ExecuteTime": {
     "end_time": "2023-06-29T21:39:07.734041Z",
     "start_time": "2023-06-29T21:39:00.626423Z"
    }
   },
   "outputs": [
    {
     "name": "stdout",
     "output_type": "stream",
     "text": [
      "drf prediction progress: |███████████████████████████████████████████████████████| (done) 100%\n",
      "drf prediction progress: |"
     ]
    },
    {
     "name": "stderr",
     "output_type": "stream",
     "text": [
      "R[write to console]: Setting levels: control = 0, case = 1\n",
      "\n",
      "R[write to console]: Setting direction: controls < cases\n",
      "\n",
      "R[write to console]: Setting levels: control = 0, case = 1\n",
      "\n",
      "R[write to console]: Setting direction: controls < cases\n",
      "\n"
     ]
    },
    {
     "name": "stdout",
     "output_type": "stream",
     "text": [
      "███████████████████████████████████████████████████████| (done) 100%\n",
      "drf prediction progress: |███████████████████████████████████████████████████████| (done) 100%\n",
      "drf prediction progress: |"
     ]
    },
    {
     "name": "stderr",
     "output_type": "stream",
     "text": [
      "R[write to console]: Setting levels: control = 0, case = 1\n",
      "\n",
      "R[write to console]: Setting direction: controls < cases\n",
      "\n",
      "R[write to console]: Setting levels: control = 0, case = 1\n",
      "\n",
      "R[write to console]: Setting direction: controls < cases\n",
      "\n"
     ]
    },
    {
     "name": "stdout",
     "output_type": "stream",
     "text": [
      "███████████████████████████████████████████████████████| (done) 100%\n",
      "No problems encountered during model comparison.\n",
      "No problems encountered during model comparison.\n"
     ]
    },
    {
     "data": {
      "text/plain": [
       "([],\n",
       " '/Users/yil1/GitHub/P2P-Model-Bondora/graph/test/feature_importance/preprocessed_shuffled/RF.pdf')"
      ]
     },
     "execution_count": 350,
     "metadata": {},
     "output_type": "execute_result"
    },
    {
     "data": {
      "text/plain": [
       "<Figure size 640x480 with 0 Axes>"
      ]
     },
     "metadata": {},
     "output_type": "display_data"
    },
    {
     "data": {
      "image/png": "[encoded data removed]",
      "text/plain": [
       "<Figure size 3000x1000 with 1 Axes>"
      ]
     },
     "metadata": {},
     "output_type": "display_data"
    }
   ],
   "source": [
    "load_pairs_and_compare(X_test=X_test,\n",
    "                       y_test=y_test,\n",
    "                       hash_LIST=hash_LIST,\n",
    "                       model_directory=model_directory,\n",
    "                       graph_directory='graph/test',\n",
    "                       model_to_analyse=model_to_analyse,\n",
    "                       models_and_hyperparams=models_and_hyperparams,\n",
    "                       paired=True)\n",
    "feature_importance(hash_LIST=hash_LIST,\n",
    "                   models_and_hyperparams=models_and_hyperparams,\n",
    "                   model_directory=model_directory,\n",
    "                   graph_directory='graph/test',\n",
    "                   model_to_analyse=model_to_analyse,\n",
    "                   exclude_feature=exclude_features_distribution +\n",
    "                   exclude_features_selectionMethod +\n",
    "                   exclude_features_validationSet,\n",
    "                   paired=True)"
   ]
  },
  {
   "cell_type": "code",
   "execution_count": 351,
   "id": "130f4e78",
   "metadata": {
    "ExecuteTime": {
     "end_time": "2023-06-29T21:39:54.210263Z",
     "start_time": "2023-06-29T21:39:54.203155Z"
    }
   },
   "outputs": [],
   "source": [
    "model_to_analyse = ['DL']\n",
    "hash_LIST = [\n",
    "    '870a05c3203c74025350c63ce27b3e35ea2cc778a3f54249af552355300d6123',\n",
    "    'ffd02c35cd7f60d910c97abcb03ad7b9a02da51411695249b6aad5163f36f2fe',\n",
    "    '870a05c3203c74025350c63ce27b3e35ea2cc778a3f54249af552355300d6123',\n",
    "    '45c421365e3f20052c8a6b6430a01dcc9cd94fe9012fc203367e63cd954d9514'\n",
    "]\n",
    "exclude_features_validationSet = [\n",
    "    'new', 'Gender', 'Interest', 'NoOfPreviousLoansBeforeLoan', 'Hour.0',\n",
    "    'Hour.1', 'Hour.2', 'Hour.3', 'Hour.4', 'Hour.5', 'Hour.6', 'Hour.7',\n",
    "    'Hour.8', 'Hour.9', 'Hour.10', 'Hour.11', 'Hour.12', 'Hour.13', 'Hour.14',\n",
    "    'Hour.15', 'Hour.16', 'Hour.17', 'Hour.18', 'Hour.19', 'Hour.20',\n",
    "    'Hour.21', 'Hour.22', 'weekday.1', 'weekday.2', 'weekday.3', 'weekday.4',\n",
    "    'weekday.5', 'weekday.6', 'ver.3', 'ver.4', 'duration.06', 'duration.09',\n",
    "    'duration.12', 'duration.18', 'duration.24', 'duration.36', 'duration.48',\n",
    "    'duration.60', 'use.0', 'use.1', 'use.2', 'use.3', 'use.4', 'use.5',\n",
    "    'use.6', 'use.7', 'use.8', 'educ.2', 'educ.3', 'educ.4', 'educ.5',\n",
    "    'marital.1', 'marital.2', 'marital.3', 'marital.4', 'marital.5', 'depen.0',\n",
    "    'depen.1', 'depen.2', 'depen.3', 'depen.4', 'employ.2', 'employ.3',\n",
    "    'employ.4', 'employ.5', 'employ.6', 'em.dur.other', 'em.dur.ret',\n",
    "    'em.dur.trial', 'em.dur.1y', 'em.dur.2y', 'em.dur.3y', 'em.dur.4y',\n",
    "    'em.dur.5y', 'exper.02y', 'exper.05y', 'exper.10y', 'exper.15y',\n",
    "    'exper.25y', 'exper.25p', 'Other', 'Processing', 'Energy', 'Construction',\n",
    "    'Retail.wholesale', 'Transport.warehousing', 'Hospitality.catering',\n",
    "    'Info.telecom', 'Finance.insurance', 'Real.estate', 'Research',\n",
    "    'Administrative', 'Civil.service.military', 'Education',\n",
    "    'Healthcare.social.help', 'Art.entertainment', 'Agriculture.for.fish',\n",
    "    'homeless', 'owner', 'livingw.parents', 'tenant.pfp', 'council.house',\n",
    "    'joint.tenant', 'joint.ownership', 'mortgage', 'encumbrance',\n",
    "    'inc.princ.empl.l', 'inc.pension.l', 'inc.fam.all.l', 'inc.soc.wel.l',\n",
    "    'inc.leave.l', 'inc.child.l', 'inc.other.l', 'inc.total', 'no.liab.00',\n",
    "    'no.liab.01', 'no.liab.02', 'no.liab.03', 'no.liab.04', 'no.liab.05',\n",
    "    'no.liab.10', 'liab.l', 'no.refin.00', 'no.refin.01', 'no.refin.02',\n",
    "    'no.refin.03', 'no.refin.04', 'inc.support', 'FreeCash.l',\n",
    "    'no.previous.loan.00', 'no.previous.loan.01', 'no.previous.loan.02',\n",
    "    'no.previous.loan.03', 'no.previous.loan.04', 'no.previous.loan.05',\n",
    "    'no.previous.loan.06', 'no.previous.loan.07', 'no.previous.repay.00',\n",
    "    'no.previous.repay.01', 'previous.repay.l', 'A', 'B', 'C'\n",
    "]"
   ]
  },
  {
   "cell_type": "code",
   "execution_count": 352,
   "id": "37696e62",
   "metadata": {
    "ExecuteTime": {
     "end_time": "2023-06-29T21:39:59.039605Z",
     "start_time": "2023-06-29T21:39:55.120561Z"
    }
   },
   "outputs": [
    {
     "name": "stdout",
     "output_type": "stream",
     "text": [
      "deeplearning prediction progress: |██████████████████████████████████████████████| (done) 100%\n",
      "deeplearning prediction progress: |"
     ]
    },
    {
     "name": "stderr",
     "output_type": "stream",
     "text": [
      "R[write to console]: Setting levels: control = 0, case = 1\n",
      "\n",
      "R[write to console]: Setting direction: controls < cases\n",
      "\n",
      "R[write to console]: Setting levels: control = 0, case = 1\n",
      "\n",
      "R[write to console]: Setting direction: controls < cases\n",
      "\n"
     ]
    },
    {
     "name": "stdout",
     "output_type": "stream",
     "text": [
      "██████████████████████████████████████████████| (done) 100%\n",
      "deeplearning prediction progress: |██████████████████████████████████████████████| (done) 100%\n",
      "deeplearning prediction progress: |"
     ]
    },
    {
     "name": "stderr",
     "output_type": "stream",
     "text": [
      "R[write to console]: Setting levels: control = 0, case = 1\n",
      "\n",
      "R[write to console]: Setting direction: controls < cases\n",
      "\n",
      "R[write to console]: Setting levels: control = 0, case = 1\n",
      "\n",
      "R[write to console]: Setting direction: controls < cases\n",
      "\n"
     ]
    },
    {
     "name": "stdout",
     "output_type": "stream",
     "text": [
      "██████████████████████████████████████████████| (done) 100%\n",
      "No problems encountered during model comparison.\n",
      "No problems encountered during model comparison.\n"
     ]
    },
    {
     "data": {
      "text/plain": [
       "([],\n",
       " '/Users/yil1/GitHub/P2P-Model-Bondora/graph/test/feature_importance/preprocessed_shuffled/DL.pdf')"
      ]
     },
     "execution_count": 352,
     "metadata": {},
     "output_type": "execute_result"
    },
    {
     "data": {
      "text/plain": [
       "<Figure size 640x480 with 0 Axes>"
      ]
     },
     "metadata": {},
     "output_type": "display_data"
    },
    {
     "data": {
      "image/png": "[encoded data removed]",
      "text/plain": [
       "<Figure size 3000x1000 with 1 Axes>"
      ]
     },
     "metadata": {},
     "output_type": "display_data"
    }
   ],
   "source": [
    "load_pairs_and_compare(X_test=X_test,\n",
    "                       y_test=y_test,\n",
    "                       hash_LIST=hash_LIST,\n",
    "                       model_directory=model_directory,\n",
    "                       graph_directory='graph/test',\n",
    "                       model_to_analyse=model_to_analyse,\n",
    "                       models_and_hyperparams=models_and_hyperparams,\n",
    "                       paired=True)\n",
    "feature_importance(hash_LIST=hash_LIST,\n",
    "                   models_and_hyperparams=models_and_hyperparams,\n",
    "                   model_directory=model_directory,\n",
    "                   graph_directory='graph/test',\n",
    "                   model_to_analyse=model_to_analyse,\n",
    "                   exclude_feature=exclude_features_distribution +\n",
    "                   exclude_features_selectionMethod +\n",
    "                   exclude_features_validationSet,\n",
    "                   paired=True)"
   ]
  },
  {
   "cell_type": "code",
   "execution_count": null,
   "id": "3341921f",
   "metadata": {},
   "outputs": [],
   "source": []
  }
 ],
 "metadata": {
  "kernelspec": {
   "display_name": "Python 3 (ipykernel)",
   "language": "python",
   "name": "python3"
  },
  "language_info": {
   "codemirror_mode": {
    "name": "ipython",
    "version": 3
   },
   "file_extension": ".py",
   "mimetype": "text/x-python",
   "name": "python",
   "nbconvert_exporter": "python",
   "pygments_lexer": "ipython3",
   "version": "3.8.17"
  },
  "toc": {
   "base_numbering": 1,
   "nav_menu": {},
   "number_sections": true,
   "sideBar": true,
   "skip_h1_title": false,
   "title_cell": "Table of Contents",
   "title_sidebar": "Contents",
   "toc_cell": false,
   "toc_position": {
    "height": "calc(100% - 180px)",
    "left": "10px",
    "top": "150px",
    "width": "165px"
   },
   "toc_section_display": true,
   "toc_window_display": true
  },
  "varInspector": {
   "cols": {
    "lenName": 16,
    "lenType": 16,
    "lenVar": 40
   },
   "kernels_config": {
    "python": {
     "delete_cmd_postfix": "",
     "delete_cmd_prefix": "del ",
     "library": "var_list.py",
     "varRefreshCmd": "print(var_dic_list())"
    },
    "r": {
     "delete_cmd_postfix": ") ",
     "delete_cmd_prefix": "rm(",
     "library": "var_list.r",
     "varRefreshCmd": "cat(var_dic_list()) "
    }
   },
   "types_to_exclude": [
    "module",
    "function",
    "builtin_function_or_method",
    "instance",
    "_Feature"
   ],
   "window_display": false
  }
 },
 "nbformat": 4,
 "nbformat_minor": 5
}
